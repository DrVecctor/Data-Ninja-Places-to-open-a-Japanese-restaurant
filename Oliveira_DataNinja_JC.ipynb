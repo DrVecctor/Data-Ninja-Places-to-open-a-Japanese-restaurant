{
 "cells": [
  {
   "cell_type": "markdown",
   "metadata": {},
   "source": [
    "# Data Ninja - Secret places to open a restaurant\n",
    "\n",
    "**Fernanda Oliveira**  \n",
    "Data Scientist"
   ]
  },
  {
   "cell_type": "markdown",
   "metadata": {},
   "source": [
    "## Table of contents\n",
    "1. [Introduction](#introduction)\n",
    "2. [Data acquisition](#data)\n",
    "3. [Methodology](#methodology)\n",
    "4. [Analysis](#Analysis)\n",
    "5. [Results and Discussion](#results)\n",
    "6. [Conclusion](#conclusion)"
   ]
  },
  {
   "cell_type": "markdown",
   "metadata": {},
   "source": [
    "## 1. Introduction  <a name=\"introduction\"></a>"
   ]
  },
  {
   "cell_type": "markdown",
   "metadata": {},
   "source": [
    "### 1.1 Background"
   ]
  },
  {
   "cell_type": "markdown",
   "metadata": {},
   "source": [
    "The city of Berlin is well known to be a cosmopolitan city where you can find people from all around the world. Berlin offers a very wide commercial variety, especially in the area of gastronomy. The trend that comes to stay, are Asian restaurants, particularly Japanese restaurants. Although there are a lot of them spread in the city, there are new ones opening all the time. Therefore to analyze locations, types, and the number of these restaurants is a plus for those who want to open a new restaurant in the city."
   ]
  },
  {
   "cell_type": "markdown",
   "metadata": {},
   "source": [
    "### 1.2 Problem"
   ]
  },
  {
   "cell_type": "markdown",
   "metadata": {},
   "source": [
    "Searching an optimal location to open a Japanese restaurant in the city of Berlin can be challenging. One could think that the better location for it should be at a place where there is no Japanese restaurant. But the problem is that perhaps most of the interested customers instead of going to an isolated neighborhood, prefer to go to a popular neighborhood, where there are more options and also there is movement of people. At the same time that the concurrence will be big in these regions, the flux of interested customers in this specific region will be relevant as well. Many people, for example, go on the weekends to a specific Japanese restaurant and when they arrive, there is a large line waiting for them. This usually happens because it is also a new trend in Berlin, in some popular restaurants, not to have an option to make a reservation. The good news is that perhaps some of the customers, those who do not want wait too long in line, might want to search for similar options in the neighborhood. "
   ]
  },
  {
   "cell_type": "markdown",
   "metadata": {},
   "source": [
    "### 1.3 Interest"
   ]
  },
  {
   "cell_type": "markdown",
   "metadata": {},
   "source": [
    "This project is ideal for a person or a branch that is interested in opening a Japanese restaurant. "
   ]
  },
  {
   "cell_type": "markdown",
   "metadata": {},
   "source": [
    "First I will import the libraries necessary for this project."
   ]
  },
  {
   "cell_type": "code",
   "execution_count": 1,
   "metadata": {},
   "outputs": [
    {
     "name": "stdout",
     "output_type": "stream",
     "text": [
      "Libraries imported.\n"
     ]
    }
   ],
   "source": [
    "import geocoder\n",
    "from geopy.geocoders import Nominatim\n",
    "#!pip install pygeocoder\n",
    "from pygeocoder import Geocoder\n",
    "\n",
    "import numpy as np # library to handle data in a vectorized manner\n",
    "\n",
    "import pandas as pd # library for data analysis\n",
    "pd.set_option('display.max_columns', None)\n",
    "pd.set_option('display.max_rows', None)\n",
    "\n",
    "import json # library to handle JSON files\n",
    "\n",
    "#!conda install -c conda-forge geopy --yes \n",
    "from geopy.geocoders import Nominatim # convert an address into latitude and longitude values\n",
    "\n",
    "import requests # library to handle requests\n",
    "from pandas.io.json import json_normalize # tranform JSON file into a pandas dataframe\n",
    "\n",
    "# Matplotlib and associated plotting modules\n",
    "import matplotlib.cm as cm\n",
    "import matplotlib.colors as colors\n",
    "\n",
    "#!pip install seaborn\n",
    "import seaborn as sns\n",
    "import matplotlib.pyplot as plt\n",
    "\n",
    "# import k-means from clustering stage\n",
    "from sklearn.cluster import KMeans\n",
    "\n",
    "#!conda install -c conda-forge folium=0.5.0 --yes \n",
    "import folium # map rendering library\n",
    "\n",
    "print('Libraries imported.')"
   ]
  },
  {
   "cell_type": "markdown",
   "metadata": {},
   "source": [
    "## 2. Data acquisition <a name=\"Data source \"></a>"
   ]
  },
  {
   "cell_type": "markdown",
   "metadata": {},
   "source": [
    "### 2.1 Data source "
   ]
  },
  {
   "cell_type": "markdown",
   "metadata": {},
   "source": [
    "The data and tools that I will use are the following:\n",
    "\n",
    "* **Foursquare API** to select the number of restaurants and their location in some neighborhoods of Berlin\n",
    "* **Geocoder** to get the latitudes and longitudes of places to rent, together with information from https://www.sebuyo.com"
   ]
  },
  {
   "cell_type": "markdown",
   "metadata": {},
   "source": [
    "### 2.2 Feature selection"
   ]
  },
  {
   "cell_type": "markdown",
   "metadata": {},
   "source": [
    "* I will first create a dataset thought the Foursquare API, exploring several types of venues, such as, ID, name, category (Japanese restaurant), latitude, longitude, neighborhood and distance (in meters) to Charllotenburg, a borough of Berlin, where is very famous to have Japanese restaurants. Then I will apply again the search using Foursquare API for the public transportation categories, city train and metro in Berlin. \n",
    "\n",
    "* I will save the data collected using Fousquare API to a CSV file and then read them with `Pandas`.\n",
    "\n",
    "* Then, I will create another dataset that has information about avaiable places to rent in Berlin. First, I will create the features \"postal codes\" and \"prices\" of these places and then with the help of Geocoder we will get the latitude, longitude features. Then, I will save to a file CSV and read it with `Pandas`.\n"
   ]
  },
  {
   "cell_type": "code",
   "execution_count": 72,
   "metadata": {},
   "outputs": [
    {
     "name": "stdout",
     "output_type": "stream",
     "text": [
      "Your credentails:\n",
      "CLIENT_ID: myclientID\n",
      "CLIENT_SECRET:myclientsecret\n"
     ]
    }
   ],
   "source": [
    "CLIENT_ID = 'myclientID' # your Foursquare ID\n",
    "CLIENT_SECRET = 'myclientsecret' # your Foursquare Secret\n",
    "VERSION = '20180605' # Foursquare API version\n",
    "\n",
    "print('Your credentails:')\n",
    "print('CLIENT_ID: ' + CLIENT_ID)\n",
    "print('CLIENT_SECRET:' + CLIENT_SECRET)"
   ]
  },
  {
   "cell_type": "code",
   "execution_count": 3,
   "metadata": {},
   "outputs": [],
   "source": [
    "# define Berlin's geolocation coordinates (center of Charllotenburg)\n",
    "berlin_latitude = 52.50333132 #52.520008\n",
    "berlin_longitude = 13.308665432 #13.404954"
   ]
  },
  {
   "cell_type": "code",
   "execution_count": 4,
   "metadata": {},
   "outputs": [],
   "source": [
    "# type your answer here\n",
    "LIMIT = 500 # limit of number of venues returned by Foursquare API\n",
    "radius = 15000 # define radius\n",
    "category = '4bf58dd8d48988d111941735' # Japanese restaurants \n",
    "#category = '4bf58dd8d48988d1fc931735' # S-Bahnhof\n",
    "#category = '4bf58dd8d48988d1fd931735' #U-Bahnhof"
   ]
  },
  {
   "cell_type": "code",
   "execution_count": 5,
   "metadata": {},
   "outputs": [],
   "source": [
    "url = 'https://api.foursquare.com/v2/venues/explore?&client_id={}&client_secret={}&v={}&ll={},{}&categoryId={}&radius={}&limit={}'.format(\n",
    " CLIENT_ID, \n",
    "   CLIENT_SECRET, \n",
    "    VERSION, \n",
    "   berlin_latitude, \n",
    "   berlin_longitude, \n",
    "    category,\n",
    "      radius, \n",
    "    LIMIT)"
   ]
  },
  {
   "cell_type": "code",
   "execution_count": 6,
   "metadata": {},
   "outputs": [],
   "source": [
    "results = requests.get(url).json()\n",
    "results.values();"
   ]
  },
  {
   "cell_type": "code",
   "execution_count": 7,
   "metadata": {},
   "outputs": [],
   "source": [
    "# function that extracts the category of the venue\n",
    "def get_category_type(row):\n",
    "    try:\n",
    "        categories_list = row['categories']\n",
    "    except:\n",
    "        categories_list = row['venue.categories']\n",
    "        \n",
    "    if len(categories_list) == 0:\n",
    "        return None\n",
    "    else:\n",
    "        return categories_list[0]['name']"
   ]
  },
  {
   "cell_type": "code",
   "execution_count": 8,
   "metadata": {},
   "outputs": [
    {
     "data": {
      "text/html": [
       "<div>\n",
       "<style scoped>\n",
       "    .dataframe tbody tr th:only-of-type {\n",
       "        vertical-align: middle;\n",
       "    }\n",
       "\n",
       "    .dataframe tbody tr th {\n",
       "        vertical-align: top;\n",
       "    }\n",
       "\n",
       "    .dataframe thead th {\n",
       "        text-align: right;\n",
       "    }\n",
       "</style>\n",
       "<table border=\"1\" class=\"dataframe\">\n",
       "  <thead>\n",
       "    <tr style=\"text-align: right;\">\n",
       "      <th></th>\n",
       "      <th>id</th>\n",
       "      <th>name</th>\n",
       "      <th>categories</th>\n",
       "      <th>lat</th>\n",
       "      <th>lng</th>\n",
       "      <th>neighborhood</th>\n",
       "      <th>distance [m]</th>\n",
       "    </tr>\n",
       "  </thead>\n",
       "  <tbody>\n",
       "    <tr>\n",
       "      <th>0</th>\n",
       "      <td>55f9a48e498ee737a1893058</td>\n",
       "      <td>Heno Heno</td>\n",
       "      <td>Japanese Restaurant</td>\n",
       "      <td>52.503964</td>\n",
       "      <td>13.315578</td>\n",
       "      <td>Wielandstr. 37</td>\n",
       "      <td>473</td>\n",
       "    </tr>\n",
       "    <tr>\n",
       "      <th>1</th>\n",
       "      <td>4bbe353b9474c9b63e41d9b6</td>\n",
       "      <td>Kushinoya</td>\n",
       "      <td>Japanese Restaurant</td>\n",
       "      <td>52.505372</td>\n",
       "      <td>13.319982</td>\n",
       "      <td>Bleibtreustr. 6</td>\n",
       "      <td>799</td>\n",
       "    </tr>\n",
       "    <tr>\n",
       "      <th>2</th>\n",
       "      <td>570b97c4498e2c6e7c5eb991</td>\n",
       "      <td>Smart Deli</td>\n",
       "      <td>Japanese Restaurant</td>\n",
       "      <td>52.528094</td>\n",
       "      <td>13.389060</td>\n",
       "      <td>Novalisstr. 2</td>\n",
       "      <td>6103</td>\n",
       "    </tr>\n",
       "    <tr>\n",
       "      <th>3</th>\n",
       "      <td>57c9e26a498ed1dcbbd0b461</td>\n",
       "      <td>Sticks'n'Sushi</td>\n",
       "      <td>Japanese Restaurant</td>\n",
       "      <td>52.502020</td>\n",
       "      <td>13.365064</td>\n",
       "      <td>Potsdamer Str. 85</td>\n",
       "      <td>3824</td>\n",
       "    </tr>\n",
       "    <tr>\n",
       "      <th>4</th>\n",
       "      <td>4c0fde34ce57c928f7f580d2</td>\n",
       "      <td>Green Tea Café MAMECHA</td>\n",
       "      <td>Japanese Restaurant</td>\n",
       "      <td>52.527284</td>\n",
       "      <td>13.406305</td>\n",
       "      <td>Mulackstr. 33 (Rückerstr.)</td>\n",
       "      <td>7131</td>\n",
       "    </tr>\n",
       "  </tbody>\n",
       "</table>\n",
       "</div>"
      ],
      "text/plain": [
       "                         id                    name           categories  \\\n",
       "0  55f9a48e498ee737a1893058               Heno Heno  Japanese Restaurant   \n",
       "1  4bbe353b9474c9b63e41d9b6               Kushinoya  Japanese Restaurant   \n",
       "2  570b97c4498e2c6e7c5eb991              Smart Deli  Japanese Restaurant   \n",
       "3  57c9e26a498ed1dcbbd0b461          Sticks'n'Sushi  Japanese Restaurant   \n",
       "4  4c0fde34ce57c928f7f580d2  Green Tea Café MAMECHA  Japanese Restaurant   \n",
       "\n",
       "         lat        lng                neighborhood  distance [m]  \n",
       "0  52.503964  13.315578              Wielandstr. 37           473  \n",
       "1  52.505372  13.319982             Bleibtreustr. 6           799  \n",
       "2  52.528094  13.389060               Novalisstr. 2          6103  \n",
       "3  52.502020  13.365064           Potsdamer Str. 85          3824  \n",
       "4  52.527284  13.406305  Mulackstr. 33 (Rückerstr.)          7131  "
      ]
     },
     "execution_count": 8,
     "metadata": {},
     "output_type": "execute_result"
    }
   ],
   "source": [
    "venues = results['response']['groups'][0]['items']\n",
    "venues_neighborhood = [results['response']['groups'][0]['items'][n]['venue']['location']['formattedAddress'] for n in range(len(venues))]  \n",
    "venues_distance = [results['response']['groups'][0]['items'][n]['venue']['location']['distance'] for n in range(len(venues))]  \n",
    "nearby_venues = json_normalize(venues) # flatten JSON\n",
    "\n",
    "# filter columns\n",
    "filtered_columns = ['venue.id','venue.name', 'venue.categories', 'venue.location.lat', 'venue.location.lng']\n",
    "nearby_venues =nearby_venues.loc[:, filtered_columns]\n",
    "\n",
    "# filter the category for each row\n",
    "nearby_venues['venue.categories'] = nearby_venues.apply(get_category_type, axis=1)\n",
    "\n",
    "# clean columns\n",
    "nearby_venues.columns = [col.split(\".\")[-1] for col in nearby_venues.columns]\n",
    "\n",
    "[venues_neighborhood[k][0] for k in range(len(venues_neighborhood))]\n",
    "\n",
    "#nearby_venues['neighborhood'] = venues_neighborhood[0][0]\n",
    "nearby_venues['neighborhood'] =  [venues_neighborhood[k][0] for k in range(len(venues_neighborhood))]\n",
    "nearby_venues['distance [m]'] = venues_distance\n",
    "\n",
    "df = nearby_venues\n",
    "df.head()"
   ]
  },
  {
   "cell_type": "code",
   "execution_count": 9,
   "metadata": {},
   "outputs": [],
   "source": [
    "#import os\n",
    "\n",
    "#outname = 'japanesecategory.csv'\n",
    "\n",
    "#outdir = '/'\n",
    "#if not os.path.exists(outdir):\n",
    " #   os.mkdir(outdir)\n",
    "\n",
    "#fullname = os.path.join(outdir, outname)    \n",
    "\n",
    "#df.to_csv(fullname)"
   ]
  },
  {
   "cell_type": "code",
   "execution_count": 10,
   "metadata": {},
   "outputs": [
    {
     "data": {
      "text/html": [
       "<div>\n",
       "<style scoped>\n",
       "    .dataframe tbody tr th:only-of-type {\n",
       "        vertical-align: middle;\n",
       "    }\n",
       "\n",
       "    .dataframe tbody tr th {\n",
       "        vertical-align: top;\n",
       "    }\n",
       "\n",
       "    .dataframe thead th {\n",
       "        text-align: right;\n",
       "    }\n",
       "</style>\n",
       "<table border=\"1\" class=\"dataframe\">\n",
       "  <thead>\n",
       "    <tr style=\"text-align: right;\">\n",
       "      <th></th>\n",
       "      <th>id</th>\n",
       "      <th>name</th>\n",
       "      <th>categories</th>\n",
       "      <th>lat</th>\n",
       "      <th>lng</th>\n",
       "      <th>neighborhood</th>\n",
       "    </tr>\n",
       "  </thead>\n",
       "  <tbody>\n",
       "    <tr>\n",
       "      <th>0</th>\n",
       "      <td>55f9a48e498ee737a1893058</td>\n",
       "      <td>Heno Heno</td>\n",
       "      <td>Japanese Restaurant</td>\n",
       "      <td>52.503964</td>\n",
       "      <td>13.315578</td>\n",
       "      <td>Wielandstr. 37</td>\n",
       "    </tr>\n",
       "    <tr>\n",
       "      <th>1</th>\n",
       "      <td>4bbe353b9474c9b63e41d9b6</td>\n",
       "      <td>Kushinoya</td>\n",
       "      <td>Japanese Restaurant</td>\n",
       "      <td>52.505372</td>\n",
       "      <td>13.319982</td>\n",
       "      <td>Bleibtreustr. 6</td>\n",
       "    </tr>\n",
       "    <tr>\n",
       "      <th>2</th>\n",
       "      <td>570b97c4498e2c6e7c5eb991</td>\n",
       "      <td>Smart Deli</td>\n",
       "      <td>Japanese Restaurant</td>\n",
       "      <td>52.528094</td>\n",
       "      <td>13.389060</td>\n",
       "      <td>Novalisstr. 2</td>\n",
       "    </tr>\n",
       "    <tr>\n",
       "      <th>3</th>\n",
       "      <td>57c9e26a498ed1dcbbd0b461</td>\n",
       "      <td>Sticks'n'Sushi</td>\n",
       "      <td>Japanese Restaurant</td>\n",
       "      <td>52.502020</td>\n",
       "      <td>13.365064</td>\n",
       "      <td>Potsdamer Str. 85</td>\n",
       "    </tr>\n",
       "    <tr>\n",
       "      <th>4</th>\n",
       "      <td>4c0fde34ce57c928f7f580d2</td>\n",
       "      <td>Green Tea Café MAMECHA</td>\n",
       "      <td>Japanese Restaurant</td>\n",
       "      <td>52.527284</td>\n",
       "      <td>13.406305</td>\n",
       "      <td>Mulackstr. 33 (Rückerstr.)</td>\n",
       "    </tr>\n",
       "  </tbody>\n",
       "</table>\n",
       "</div>"
      ],
      "text/plain": [
       "                         id                    name           categories  \\\n",
       "0  55f9a48e498ee737a1893058               Heno Heno  Japanese Restaurant   \n",
       "1  4bbe353b9474c9b63e41d9b6               Kushinoya  Japanese Restaurant   \n",
       "2  570b97c4498e2c6e7c5eb991              Smart Deli  Japanese Restaurant   \n",
       "3  57c9e26a498ed1dcbbd0b461          Sticks'n'Sushi  Japanese Restaurant   \n",
       "4  4c0fde34ce57c928f7f580d2  Green Tea Café MAMECHA  Japanese Restaurant   \n",
       "\n",
       "         lat        lng                neighborhood  \n",
       "0  52.503964  13.315578              Wielandstr. 37  \n",
       "1  52.505372  13.319982             Bleibtreustr. 6  \n",
       "2  52.528094  13.389060               Novalisstr. 2  \n",
       "3  52.502020  13.365064           Potsdamer Str. 85  \n",
       "4  52.527284  13.406305  Mulackstr. 33 (Rückerstr.)  "
      ]
     },
     "execution_count": 10,
     "metadata": {},
     "output_type": "execute_result"
    }
   ],
   "source": [
    "df_jc = pd.read_csv(\"japanesecategory.csv\")\n",
    "df_jc.drop(['Unnamed: 0'], axis=1, inplace=True);\n",
    "df_jc.drop(['distance [m]'], axis=1, inplace=True);\n",
    "df_jc.head()"
   ]
  },
  {
   "cell_type": "code",
   "execution_count": 11,
   "metadata": {},
   "outputs": [
    {
     "data": {
      "text/html": [
       "<div>\n",
       "<style scoped>\n",
       "    .dataframe tbody tr th:only-of-type {\n",
       "        vertical-align: middle;\n",
       "    }\n",
       "\n",
       "    .dataframe tbody tr th {\n",
       "        vertical-align: top;\n",
       "    }\n",
       "\n",
       "    .dataframe thead th {\n",
       "        text-align: right;\n",
       "    }\n",
       "</style>\n",
       "<table border=\"1\" class=\"dataframe\">\n",
       "  <thead>\n",
       "    <tr style=\"text-align: right;\">\n",
       "      <th></th>\n",
       "      <th>id</th>\n",
       "      <th>name</th>\n",
       "      <th>categories</th>\n",
       "      <th>lat</th>\n",
       "      <th>lng</th>\n",
       "      <th>neighborhood</th>\n",
       "    </tr>\n",
       "  </thead>\n",
       "  <tbody>\n",
       "    <tr>\n",
       "      <th>0</th>\n",
       "      <td>4a1c8506f964a520457b1fe3</td>\n",
       "      <td>Berlin Hauptbahnhof</td>\n",
       "      <td>Light Rail Station</td>\n",
       "      <td>52.525220</td>\n",
       "      <td>13.369369</td>\n",
       "      <td>Europaplatz 1 (Washingtonplatz)</td>\n",
       "    </tr>\n",
       "    <tr>\n",
       "      <th>1</th>\n",
       "      <td>4af5f0c7f964a52020ff21e3</td>\n",
       "      <td>Bahnhof Berlin Friedrichstraße</td>\n",
       "      <td>Light Rail Station</td>\n",
       "      <td>52.520284</td>\n",
       "      <td>13.387063</td>\n",
       "      <td>Georgenstr. 14/17</td>\n",
       "    </tr>\n",
       "    <tr>\n",
       "      <th>2</th>\n",
       "      <td>4b05bf38f964a5204ce222e3</td>\n",
       "      <td>Bahnhof Berlin Potsdamer Platz</td>\n",
       "      <td>Light Rail Station</td>\n",
       "      <td>52.509723</td>\n",
       "      <td>13.376597</td>\n",
       "      <td>Potsdamer Platz (Potsdamer Str.)</td>\n",
       "    </tr>\n",
       "    <tr>\n",
       "      <th>3</th>\n",
       "      <td>4adcda91f964a520ba4b21e3</td>\n",
       "      <td>Bahnhof Berlin Zoologischer Garten</td>\n",
       "      <td>Light Rail Station</td>\n",
       "      <td>52.506642</td>\n",
       "      <td>13.332513</td>\n",
       "      <td>Hardenbergplatz 13</td>\n",
       "    </tr>\n",
       "    <tr>\n",
       "      <th>4</th>\n",
       "      <td>4b01859ef964a520174322e3</td>\n",
       "      <td>S Savignyplatz</td>\n",
       "      <td>Light Rail Station</td>\n",
       "      <td>52.505093</td>\n",
       "      <td>13.319847</td>\n",
       "      <td>Bleibtreustr. 49</td>\n",
       "    </tr>\n",
       "  </tbody>\n",
       "</table>\n",
       "</div>"
      ],
      "text/plain": [
       "                         id                                name  \\\n",
       "0  4a1c8506f964a520457b1fe3                 Berlin Hauptbahnhof   \n",
       "1  4af5f0c7f964a52020ff21e3      Bahnhof Berlin Friedrichstraße   \n",
       "2  4b05bf38f964a5204ce222e3      Bahnhof Berlin Potsdamer Platz   \n",
       "3  4adcda91f964a520ba4b21e3  Bahnhof Berlin Zoologischer Garten   \n",
       "4  4b01859ef964a520174322e3                      S Savignyplatz   \n",
       "\n",
       "           categories        lat        lng                      neighborhood  \n",
       "0  Light Rail Station  52.525220  13.369369   Europaplatz 1 (Washingtonplatz)  \n",
       "1  Light Rail Station  52.520284  13.387063                 Georgenstr. 14/17  \n",
       "2  Light Rail Station  52.509723  13.376597  Potsdamer Platz (Potsdamer Str.)  \n",
       "3  Light Rail Station  52.506642  13.332513                Hardenbergplatz 13  \n",
       "4  Light Rail Station  52.505093  13.319847                  Bleibtreustr. 49  "
      ]
     },
     "execution_count": 11,
     "metadata": {},
     "output_type": "execute_result"
    }
   ],
   "source": [
    "df_s = pd.read_csv(\"sbahncategory.csv\")\n",
    "df_s.drop(['Unnamed: 0'], axis=1, inplace=True);\n",
    "df_s.drop(['distance [m]'], axis=1, inplace=True);\n",
    "df_s.head()"
   ]
  },
  {
   "cell_type": "code",
   "execution_count": 12,
   "metadata": {},
   "outputs": [
    {
     "data": {
      "text/html": [
       "<div>\n",
       "<style scoped>\n",
       "    .dataframe tbody tr th:only-of-type {\n",
       "        vertical-align: middle;\n",
       "    }\n",
       "\n",
       "    .dataframe tbody tr th {\n",
       "        vertical-align: top;\n",
       "    }\n",
       "\n",
       "    .dataframe thead th {\n",
       "        text-align: right;\n",
       "    }\n",
       "</style>\n",
       "<table border=\"1\" class=\"dataframe\">\n",
       "  <thead>\n",
       "    <tr style=\"text-align: right;\">\n",
       "      <th></th>\n",
       "      <th>id</th>\n",
       "      <th>name</th>\n",
       "      <th>categories</th>\n",
       "      <th>lat</th>\n",
       "      <th>lng</th>\n",
       "      <th>neighborhood</th>\n",
       "    </tr>\n",
       "  </thead>\n",
       "  <tbody>\n",
       "    <tr>\n",
       "      <th>0</th>\n",
       "      <td>4bfb2cf765fbc9b66f23916c</td>\n",
       "      <td>U Rehberge</td>\n",
       "      <td>Metro Station</td>\n",
       "      <td>52.555570</td>\n",
       "      <td>13.343412</td>\n",
       "      <td>Müllerstr. (Dubliner Str.)</td>\n",
       "    </tr>\n",
       "    <tr>\n",
       "      <th>1</th>\n",
       "      <td>4b538a1af964a52043a127e3</td>\n",
       "      <td>U Wilmersdorfer Straße</td>\n",
       "      <td>Metro Station</td>\n",
       "      <td>52.506312</td>\n",
       "      <td>13.306770</td>\n",
       "      <td>Wilmersdorfer Str. (Kantstr.)</td>\n",
       "    </tr>\n",
       "    <tr>\n",
       "      <th>2</th>\n",
       "      <td>4b5de986f964a520387329e3</td>\n",
       "      <td>U Adenauerplatz</td>\n",
       "      <td>Metro Station</td>\n",
       "      <td>52.499950</td>\n",
       "      <td>13.307203</td>\n",
       "      <td>Adenauerplatz (Kurfürstendamm)</td>\n",
       "    </tr>\n",
       "    <tr>\n",
       "      <th>3</th>\n",
       "      <td>4b47845cf964a5209e3426e3</td>\n",
       "      <td>U Güntzelstraße</td>\n",
       "      <td>Metro Station</td>\n",
       "      <td>52.490989</td>\n",
       "      <td>13.330868</td>\n",
       "      <td>Bundesallee (Güntzelstr.)</td>\n",
       "    </tr>\n",
       "    <tr>\n",
       "      <th>4</th>\n",
       "      <td>4b2a3edbf964a52076a624e3</td>\n",
       "      <td>U Deutsche Oper</td>\n",
       "      <td>Metro Station</td>\n",
       "      <td>52.511193</td>\n",
       "      <td>13.311905</td>\n",
       "      <td>Bismarckstr. (Krumme Str./Weimarer Str.)</td>\n",
       "    </tr>\n",
       "  </tbody>\n",
       "</table>\n",
       "</div>"
      ],
      "text/plain": [
       "                         id                    name     categories        lat  \\\n",
       "0  4bfb2cf765fbc9b66f23916c              U Rehberge  Metro Station  52.555570   \n",
       "1  4b538a1af964a52043a127e3  U Wilmersdorfer Straße  Metro Station  52.506312   \n",
       "2  4b5de986f964a520387329e3         U Adenauerplatz  Metro Station  52.499950   \n",
       "3  4b47845cf964a5209e3426e3         U Güntzelstraße  Metro Station  52.490989   \n",
       "4  4b2a3edbf964a52076a624e3         U Deutsche Oper  Metro Station  52.511193   \n",
       "\n",
       "         lng                              neighborhood  \n",
       "0  13.343412                Müllerstr. (Dubliner Str.)  \n",
       "1  13.306770             Wilmersdorfer Str. (Kantstr.)  \n",
       "2  13.307203            Adenauerplatz (Kurfürstendamm)  \n",
       "3  13.330868                 Bundesallee (Güntzelstr.)  \n",
       "4  13.311905  Bismarckstr. (Krumme Str./Weimarer Str.)  "
      ]
     },
     "execution_count": 12,
     "metadata": {},
     "output_type": "execute_result"
    }
   ],
   "source": [
    "df_u = pd.read_csv(\"ubahn_data.csv\")\n",
    "df_u.drop(['Unnamed: 0'], axis=1, inplace=True);\n",
    "df_u.drop(['distance [m]'], axis=1, inplace=True);\n",
    "df_u.head()"
   ]
  },
  {
   "cell_type": "markdown",
   "metadata": {},
   "source": [
    "Using the website https://www.sebuyo.com I made a search of prices and code postal of the avaiable places to rent in Berlin"
   ]
  },
  {
   "cell_type": "code",
   "execution_count": 13,
   "metadata": {},
   "outputs": [],
   "source": [
    "df_rent = pd.DataFrame({'Postcode': [10247, 10777, 10713, 10719, 12359, 12057, 10785, 12043, 13595, 12053, 10435, 10119, 10245, 13597, 12347, 10115, 10717, 13585, 12057, 16727],'Price': [2400, 1142.36, 3269, 5900, 300, 400, 3900, 10000, 0, 1600, 2500, 3000, 1095, 0, 1000, 0, 2700, 570, 400, 0]})"
   ]
  },
  {
   "cell_type": "code",
   "execution_count": 14,
   "metadata": {},
   "outputs": [
    {
     "data": {
      "text/html": [
       "<div>\n",
       "<style scoped>\n",
       "    .dataframe tbody tr th:only-of-type {\n",
       "        vertical-align: middle;\n",
       "    }\n",
       "\n",
       "    .dataframe tbody tr th {\n",
       "        vertical-align: top;\n",
       "    }\n",
       "\n",
       "    .dataframe thead th {\n",
       "        text-align: right;\n",
       "    }\n",
       "</style>\n",
       "<table border=\"1\" class=\"dataframe\">\n",
       "  <thead>\n",
       "    <tr style=\"text-align: right;\">\n",
       "      <th></th>\n",
       "      <th>Postcode</th>\n",
       "      <th>Price</th>\n",
       "    </tr>\n",
       "  </thead>\n",
       "  <tbody>\n",
       "    <tr>\n",
       "      <th>0</th>\n",
       "      <td>10247</td>\n",
       "      <td>2400.00</td>\n",
       "    </tr>\n",
       "    <tr>\n",
       "      <th>1</th>\n",
       "      <td>10777</td>\n",
       "      <td>1142.36</td>\n",
       "    </tr>\n",
       "    <tr>\n",
       "      <th>2</th>\n",
       "      <td>10713</td>\n",
       "      <td>3269.00</td>\n",
       "    </tr>\n",
       "    <tr>\n",
       "      <th>3</th>\n",
       "      <td>10719</td>\n",
       "      <td>5900.00</td>\n",
       "    </tr>\n",
       "    <tr>\n",
       "      <th>4</th>\n",
       "      <td>12359</td>\n",
       "      <td>300.00</td>\n",
       "    </tr>\n",
       "  </tbody>\n",
       "</table>\n",
       "</div>"
      ],
      "text/plain": [
       "   Postcode    Price\n",
       "0     10247  2400.00\n",
       "1     10777  1142.36\n",
       "2     10713  3269.00\n",
       "3     10719  5900.00\n",
       "4     12359   300.00"
      ]
     },
     "execution_count": 14,
     "metadata": {},
     "output_type": "execute_result"
    }
   ],
   "source": [
    "df_rent.head()"
   ]
  },
  {
   "cell_type": "markdown",
   "metadata": {},
   "source": [
    "Using Geocoder I found the respectivelly latitudes and longitudes using the information of the code postal. "
   ]
  },
  {
   "cell_type": "code",
   "execution_count": 15,
   "metadata": {},
   "outputs": [],
   "source": [
    "def  get_latlng(postal_code):\n",
    "    latlng_coords = None\n",
    "    while(latlng_coords is None):\n",
    "        g = geocoder.arcgis('{}, Berlin, Berlin'.format(postal_code))\n",
    "        latlng_coords = g.latlng\n",
    "    return latlng_coords"
   ]
  },
  {
   "cell_type": "code",
   "execution_count": 16,
   "metadata": {},
   "outputs": [],
   "source": [
    "codepost = df_rent['Postcode']\n",
    "coords = [get_latlng(postal_code) \n",
    "         for postal_code \n",
    "         in codepost.tolist()]"
   ]
  },
  {
   "cell_type": "code",
   "execution_count": 17,
   "metadata": {},
   "outputs": [],
   "source": [
    "df_coords = pd.DataFrame(coords, columns = ['Latitude', 'Longitude'])\n",
    "df_rent['Latitude'] = df_coords['Latitude']\n",
    "df_rent['Longitude'] = df_coords['Longitude']"
   ]
  },
  {
   "cell_type": "markdown",
   "metadata": {},
   "source": [
    "Here I saved the dataframe df_rent to a file and then I read with pandas."
   ]
  },
  {
   "cell_type": "code",
   "execution_count": 18,
   "metadata": {},
   "outputs": [
    {
     "data": {
      "text/html": [
       "<div>\n",
       "<style scoped>\n",
       "    .dataframe tbody tr th:only-of-type {\n",
       "        vertical-align: middle;\n",
       "    }\n",
       "\n",
       "    .dataframe tbody tr th {\n",
       "        vertical-align: top;\n",
       "    }\n",
       "\n",
       "    .dataframe thead th {\n",
       "        text-align: right;\n",
       "    }\n",
       "</style>\n",
       "<table border=\"1\" class=\"dataframe\">\n",
       "  <thead>\n",
       "    <tr style=\"text-align: right;\">\n",
       "      <th></th>\n",
       "      <th>Postcode</th>\n",
       "      <th>Price</th>\n",
       "      <th>Latitude</th>\n",
       "      <th>Longitude</th>\n",
       "    </tr>\n",
       "  </thead>\n",
       "  <tbody>\n",
       "    <tr>\n",
       "      <th>0</th>\n",
       "      <td>12683</td>\n",
       "      <td>2900.00</td>\n",
       "      <td>52.503731</td>\n",
       "      <td>13.559540</td>\n",
       "    </tr>\n",
       "    <tr>\n",
       "      <th>1</th>\n",
       "      <td>10247</td>\n",
       "      <td>2400.00</td>\n",
       "      <td>52.516340</td>\n",
       "      <td>13.463990</td>\n",
       "    </tr>\n",
       "    <tr>\n",
       "      <th>2</th>\n",
       "      <td>10777</td>\n",
       "      <td>1142.36</td>\n",
       "      <td>52.497685</td>\n",
       "      <td>13.342285</td>\n",
       "    </tr>\n",
       "    <tr>\n",
       "      <th>3</th>\n",
       "      <td>10713</td>\n",
       "      <td>3269.00</td>\n",
       "      <td>52.485240</td>\n",
       "      <td>13.311870</td>\n",
       "    </tr>\n",
       "    <tr>\n",
       "      <th>4</th>\n",
       "      <td>10719</td>\n",
       "      <td>5900.00</td>\n",
       "      <td>52.498245</td>\n",
       "      <td>13.327140</td>\n",
       "    </tr>\n",
       "  </tbody>\n",
       "</table>\n",
       "</div>"
      ],
      "text/plain": [
       "   Postcode    Price   Latitude  Longitude\n",
       "0     12683  2900.00  52.503731  13.559540\n",
       "1     10247  2400.00  52.516340  13.463990\n",
       "2     10777  1142.36  52.497685  13.342285\n",
       "3     10713  3269.00  52.485240  13.311870\n",
       "4     10719  5900.00  52.498245  13.327140"
      ]
     },
     "execution_count": 18,
     "metadata": {},
     "output_type": "execute_result"
    }
   ],
   "source": [
    "df_r = pd.read_csv(\"rent_data.csv\")\n",
    "df_r.drop(['Unnamed: 0'], axis=1, inplace=True);\n",
    "df_r.head()"
   ]
  },
  {
   "cell_type": "markdown",
   "metadata": {},
   "source": [
    "Here we will understand more our data collection and we will apply some descriptive statistics to answer to following answers:\n",
    "\n",
    "* How many restaurants exists?\n",
    "* How many avaiable places to rent exist?\n",
    "* How many categories exist in each dataset?"
   ]
  },
  {
   "cell_type": "code",
   "execution_count": 19,
   "metadata": {},
   "outputs": [
    {
     "data": {
      "text/plain": [
       "count                     100\n",
       "unique                     10\n",
       "top       Japanese Restaurant\n",
       "freq                       63\n",
       "Name: categories, dtype: object"
      ]
     },
     "execution_count": 19,
     "metadata": {},
     "output_type": "execute_result"
    }
   ],
   "source": [
    "df_jc['categories'].describe()"
   ]
  },
  {
   "cell_type": "code",
   "execution_count": 20,
   "metadata": {},
   "outputs": [
    {
     "data": {
      "text/plain": [
       "array(['Japanese Restaurant', 'Vietnamese Restaurant', 'Sushi Restaurant',\n",
       "       'Ramen Restaurant', 'Asian Restaurant', 'Chinese Restaurant',\n",
       "       'Café', 'Vegetarian / Vegan Restaurant', 'Korean Restaurant',\n",
       "       'Cocktail Bar'], dtype=object)"
      ]
     },
     "execution_count": 20,
     "metadata": {},
     "output_type": "execute_result"
    }
   ],
   "source": [
    "df_jc.categories.unique()"
   ]
  },
  {
   "cell_type": "code",
   "execution_count": 21,
   "metadata": {},
   "outputs": [
    {
     "data": {
      "text/plain": [
       "Postcode     21\n",
       "Price        21\n",
       "Latitude     21\n",
       "Longitude    21\n",
       "dtype: int64"
      ]
     },
     "execution_count": 21,
     "metadata": {},
     "output_type": "execute_result"
    }
   ],
   "source": [
    "df_r.count()"
   ]
  },
  {
   "cell_type": "code",
   "execution_count": 22,
   "metadata": {},
   "outputs": [
    {
     "data": {
      "text/plain": [
       "Text(0, 0.5, 'frequency')"
      ]
     },
     "execution_count": 22,
     "metadata": {},
     "output_type": "execute_result"
    },
    {
     "data": {
      "image/png": "[encoded data removed]",
      "text/plain": [
       "<Figure size 1008x576 with 1 Axes>"
      ]
     },
     "metadata": {
      "needs_background": "light"
     },
     "output_type": "display_data"
    }
   ],
   "source": [
    "ax = df_jc['categories'].value_counts().plot(kind='bar', figsize=(14,8), title=\"Japanese category venue\")\n",
    "ax.set_xlabel(\"Category of the restaurants\")\n",
    "ax.set_ylabel(\"frequency\")"
   ]
  },
  {
   "cell_type": "markdown",
   "metadata": {},
   "source": [
    "## 3. Methodology"
   ]
  },
  {
   "cell_type": "markdown",
   "metadata": {},
   "source": [
    "The goal of this project is to search for locations where the neighborhood is surrounded by Japanese restaurants. Then I will apply the Machine Learning algorithms **K-means Clustering** for to make segmentations of the types of Japanese restaurants. After that, a research about the prices to rent a place for opening a restaurant will be made. In addition, the optimal location should be accessible by public transportation. At the end, the focus will be to find locations that have a distance of approximately 300 m from Japanese restaurants that already exists and near of public transportations. \n",
    " Based on the goal of this project, I will describe below, what is needed to perform this search and which data sources will be used:\n",
    " \n",
    "* number of existing Japanese restaurants\n",
    "* prices and locations of places in Berlin to open a restaurant\n",
    "* segmentation of types of Japanese restaurants in a neighborhood\n",
    "* distance of the available places to rent to the Japanese restaurants that already exists and to the public transportation."
   ]
  },
  {
   "cell_type": "markdown",
   "metadata": {},
   "source": [
    "K-means Clustering is a simple and popular unsupervised algorithms that can be used to make segmentations. Segmentation is a practice of divide a feature into groups with similar characteristics. Therefore one can get some insights about the characteristics of the data. "
   ]
  },
  {
   "cell_type": "markdown",
   "metadata": {},
   "source": [
    "First, I will start applying the **One-hot Encoding** function to convert categorical variations to numerical ones. This facilitated for Machine Learning algorithms to better prediction.  The results 0 indicates non existent while 1 indicates existent."
   ]
  },
  {
   "cell_type": "code",
   "execution_count": 23,
   "metadata": {},
   "outputs": [],
   "source": [
    "# one hot encoding for Japanese category\n",
    "berlin_onehot = pd.get_dummies(df_jc[['categories']], prefix=\"\", prefix_sep=\"\")\n",
    "\n",
    "# add neighborhood column back to dataframe\n",
    "berlin_onehot['neighborhood'] = df_jc['neighborhood'] \n",
    "\n",
    "# move neighborhood column to the first column\n",
    "fixed_columns = [berlin_onehot.columns[-1]] + list(berlin_onehot.columns[:-1])\n",
    "berlin_onehot = berlin_onehot[fixed_columns]\n",
    "berlin_grouped = berlin_onehot.groupby('neighborhood').mean().reset_index()"
   ]
  },
  {
   "cell_type": "code",
   "execution_count": 24,
   "metadata": {},
   "outputs": [
    {
     "data": {
      "text/html": [
       "<div>\n",
       "<style scoped>\n",
       "    .dataframe tbody tr th:only-of-type {\n",
       "        vertical-align: middle;\n",
       "    }\n",
       "\n",
       "    .dataframe tbody tr th {\n",
       "        vertical-align: top;\n",
       "    }\n",
       "\n",
       "    .dataframe thead th {\n",
       "        text-align: right;\n",
       "    }\n",
       "</style>\n",
       "<table border=\"1\" class=\"dataframe\">\n",
       "  <thead>\n",
       "    <tr style=\"text-align: right;\">\n",
       "      <th></th>\n",
       "      <th>neighborhood</th>\n",
       "      <th>Asian Restaurant</th>\n",
       "      <th>Café</th>\n",
       "      <th>Chinese Restaurant</th>\n",
       "      <th>Cocktail Bar</th>\n",
       "      <th>Japanese Restaurant</th>\n",
       "      <th>Korean Restaurant</th>\n",
       "      <th>Ramen Restaurant</th>\n",
       "      <th>Sushi Restaurant</th>\n",
       "      <th>Vegetarian / Vegan Restaurant</th>\n",
       "      <th>Vietnamese Restaurant</th>\n",
       "    </tr>\n",
       "  </thead>\n",
       "  <tbody>\n",
       "    <tr>\n",
       "      <th>0</th>\n",
       "      <td>Wielandstr. 37</td>\n",
       "      <td>0</td>\n",
       "      <td>0</td>\n",
       "      <td>0</td>\n",
       "      <td>0</td>\n",
       "      <td>1</td>\n",
       "      <td>0</td>\n",
       "      <td>0</td>\n",
       "      <td>0</td>\n",
       "      <td>0</td>\n",
       "      <td>0</td>\n",
       "    </tr>\n",
       "    <tr>\n",
       "      <th>1</th>\n",
       "      <td>Bleibtreustr. 6</td>\n",
       "      <td>0</td>\n",
       "      <td>0</td>\n",
       "      <td>0</td>\n",
       "      <td>0</td>\n",
       "      <td>1</td>\n",
       "      <td>0</td>\n",
       "      <td>0</td>\n",
       "      <td>0</td>\n",
       "      <td>0</td>\n",
       "      <td>0</td>\n",
       "    </tr>\n",
       "    <tr>\n",
       "      <th>2</th>\n",
       "      <td>Novalisstr. 2</td>\n",
       "      <td>0</td>\n",
       "      <td>0</td>\n",
       "      <td>0</td>\n",
       "      <td>0</td>\n",
       "      <td>1</td>\n",
       "      <td>0</td>\n",
       "      <td>0</td>\n",
       "      <td>0</td>\n",
       "      <td>0</td>\n",
       "      <td>0</td>\n",
       "    </tr>\n",
       "    <tr>\n",
       "      <th>3</th>\n",
       "      <td>Potsdamer Str. 85</td>\n",
       "      <td>0</td>\n",
       "      <td>0</td>\n",
       "      <td>0</td>\n",
       "      <td>0</td>\n",
       "      <td>1</td>\n",
       "      <td>0</td>\n",
       "      <td>0</td>\n",
       "      <td>0</td>\n",
       "      <td>0</td>\n",
       "      <td>0</td>\n",
       "    </tr>\n",
       "    <tr>\n",
       "      <th>4</th>\n",
       "      <td>Mulackstr. 33 (Rückerstr.)</td>\n",
       "      <td>0</td>\n",
       "      <td>0</td>\n",
       "      <td>0</td>\n",
       "      <td>0</td>\n",
       "      <td>1</td>\n",
       "      <td>0</td>\n",
       "      <td>0</td>\n",
       "      <td>0</td>\n",
       "      <td>0</td>\n",
       "      <td>0</td>\n",
       "    </tr>\n",
       "  </tbody>\n",
       "</table>\n",
       "</div>"
      ],
      "text/plain": [
       "                 neighborhood  Asian Restaurant  Café  Chinese Restaurant  \\\n",
       "0              Wielandstr. 37                 0     0                   0   \n",
       "1             Bleibtreustr. 6                 0     0                   0   \n",
       "2               Novalisstr. 2                 0     0                   0   \n",
       "3           Potsdamer Str. 85                 0     0                   0   \n",
       "4  Mulackstr. 33 (Rückerstr.)                 0     0                   0   \n",
       "\n",
       "   Cocktail Bar  Japanese Restaurant  Korean Restaurant  Ramen Restaurant  \\\n",
       "0             0                    1                  0                 0   \n",
       "1             0                    1                  0                 0   \n",
       "2             0                    1                  0                 0   \n",
       "3             0                    1                  0                 0   \n",
       "4             0                    1                  0                 0   \n",
       "\n",
       "   Sushi Restaurant  Vegetarian / Vegan Restaurant  Vietnamese Restaurant  \n",
       "0                 0                              0                      0  \n",
       "1                 0                              0                      0  \n",
       "2                 0                              0                      0  \n",
       "3                 0                              0                      0  \n",
       "4                 0                              0                      0  "
      ]
     },
     "execution_count": 24,
     "metadata": {},
     "output_type": "execute_result"
    }
   ],
   "source": [
    "berlin_onehot.head()"
   ]
  },
  {
   "cell_type": "code",
   "execution_count": 25,
   "metadata": {},
   "outputs": [],
   "source": [
    "berlin_grouped = berlin_onehot.groupby('neighborhood').mean().reset_index()"
   ]
  },
  {
   "cell_type": "markdown",
   "metadata": {},
   "source": [
    "Now I want create a dataframe in `Pandas`. For this I will use a function to sort the venues in descending order."
   ]
  },
  {
   "cell_type": "code",
   "execution_count": 26,
   "metadata": {},
   "outputs": [],
   "source": [
    "def return_most_common_venues(row, num_top_venues):\n",
    "    row_categories = row.iloc[1:]\n",
    "    row_categories_sorted = row_categories.sort_values(ascending=False)\n",
    "    \n",
    "    return row_categories_sorted.index.values[0:num_top_venues]\n",
    "    "
   ]
  },
  {
   "cell_type": "markdown",
   "metadata": {},
   "source": [
    "Here I will create a new dataframe and display the top 7 venues for each neighborhood."
   ]
  },
  {
   "cell_type": "code",
   "execution_count": 27,
   "metadata": {},
   "outputs": [],
   "source": [
    "num_top_venues = 7\n",
    "\n",
    "indicators = ['st', 'nd', 'rd']\n",
    "\n",
    "# create columns according to number of top venues\n",
    "columns = ['neighborhood']\n",
    "for ind in np.arange(num_top_venues):\n",
    "    try:\n",
    "        columns.append('{}{} Most Common Venue'.format(ind+1, indicators[ind]))\n",
    "    except:\n",
    "        columns.append('{}th Most Common Venue'.format(ind+1))\n",
    "\n",
    "# create a new dataframe\n",
    "neighborhoods_venues_sorted = pd.DataFrame(columns=columns)\n",
    "neighborhoods_venues_sorted['neighborhood'] = berlin_grouped['neighborhood']\n",
    "\n",
    "for ind in np.arange(berlin_grouped.shape[0]):\n",
    "    neighborhoods_venues_sorted.iloc[ind, 1:] = return_most_common_venues(berlin_grouped.iloc[ind, :], num_top_venues)"
   ]
  },
  {
   "cell_type": "code",
   "execution_count": 28,
   "metadata": {},
   "outputs": [
    {
     "data": {
      "text/html": [
       "<div>\n",
       "<style scoped>\n",
       "    .dataframe tbody tr th:only-of-type {\n",
       "        vertical-align: middle;\n",
       "    }\n",
       "\n",
       "    .dataframe tbody tr th {\n",
       "        vertical-align: top;\n",
       "    }\n",
       "\n",
       "    .dataframe thead th {\n",
       "        text-align: right;\n",
       "    }\n",
       "</style>\n",
       "<table border=\"1\" class=\"dataframe\">\n",
       "  <thead>\n",
       "    <tr style=\"text-align: right;\">\n",
       "      <th></th>\n",
       "      <th>neighborhood</th>\n",
       "      <th>1st Most Common Venue</th>\n",
       "      <th>2nd Most Common Venue</th>\n",
       "      <th>3rd Most Common Venue</th>\n",
       "      <th>4th Most Common Venue</th>\n",
       "      <th>5th Most Common Venue</th>\n",
       "      <th>6th Most Common Venue</th>\n",
       "      <th>7th Most Common Venue</th>\n",
       "    </tr>\n",
       "  </thead>\n",
       "  <tbody>\n",
       "    <tr>\n",
       "      <th>0</th>\n",
       "      <td>Ahornstr. 32</td>\n",
       "      <td>Sushi Restaurant</td>\n",
       "      <td>Vietnamese Restaurant</td>\n",
       "      <td>Vegetarian / Vegan Restaurant</td>\n",
       "      <td>Ramen Restaurant</td>\n",
       "      <td>Korean Restaurant</td>\n",
       "      <td>Japanese Restaurant</td>\n",
       "      <td>Cocktail Bar</td>\n",
       "    </tr>\n",
       "    <tr>\n",
       "      <th>1</th>\n",
       "      <td>Albrechtstr. 131</td>\n",
       "      <td>Sushi Restaurant</td>\n",
       "      <td>Vietnamese Restaurant</td>\n",
       "      <td>Vegetarian / Vegan Restaurant</td>\n",
       "      <td>Ramen Restaurant</td>\n",
       "      <td>Korean Restaurant</td>\n",
       "      <td>Japanese Restaurant</td>\n",
       "      <td>Cocktail Bar</td>\n",
       "    </tr>\n",
       "    <tr>\n",
       "      <th>2</th>\n",
       "      <td>Alte Schönhauser Str. 13 (Mulackstr.)</td>\n",
       "      <td>Japanese Restaurant</td>\n",
       "      <td>Vietnamese Restaurant</td>\n",
       "      <td>Vegetarian / Vegan Restaurant</td>\n",
       "      <td>Sushi Restaurant</td>\n",
       "      <td>Ramen Restaurant</td>\n",
       "      <td>Korean Restaurant</td>\n",
       "      <td>Cocktail Bar</td>\n",
       "    </tr>\n",
       "    <tr>\n",
       "      <th>3</th>\n",
       "      <td>Alte Schönhauser Str. 7-8</td>\n",
       "      <td>Japanese Restaurant</td>\n",
       "      <td>Vietnamese Restaurant</td>\n",
       "      <td>Vegetarian / Vegan Restaurant</td>\n",
       "      <td>Sushi Restaurant</td>\n",
       "      <td>Ramen Restaurant</td>\n",
       "      <td>Korean Restaurant</td>\n",
       "      <td>Cocktail Bar</td>\n",
       "    </tr>\n",
       "    <tr>\n",
       "      <th>4</th>\n",
       "      <td>Bergmannstraße 93</td>\n",
       "      <td>Japanese Restaurant</td>\n",
       "      <td>Vietnamese Restaurant</td>\n",
       "      <td>Vegetarian / Vegan Restaurant</td>\n",
       "      <td>Sushi Restaurant</td>\n",
       "      <td>Ramen Restaurant</td>\n",
       "      <td>Korean Restaurant</td>\n",
       "      <td>Cocktail Bar</td>\n",
       "    </tr>\n",
       "  </tbody>\n",
       "</table>\n",
       "</div>"
      ],
      "text/plain": [
       "                            neighborhood 1st Most Common Venue  \\\n",
       "0                           Ahornstr. 32      Sushi Restaurant   \n",
       "1                       Albrechtstr. 131      Sushi Restaurant   \n",
       "2  Alte Schönhauser Str. 13 (Mulackstr.)   Japanese Restaurant   \n",
       "3              Alte Schönhauser Str. 7-8   Japanese Restaurant   \n",
       "4                      Bergmannstraße 93   Japanese Restaurant   \n",
       "\n",
       "   2nd Most Common Venue          3rd Most Common Venue 4th Most Common Venue  \\\n",
       "0  Vietnamese Restaurant  Vegetarian / Vegan Restaurant      Ramen Restaurant   \n",
       "1  Vietnamese Restaurant  Vegetarian / Vegan Restaurant      Ramen Restaurant   \n",
       "2  Vietnamese Restaurant  Vegetarian / Vegan Restaurant      Sushi Restaurant   \n",
       "3  Vietnamese Restaurant  Vegetarian / Vegan Restaurant      Sushi Restaurant   \n",
       "4  Vietnamese Restaurant  Vegetarian / Vegan Restaurant      Sushi Restaurant   \n",
       "\n",
       "  5th Most Common Venue 6th Most Common Venue 7th Most Common Venue  \n",
       "0     Korean Restaurant   Japanese Restaurant          Cocktail Bar  \n",
       "1     Korean Restaurant   Japanese Restaurant          Cocktail Bar  \n",
       "2      Ramen Restaurant     Korean Restaurant          Cocktail Bar  \n",
       "3      Ramen Restaurant     Korean Restaurant          Cocktail Bar  \n",
       "4      Ramen Restaurant     Korean Restaurant          Cocktail Bar  "
      ]
     },
     "execution_count": 28,
     "metadata": {},
     "output_type": "execute_result"
    }
   ],
   "source": [
    "neighborhoods_venues_sorted.head()"
   ]
  },
  {
   "cell_type": "markdown",
   "metadata": {},
   "source": [
    "### 3.1 Cluster Neighborhoods"
   ]
  },
  {
   "cell_type": "markdown",
   "metadata": {},
   "source": [
    "I will run *k*-means to cluster the neighborhood into 5 clusters."
   ]
  },
  {
   "cell_type": "code",
   "execution_count": 29,
   "metadata": {},
   "outputs": [
    {
     "data": {
      "text/plain": [
       "array([0, 0, 2, 2, 2, 1, 2, 2, 2, 2], dtype=int32)"
      ]
     },
     "execution_count": 29,
     "metadata": {},
     "output_type": "execute_result"
    }
   ],
   "source": [
    "# set number of clusters\n",
    "kclusters = 5\n",
    "\n",
    "berlin_grouped_clustering = berlin_grouped.drop('neighborhood', 1)\n",
    "\n",
    "# run k-means clustering\n",
    "kmeans = KMeans(n_clusters=kclusters, random_state=0).fit(berlin_grouped_clustering)\n",
    "\n",
    "# check cluster labels generated for each row in the dataframe\n",
    "kmeans.labels_[0:10] "
   ]
  },
  {
   "cell_type": "code",
   "execution_count": 30,
   "metadata": {},
   "outputs": [
    {
     "data": {
      "text/plain": [
       "(5, 10)"
      ]
     },
     "execution_count": 30,
     "metadata": {},
     "output_type": "execute_result"
    }
   ],
   "source": [
    "kmeans_cluster_centers = kmeans.cluster_centers_\n",
    "kmeans_cluster_centers.shape"
   ]
  },
  {
   "cell_type": "code",
   "execution_count": 31,
   "metadata": {},
   "outputs": [],
   "source": [
    "neighborhoods_venues_sorted.insert(0,'Cluster Labels', kmeans.labels_)"
   ]
  },
  {
   "cell_type": "code",
   "execution_count": 32,
   "metadata": {},
   "outputs": [
    {
     "data": {
      "text/html": [
       "<div>\n",
       "<style scoped>\n",
       "    .dataframe tbody tr th:only-of-type {\n",
       "        vertical-align: middle;\n",
       "    }\n",
       "\n",
       "    .dataframe tbody tr th {\n",
       "        vertical-align: top;\n",
       "    }\n",
       "\n",
       "    .dataframe thead th {\n",
       "        text-align: right;\n",
       "    }\n",
       "</style>\n",
       "<table border=\"1\" class=\"dataframe\">\n",
       "  <thead>\n",
       "    <tr style=\"text-align: right;\">\n",
       "      <th></th>\n",
       "      <th>Cluster Labels</th>\n",
       "      <th>neighborhood</th>\n",
       "      <th>1st Most Common Venue</th>\n",
       "      <th>2nd Most Common Venue</th>\n",
       "      <th>3rd Most Common Venue</th>\n",
       "      <th>4th Most Common Venue</th>\n",
       "      <th>5th Most Common Venue</th>\n",
       "      <th>6th Most Common Venue</th>\n",
       "      <th>7th Most Common Venue</th>\n",
       "    </tr>\n",
       "  </thead>\n",
       "  <tbody>\n",
       "    <tr>\n",
       "      <th>0</th>\n",
       "      <td>0</td>\n",
       "      <td>Ahornstr. 32</td>\n",
       "      <td>Sushi Restaurant</td>\n",
       "      <td>Vietnamese Restaurant</td>\n",
       "      <td>Vegetarian / Vegan Restaurant</td>\n",
       "      <td>Ramen Restaurant</td>\n",
       "      <td>Korean Restaurant</td>\n",
       "      <td>Japanese Restaurant</td>\n",
       "      <td>Cocktail Bar</td>\n",
       "    </tr>\n",
       "    <tr>\n",
       "      <th>1</th>\n",
       "      <td>0</td>\n",
       "      <td>Albrechtstr. 131</td>\n",
       "      <td>Sushi Restaurant</td>\n",
       "      <td>Vietnamese Restaurant</td>\n",
       "      <td>Vegetarian / Vegan Restaurant</td>\n",
       "      <td>Ramen Restaurant</td>\n",
       "      <td>Korean Restaurant</td>\n",
       "      <td>Japanese Restaurant</td>\n",
       "      <td>Cocktail Bar</td>\n",
       "    </tr>\n",
       "    <tr>\n",
       "      <th>2</th>\n",
       "      <td>2</td>\n",
       "      <td>Alte Schönhauser Str. 13 (Mulackstr.)</td>\n",
       "      <td>Japanese Restaurant</td>\n",
       "      <td>Vietnamese Restaurant</td>\n",
       "      <td>Vegetarian / Vegan Restaurant</td>\n",
       "      <td>Sushi Restaurant</td>\n",
       "      <td>Ramen Restaurant</td>\n",
       "      <td>Korean Restaurant</td>\n",
       "      <td>Cocktail Bar</td>\n",
       "    </tr>\n",
       "    <tr>\n",
       "      <th>3</th>\n",
       "      <td>2</td>\n",
       "      <td>Alte Schönhauser Str. 7-8</td>\n",
       "      <td>Japanese Restaurant</td>\n",
       "      <td>Vietnamese Restaurant</td>\n",
       "      <td>Vegetarian / Vegan Restaurant</td>\n",
       "      <td>Sushi Restaurant</td>\n",
       "      <td>Ramen Restaurant</td>\n",
       "      <td>Korean Restaurant</td>\n",
       "      <td>Cocktail Bar</td>\n",
       "    </tr>\n",
       "    <tr>\n",
       "      <th>4</th>\n",
       "      <td>2</td>\n",
       "      <td>Bergmannstraße 93</td>\n",
       "      <td>Japanese Restaurant</td>\n",
       "      <td>Vietnamese Restaurant</td>\n",
       "      <td>Vegetarian / Vegan Restaurant</td>\n",
       "      <td>Sushi Restaurant</td>\n",
       "      <td>Ramen Restaurant</td>\n",
       "      <td>Korean Restaurant</td>\n",
       "      <td>Cocktail Bar</td>\n",
       "    </tr>\n",
       "  </tbody>\n",
       "</table>\n",
       "</div>"
      ],
      "text/plain": [
       "   Cluster Labels                           neighborhood  \\\n",
       "0               0                           Ahornstr. 32   \n",
       "1               0                       Albrechtstr. 131   \n",
       "2               2  Alte Schönhauser Str. 13 (Mulackstr.)   \n",
       "3               2              Alte Schönhauser Str. 7-8   \n",
       "4               2                      Bergmannstraße 93   \n",
       "\n",
       "  1st Most Common Venue  2nd Most Common Venue          3rd Most Common Venue  \\\n",
       "0      Sushi Restaurant  Vietnamese Restaurant  Vegetarian / Vegan Restaurant   \n",
       "1      Sushi Restaurant  Vietnamese Restaurant  Vegetarian / Vegan Restaurant   \n",
       "2   Japanese Restaurant  Vietnamese Restaurant  Vegetarian / Vegan Restaurant   \n",
       "3   Japanese Restaurant  Vietnamese Restaurant  Vegetarian / Vegan Restaurant   \n",
       "4   Japanese Restaurant  Vietnamese Restaurant  Vegetarian / Vegan Restaurant   \n",
       "\n",
       "  4th Most Common Venue 5th Most Common Venue 6th Most Common Venue  \\\n",
       "0      Ramen Restaurant     Korean Restaurant   Japanese Restaurant   \n",
       "1      Ramen Restaurant     Korean Restaurant   Japanese Restaurant   \n",
       "2      Sushi Restaurant      Ramen Restaurant     Korean Restaurant   \n",
       "3      Sushi Restaurant      Ramen Restaurant     Korean Restaurant   \n",
       "4      Sushi Restaurant      Ramen Restaurant     Korean Restaurant   \n",
       "\n",
       "  7th Most Common Venue  \n",
       "0          Cocktail Bar  \n",
       "1          Cocktail Bar  \n",
       "2          Cocktail Bar  \n",
       "3          Cocktail Bar  \n",
       "4          Cocktail Bar  "
      ]
     },
     "execution_count": 32,
     "metadata": {},
     "output_type": "execute_result"
    }
   ],
   "source": [
    "neighborhoods_venues_sorted.head()"
   ]
  },
  {
   "cell_type": "code",
   "execution_count": 33,
   "metadata": {},
   "outputs": [
    {
     "data": {
      "text/html": [
       "<div>\n",
       "<style scoped>\n",
       "    .dataframe tbody tr th:only-of-type {\n",
       "        vertical-align: middle;\n",
       "    }\n",
       "\n",
       "    .dataframe tbody tr th {\n",
       "        vertical-align: top;\n",
       "    }\n",
       "\n",
       "    .dataframe thead th {\n",
       "        text-align: right;\n",
       "    }\n",
       "</style>\n",
       "<table border=\"1\" class=\"dataframe\">\n",
       "  <thead>\n",
       "    <tr style=\"text-align: right;\">\n",
       "      <th></th>\n",
       "      <th>id</th>\n",
       "      <th>name</th>\n",
       "      <th>categories</th>\n",
       "      <th>lat</th>\n",
       "      <th>lng</th>\n",
       "      <th>neighborhood</th>\n",
       "    </tr>\n",
       "  </thead>\n",
       "  <tbody>\n",
       "    <tr>\n",
       "      <th>0</th>\n",
       "      <td>55f9a48e498ee737a1893058</td>\n",
       "      <td>Heno Heno</td>\n",
       "      <td>Japanese Restaurant</td>\n",
       "      <td>52.503964</td>\n",
       "      <td>13.315578</td>\n",
       "      <td>Wielandstr. 37</td>\n",
       "    </tr>\n",
       "    <tr>\n",
       "      <th>1</th>\n",
       "      <td>4bbe353b9474c9b63e41d9b6</td>\n",
       "      <td>Kushinoya</td>\n",
       "      <td>Japanese Restaurant</td>\n",
       "      <td>52.505372</td>\n",
       "      <td>13.319982</td>\n",
       "      <td>Bleibtreustr. 6</td>\n",
       "    </tr>\n",
       "    <tr>\n",
       "      <th>2</th>\n",
       "      <td>570b97c4498e2c6e7c5eb991</td>\n",
       "      <td>Smart Deli</td>\n",
       "      <td>Japanese Restaurant</td>\n",
       "      <td>52.528094</td>\n",
       "      <td>13.389060</td>\n",
       "      <td>Novalisstr. 2</td>\n",
       "    </tr>\n",
       "    <tr>\n",
       "      <th>3</th>\n",
       "      <td>57c9e26a498ed1dcbbd0b461</td>\n",
       "      <td>Sticks'n'Sushi</td>\n",
       "      <td>Japanese Restaurant</td>\n",
       "      <td>52.502020</td>\n",
       "      <td>13.365064</td>\n",
       "      <td>Potsdamer Str. 85</td>\n",
       "    </tr>\n",
       "    <tr>\n",
       "      <th>4</th>\n",
       "      <td>4c0fde34ce57c928f7f580d2</td>\n",
       "      <td>Green Tea Café MAMECHA</td>\n",
       "      <td>Japanese Restaurant</td>\n",
       "      <td>52.527284</td>\n",
       "      <td>13.406305</td>\n",
       "      <td>Mulackstr. 33 (Rückerstr.)</td>\n",
       "    </tr>\n",
       "  </tbody>\n",
       "</table>\n",
       "</div>"
      ],
      "text/plain": [
       "                         id                    name           categories  \\\n",
       "0  55f9a48e498ee737a1893058               Heno Heno  Japanese Restaurant   \n",
       "1  4bbe353b9474c9b63e41d9b6               Kushinoya  Japanese Restaurant   \n",
       "2  570b97c4498e2c6e7c5eb991              Smart Deli  Japanese Restaurant   \n",
       "3  57c9e26a498ed1dcbbd0b461          Sticks'n'Sushi  Japanese Restaurant   \n",
       "4  4c0fde34ce57c928f7f580d2  Green Tea Café MAMECHA  Japanese Restaurant   \n",
       "\n",
       "         lat        lng                neighborhood  \n",
       "0  52.503964  13.315578              Wielandstr. 37  \n",
       "1  52.505372  13.319982             Bleibtreustr. 6  \n",
       "2  52.528094  13.389060               Novalisstr. 2  \n",
       "3  52.502020  13.365064           Potsdamer Str. 85  \n",
       "4  52.527284  13.406305  Mulackstr. 33 (Rückerstr.)  "
      ]
     },
     "execution_count": 33,
     "metadata": {},
     "output_type": "execute_result"
    }
   ],
   "source": [
    "df_jc.head()"
   ]
  },
  {
   "cell_type": "code",
   "execution_count": 34,
   "metadata": {},
   "outputs": [
    {
     "data": {
      "text/html": [
       "<div>\n",
       "<style scoped>\n",
       "    .dataframe tbody tr th:only-of-type {\n",
       "        vertical-align: middle;\n",
       "    }\n",
       "\n",
       "    .dataframe tbody tr th {\n",
       "        vertical-align: top;\n",
       "    }\n",
       "\n",
       "    .dataframe thead th {\n",
       "        text-align: right;\n",
       "    }\n",
       "</style>\n",
       "<table border=\"1\" class=\"dataframe\">\n",
       "  <thead>\n",
       "    <tr style=\"text-align: right;\">\n",
       "      <th></th>\n",
       "      <th>id</th>\n",
       "      <th>name</th>\n",
       "      <th>categories</th>\n",
       "      <th>lat</th>\n",
       "      <th>lng</th>\n",
       "      <th>neighborhood</th>\n",
       "      <th>Cluster Labels</th>\n",
       "      <th>1st Most Common Venue</th>\n",
       "      <th>2nd Most Common Venue</th>\n",
       "      <th>3rd Most Common Venue</th>\n",
       "      <th>4th Most Common Venue</th>\n",
       "      <th>5th Most Common Venue</th>\n",
       "      <th>6th Most Common Venue</th>\n",
       "      <th>7th Most Common Venue</th>\n",
       "    </tr>\n",
       "  </thead>\n",
       "  <tbody>\n",
       "    <tr>\n",
       "      <th>0</th>\n",
       "      <td>55f9a48e498ee737a1893058</td>\n",
       "      <td>Heno Heno</td>\n",
       "      <td>Japanese Restaurant</td>\n",
       "      <td>52.503964</td>\n",
       "      <td>13.315578</td>\n",
       "      <td>Wielandstr. 37</td>\n",
       "      <td>2</td>\n",
       "      <td>Japanese Restaurant</td>\n",
       "      <td>Vietnamese Restaurant</td>\n",
       "      <td>Vegetarian / Vegan Restaurant</td>\n",
       "      <td>Sushi Restaurant</td>\n",
       "      <td>Ramen Restaurant</td>\n",
       "      <td>Korean Restaurant</td>\n",
       "      <td>Cocktail Bar</td>\n",
       "    </tr>\n",
       "    <tr>\n",
       "      <th>1</th>\n",
       "      <td>4bbe353b9474c9b63e41d9b6</td>\n",
       "      <td>Kushinoya</td>\n",
       "      <td>Japanese Restaurant</td>\n",
       "      <td>52.505372</td>\n",
       "      <td>13.319982</td>\n",
       "      <td>Bleibtreustr. 6</td>\n",
       "      <td>2</td>\n",
       "      <td>Japanese Restaurant</td>\n",
       "      <td>Vietnamese Restaurant</td>\n",
       "      <td>Vegetarian / Vegan Restaurant</td>\n",
       "      <td>Sushi Restaurant</td>\n",
       "      <td>Ramen Restaurant</td>\n",
       "      <td>Korean Restaurant</td>\n",
       "      <td>Cocktail Bar</td>\n",
       "    </tr>\n",
       "    <tr>\n",
       "      <th>2</th>\n",
       "      <td>570b97c4498e2c6e7c5eb991</td>\n",
       "      <td>Smart Deli</td>\n",
       "      <td>Japanese Restaurant</td>\n",
       "      <td>52.528094</td>\n",
       "      <td>13.389060</td>\n",
       "      <td>Novalisstr. 2</td>\n",
       "      <td>2</td>\n",
       "      <td>Japanese Restaurant</td>\n",
       "      <td>Vietnamese Restaurant</td>\n",
       "      <td>Vegetarian / Vegan Restaurant</td>\n",
       "      <td>Sushi Restaurant</td>\n",
       "      <td>Ramen Restaurant</td>\n",
       "      <td>Korean Restaurant</td>\n",
       "      <td>Cocktail Bar</td>\n",
       "    </tr>\n",
       "    <tr>\n",
       "      <th>3</th>\n",
       "      <td>57c9e26a498ed1dcbbd0b461</td>\n",
       "      <td>Sticks'n'Sushi</td>\n",
       "      <td>Japanese Restaurant</td>\n",
       "      <td>52.502020</td>\n",
       "      <td>13.365064</td>\n",
       "      <td>Potsdamer Str. 85</td>\n",
       "      <td>2</td>\n",
       "      <td>Japanese Restaurant</td>\n",
       "      <td>Vietnamese Restaurant</td>\n",
       "      <td>Vegetarian / Vegan Restaurant</td>\n",
       "      <td>Sushi Restaurant</td>\n",
       "      <td>Ramen Restaurant</td>\n",
       "      <td>Korean Restaurant</td>\n",
       "      <td>Cocktail Bar</td>\n",
       "    </tr>\n",
       "    <tr>\n",
       "      <th>4</th>\n",
       "      <td>4c0fde34ce57c928f7f580d2</td>\n",
       "      <td>Green Tea Café MAMECHA</td>\n",
       "      <td>Japanese Restaurant</td>\n",
       "      <td>52.527284</td>\n",
       "      <td>13.406305</td>\n",
       "      <td>Mulackstr. 33 (Rückerstr.)</td>\n",
       "      <td>2</td>\n",
       "      <td>Japanese Restaurant</td>\n",
       "      <td>Vietnamese Restaurant</td>\n",
       "      <td>Vegetarian / Vegan Restaurant</td>\n",
       "      <td>Sushi Restaurant</td>\n",
       "      <td>Ramen Restaurant</td>\n",
       "      <td>Korean Restaurant</td>\n",
       "      <td>Cocktail Bar</td>\n",
       "    </tr>\n",
       "  </tbody>\n",
       "</table>\n",
       "</div>"
      ],
      "text/plain": [
       "                         id                    name           categories  \\\n",
       "0  55f9a48e498ee737a1893058               Heno Heno  Japanese Restaurant   \n",
       "1  4bbe353b9474c9b63e41d9b6               Kushinoya  Japanese Restaurant   \n",
       "2  570b97c4498e2c6e7c5eb991              Smart Deli  Japanese Restaurant   \n",
       "3  57c9e26a498ed1dcbbd0b461          Sticks'n'Sushi  Japanese Restaurant   \n",
       "4  4c0fde34ce57c928f7f580d2  Green Tea Café MAMECHA  Japanese Restaurant   \n",
       "\n",
       "         lat        lng                neighborhood  Cluster Labels  \\\n",
       "0  52.503964  13.315578              Wielandstr. 37               2   \n",
       "1  52.505372  13.319982             Bleibtreustr. 6               2   \n",
       "2  52.528094  13.389060               Novalisstr. 2               2   \n",
       "3  52.502020  13.365064           Potsdamer Str. 85               2   \n",
       "4  52.527284  13.406305  Mulackstr. 33 (Rückerstr.)               2   \n",
       "\n",
       "  1st Most Common Venue  2nd Most Common Venue          3rd Most Common Venue  \\\n",
       "0   Japanese Restaurant  Vietnamese Restaurant  Vegetarian / Vegan Restaurant   \n",
       "1   Japanese Restaurant  Vietnamese Restaurant  Vegetarian / Vegan Restaurant   \n",
       "2   Japanese Restaurant  Vietnamese Restaurant  Vegetarian / Vegan Restaurant   \n",
       "3   Japanese Restaurant  Vietnamese Restaurant  Vegetarian / Vegan Restaurant   \n",
       "4   Japanese Restaurant  Vietnamese Restaurant  Vegetarian / Vegan Restaurant   \n",
       "\n",
       "  4th Most Common Venue 5th Most Common Venue 6th Most Common Venue  \\\n",
       "0      Sushi Restaurant      Ramen Restaurant     Korean Restaurant   \n",
       "1      Sushi Restaurant      Ramen Restaurant     Korean Restaurant   \n",
       "2      Sushi Restaurant      Ramen Restaurant     Korean Restaurant   \n",
       "3      Sushi Restaurant      Ramen Restaurant     Korean Restaurant   \n",
       "4      Sushi Restaurant      Ramen Restaurant     Korean Restaurant   \n",
       "\n",
       "  7th Most Common Venue  \n",
       "0          Cocktail Bar  \n",
       "1          Cocktail Bar  \n",
       "2          Cocktail Bar  \n",
       "3          Cocktail Bar  \n",
       "4          Cocktail Bar  "
      ]
     },
     "execution_count": 34,
     "metadata": {},
     "output_type": "execute_result"
    }
   ],
   "source": [
    "# add clustering labels\n",
    "#neighborhoods_venues_sorted.insert(0,'Cluster Labels', kmeans.labels_)\n",
    "\n",
    "berlin_merged = df_jc\n",
    "\n",
    "# merge berlin_grouped with berlin_data to add latitude/longitude for each neighborhood\n",
    "berlin_merged = berlin_merged.join(neighborhoods_venues_sorted.set_index('neighborhood'), on='neighborhood')\n",
    "berlin_merged.head() # check the last columns!"
   ]
  },
  {
   "cell_type": "markdown",
   "metadata": {},
   "source": [
    "## 4. Analysis  <a name=\"Analysis\"></a>"
   ]
  },
  {
   "cell_type": "markdown",
   "metadata": {},
   "source": [
    "Now that we applied the **K-mean Clustering**, we will analise each cluster creating datasets for each of them. "
   ]
  },
  {
   "cell_type": "markdown",
   "metadata": {},
   "source": [
    "### Cluster 0"
   ]
  },
  {
   "cell_type": "code",
   "execution_count": 35,
   "metadata": {},
   "outputs": [
    {
     "data": {
      "text/html": [
       "<div>\n",
       "<style scoped>\n",
       "    .dataframe tbody tr th:only-of-type {\n",
       "        vertical-align: middle;\n",
       "    }\n",
       "\n",
       "    .dataframe tbody tr th {\n",
       "        vertical-align: top;\n",
       "    }\n",
       "\n",
       "    .dataframe thead th {\n",
       "        text-align: right;\n",
       "    }\n",
       "</style>\n",
       "<table border=\"1\" class=\"dataframe\">\n",
       "  <thead>\n",
       "    <tr style=\"text-align: right;\">\n",
       "      <th></th>\n",
       "      <th>id</th>\n",
       "      <th>neighborhood</th>\n",
       "      <th>Cluster Labels</th>\n",
       "      <th>1st Most Common Venue</th>\n",
       "      <th>2nd Most Common Venue</th>\n",
       "      <th>3rd Most Common Venue</th>\n",
       "      <th>4th Most Common Venue</th>\n",
       "      <th>5th Most Common Venue</th>\n",
       "      <th>6th Most Common Venue</th>\n",
       "      <th>7th Most Common Venue</th>\n",
       "    </tr>\n",
       "  </thead>\n",
       "  <tbody>\n",
       "    <tr>\n",
       "      <th>28</th>\n",
       "      <td>4b3ba703f964a5200a7825e3</td>\n",
       "      <td>Kottbusser Damm 102</td>\n",
       "      <td>0</td>\n",
       "      <td>Sushi Restaurant</td>\n",
       "      <td>Vietnamese Restaurant</td>\n",
       "      <td>Vegetarian / Vegan Restaurant</td>\n",
       "      <td>Ramen Restaurant</td>\n",
       "      <td>Korean Restaurant</td>\n",
       "      <td>Japanese Restaurant</td>\n",
       "      <td>Cocktail Bar</td>\n",
       "    </tr>\n",
       "    <tr>\n",
       "      <th>48</th>\n",
       "      <td>4d358f7f2c76a1438bd18fc7</td>\n",
       "      <td>Goethestr. 37-38</td>\n",
       "      <td>0</td>\n",
       "      <td>Sushi Restaurant</td>\n",
       "      <td>Vietnamese Restaurant</td>\n",
       "      <td>Vegetarian / Vegan Restaurant</td>\n",
       "      <td>Ramen Restaurant</td>\n",
       "      <td>Korean Restaurant</td>\n",
       "      <td>Japanese Restaurant</td>\n",
       "      <td>Cocktail Bar</td>\n",
       "    </tr>\n",
       "    <tr>\n",
       "      <th>53</th>\n",
       "      <td>4adcda88f964a520724921e3</td>\n",
       "      <td>Albrechtstr. 131</td>\n",
       "      <td>0</td>\n",
       "      <td>Sushi Restaurant</td>\n",
       "      <td>Vietnamese Restaurant</td>\n",
       "      <td>Vegetarian / Vegan Restaurant</td>\n",
       "      <td>Ramen Restaurant</td>\n",
       "      <td>Korean Restaurant</td>\n",
       "      <td>Japanese Restaurant</td>\n",
       "      <td>Cocktail Bar</td>\n",
       "    </tr>\n",
       "    <tr>\n",
       "      <th>54</th>\n",
       "      <td>5571f00e498e055a7d77700d</td>\n",
       "      <td>Dahlmannstr. 14</td>\n",
       "      <td>0</td>\n",
       "      <td>Sushi Restaurant</td>\n",
       "      <td>Vietnamese Restaurant</td>\n",
       "      <td>Vegetarian / Vegan Restaurant</td>\n",
       "      <td>Ramen Restaurant</td>\n",
       "      <td>Korean Restaurant</td>\n",
       "      <td>Japanese Restaurant</td>\n",
       "      <td>Cocktail Bar</td>\n",
       "    </tr>\n",
       "    <tr>\n",
       "      <th>55</th>\n",
       "      <td>4c84d8ab51ada1cd472a3210</td>\n",
       "      <td>Wilmersdorfer Str. 22 (Thrasoltstr.)</td>\n",
       "      <td>0</td>\n",
       "      <td>Sushi Restaurant</td>\n",
       "      <td>Vietnamese Restaurant</td>\n",
       "      <td>Vegetarian / Vegan Restaurant</td>\n",
       "      <td>Ramen Restaurant</td>\n",
       "      <td>Korean Restaurant</td>\n",
       "      <td>Japanese Restaurant</td>\n",
       "      <td>Cocktail Bar</td>\n",
       "    </tr>\n",
       "  </tbody>\n",
       "</table>\n",
       "</div>"
      ],
      "text/plain": [
       "                          id                          neighborhood  \\\n",
       "28  4b3ba703f964a5200a7825e3                   Kottbusser Damm 102   \n",
       "48  4d358f7f2c76a1438bd18fc7                      Goethestr. 37-38   \n",
       "53  4adcda88f964a520724921e3                      Albrechtstr. 131   \n",
       "54  5571f00e498e055a7d77700d                       Dahlmannstr. 14   \n",
       "55  4c84d8ab51ada1cd472a3210  Wilmersdorfer Str. 22 (Thrasoltstr.)   \n",
       "\n",
       "    Cluster Labels 1st Most Common Venue  2nd Most Common Venue  \\\n",
       "28               0      Sushi Restaurant  Vietnamese Restaurant   \n",
       "48               0      Sushi Restaurant  Vietnamese Restaurant   \n",
       "53               0      Sushi Restaurant  Vietnamese Restaurant   \n",
       "54               0      Sushi Restaurant  Vietnamese Restaurant   \n",
       "55               0      Sushi Restaurant  Vietnamese Restaurant   \n",
       "\n",
       "            3rd Most Common Venue 4th Most Common Venue 5th Most Common Venue  \\\n",
       "28  Vegetarian / Vegan Restaurant      Ramen Restaurant     Korean Restaurant   \n",
       "48  Vegetarian / Vegan Restaurant      Ramen Restaurant     Korean Restaurant   \n",
       "53  Vegetarian / Vegan Restaurant      Ramen Restaurant     Korean Restaurant   \n",
       "54  Vegetarian / Vegan Restaurant      Ramen Restaurant     Korean Restaurant   \n",
       "55  Vegetarian / Vegan Restaurant      Ramen Restaurant     Korean Restaurant   \n",
       "\n",
       "   6th Most Common Venue 7th Most Common Venue  \n",
       "28   Japanese Restaurant          Cocktail Bar  \n",
       "48   Japanese Restaurant          Cocktail Bar  \n",
       "53   Japanese Restaurant          Cocktail Bar  \n",
       "54   Japanese Restaurant          Cocktail Bar  \n",
       "55   Japanese Restaurant          Cocktail Bar  "
      ]
     },
     "execution_count": 35,
     "metadata": {},
     "output_type": "execute_result"
    }
   ],
   "source": [
    "berlin_merged.loc[berlin_merged['Cluster Labels'] == 0, berlin_merged.columns[[0] + list(range(5, berlin_merged.shape[1]))]].head()"
   ]
  },
  {
   "cell_type": "code",
   "execution_count": 36,
   "metadata": {},
   "outputs": [
    {
     "data": {
      "text/plain": [
       "24"
      ]
     },
     "execution_count": 36,
     "metadata": {},
     "output_type": "execute_result"
    }
   ],
   "source": [
    "berlin_merged['categories'].loc[berlin_merged['Cluster Labels'] == 0].count()"
   ]
  },
  {
   "cell_type": "code",
   "execution_count": 37,
   "metadata": {},
   "outputs": [
    {
     "data": {
      "text/html": [
       "<div>\n",
       "<style scoped>\n",
       "    .dataframe tbody tr th:only-of-type {\n",
       "        vertical-align: middle;\n",
       "    }\n",
       "\n",
       "    .dataframe tbody tr th {\n",
       "        vertical-align: top;\n",
       "    }\n",
       "\n",
       "    .dataframe thead th {\n",
       "        text-align: right;\n",
       "    }\n",
       "</style>\n",
       "<table border=\"1\" class=\"dataframe\">\n",
       "  <thead>\n",
       "    <tr style=\"text-align: right;\">\n",
       "      <th></th>\n",
       "      <th>id</th>\n",
       "      <th>neighborhood</th>\n",
       "      <th>Cluster Labels</th>\n",
       "      <th>1st Most Common Venue</th>\n",
       "      <th>2nd Most Common Venue</th>\n",
       "      <th>3rd Most Common Venue</th>\n",
       "      <th>4th Most Common Venue</th>\n",
       "      <th>5th Most Common Venue</th>\n",
       "      <th>6th Most Common Venue</th>\n",
       "      <th>7th Most Common Venue</th>\n",
       "    </tr>\n",
       "  </thead>\n",
       "  <tbody>\n",
       "    <tr>\n",
       "      <th>28</th>\n",
       "      <td>4b3ba703f964a5200a7825e3</td>\n",
       "      <td>Kottbusser Damm 102</td>\n",
       "      <td>0</td>\n",
       "      <td>Sushi Restaurant</td>\n",
       "      <td>Vietnamese Restaurant</td>\n",
       "      <td>Vegetarian / Vegan Restaurant</td>\n",
       "      <td>Ramen Restaurant</td>\n",
       "      <td>Korean Restaurant</td>\n",
       "      <td>Japanese Restaurant</td>\n",
       "      <td>Cocktail Bar</td>\n",
       "    </tr>\n",
       "    <tr>\n",
       "      <th>48</th>\n",
       "      <td>4d358f7f2c76a1438bd18fc7</td>\n",
       "      <td>Goethestr. 37-38</td>\n",
       "      <td>0</td>\n",
       "      <td>Sushi Restaurant</td>\n",
       "      <td>Vietnamese Restaurant</td>\n",
       "      <td>Vegetarian / Vegan Restaurant</td>\n",
       "      <td>Ramen Restaurant</td>\n",
       "      <td>Korean Restaurant</td>\n",
       "      <td>Japanese Restaurant</td>\n",
       "      <td>Cocktail Bar</td>\n",
       "    </tr>\n",
       "    <tr>\n",
       "      <th>53</th>\n",
       "      <td>4adcda88f964a520724921e3</td>\n",
       "      <td>Albrechtstr. 131</td>\n",
       "      <td>0</td>\n",
       "      <td>Sushi Restaurant</td>\n",
       "      <td>Vietnamese Restaurant</td>\n",
       "      <td>Vegetarian / Vegan Restaurant</td>\n",
       "      <td>Ramen Restaurant</td>\n",
       "      <td>Korean Restaurant</td>\n",
       "      <td>Japanese Restaurant</td>\n",
       "      <td>Cocktail Bar</td>\n",
       "    </tr>\n",
       "    <tr>\n",
       "      <th>54</th>\n",
       "      <td>5571f00e498e055a7d77700d</td>\n",
       "      <td>Dahlmannstr. 14</td>\n",
       "      <td>0</td>\n",
       "      <td>Sushi Restaurant</td>\n",
       "      <td>Vietnamese Restaurant</td>\n",
       "      <td>Vegetarian / Vegan Restaurant</td>\n",
       "      <td>Ramen Restaurant</td>\n",
       "      <td>Korean Restaurant</td>\n",
       "      <td>Japanese Restaurant</td>\n",
       "      <td>Cocktail Bar</td>\n",
       "    </tr>\n",
       "    <tr>\n",
       "      <th>55</th>\n",
       "      <td>4c84d8ab51ada1cd472a3210</td>\n",
       "      <td>Wilmersdorfer Str. 22 (Thrasoltstr.)</td>\n",
       "      <td>0</td>\n",
       "      <td>Sushi Restaurant</td>\n",
       "      <td>Vietnamese Restaurant</td>\n",
       "      <td>Vegetarian / Vegan Restaurant</td>\n",
       "      <td>Ramen Restaurant</td>\n",
       "      <td>Korean Restaurant</td>\n",
       "      <td>Japanese Restaurant</td>\n",
       "      <td>Cocktail Bar</td>\n",
       "    </tr>\n",
       "  </tbody>\n",
       "</table>\n",
       "</div>"
      ],
      "text/plain": [
       "                          id                          neighborhood  \\\n",
       "28  4b3ba703f964a5200a7825e3                   Kottbusser Damm 102   \n",
       "48  4d358f7f2c76a1438bd18fc7                      Goethestr. 37-38   \n",
       "53  4adcda88f964a520724921e3                      Albrechtstr. 131   \n",
       "54  5571f00e498e055a7d77700d                       Dahlmannstr. 14   \n",
       "55  4c84d8ab51ada1cd472a3210  Wilmersdorfer Str. 22 (Thrasoltstr.)   \n",
       "\n",
       "    Cluster Labels 1st Most Common Venue  2nd Most Common Venue  \\\n",
       "28               0      Sushi Restaurant  Vietnamese Restaurant   \n",
       "48               0      Sushi Restaurant  Vietnamese Restaurant   \n",
       "53               0      Sushi Restaurant  Vietnamese Restaurant   \n",
       "54               0      Sushi Restaurant  Vietnamese Restaurant   \n",
       "55               0      Sushi Restaurant  Vietnamese Restaurant   \n",
       "\n",
       "            3rd Most Common Venue 4th Most Common Venue 5th Most Common Venue  \\\n",
       "28  Vegetarian / Vegan Restaurant      Ramen Restaurant     Korean Restaurant   \n",
       "48  Vegetarian / Vegan Restaurant      Ramen Restaurant     Korean Restaurant   \n",
       "53  Vegetarian / Vegan Restaurant      Ramen Restaurant     Korean Restaurant   \n",
       "54  Vegetarian / Vegan Restaurant      Ramen Restaurant     Korean Restaurant   \n",
       "55  Vegetarian / Vegan Restaurant      Ramen Restaurant     Korean Restaurant   \n",
       "\n",
       "   6th Most Common Venue 7th Most Common Venue  \n",
       "28   Japanese Restaurant          Cocktail Bar  \n",
       "48   Japanese Restaurant          Cocktail Bar  \n",
       "53   Japanese Restaurant          Cocktail Bar  \n",
       "54   Japanese Restaurant          Cocktail Bar  \n",
       "55   Japanese Restaurant          Cocktail Bar  "
      ]
     },
     "execution_count": 37,
     "metadata": {},
     "output_type": "execute_result"
    }
   ],
   "source": [
    "berlin_merged.loc[berlin_merged['Cluster Labels'] == 0, berlin_merged.columns[[0] + list(range(5, berlin_merged.shape[1]))]].head()"
   ]
  },
  {
   "cell_type": "markdown",
   "metadata": {},
   "source": [
    "### Cluster 1"
   ]
  },
  {
   "cell_type": "code",
   "execution_count": 38,
   "metadata": {},
   "outputs": [
    {
     "data": {
      "text/plain": [
       "7"
      ]
     },
     "execution_count": 38,
     "metadata": {},
     "output_type": "execute_result"
    }
   ],
   "source": [
    "clusterone = berlin_merged.loc[berlin_merged['Cluster Labels'] == 1, berlin_merged.columns[[1] + list(range(5, berlin_merged.shape[1]))]]\n",
    "berlin_merged['categories'].loc[berlin_merged['Cluster Labels'] == 1].count()"
   ]
  },
  {
   "cell_type": "code",
   "execution_count": 39,
   "metadata": {},
   "outputs": [
    {
     "data": {
      "text/html": [
       "<div>\n",
       "<style scoped>\n",
       "    .dataframe tbody tr th:only-of-type {\n",
       "        vertical-align: middle;\n",
       "    }\n",
       "\n",
       "    .dataframe tbody tr th {\n",
       "        vertical-align: top;\n",
       "    }\n",
       "\n",
       "    .dataframe thead th {\n",
       "        text-align: right;\n",
       "    }\n",
       "</style>\n",
       "<table border=\"1\" class=\"dataframe\">\n",
       "  <thead>\n",
       "    <tr style=\"text-align: right;\">\n",
       "      <th></th>\n",
       "      <th>name</th>\n",
       "      <th>neighborhood</th>\n",
       "      <th>Cluster Labels</th>\n",
       "      <th>1st Most Common Venue</th>\n",
       "      <th>2nd Most Common Venue</th>\n",
       "      <th>3rd Most Common Venue</th>\n",
       "      <th>4th Most Common Venue</th>\n",
       "      <th>5th Most Common Venue</th>\n",
       "      <th>6th Most Common Venue</th>\n",
       "      <th>7th Most Common Venue</th>\n",
       "    </tr>\n",
       "  </thead>\n",
       "  <tbody>\n",
       "    <tr>\n",
       "      <th>26</th>\n",
       "      <td>KUCHI Mitte</td>\n",
       "      <td>Gipsstr. 3 (Auguststr.)</td>\n",
       "      <td>1</td>\n",
       "      <td>Ramen Restaurant</td>\n",
       "      <td>Japanese Restaurant</td>\n",
       "      <td>Vietnamese Restaurant</td>\n",
       "      <td>Vegetarian / Vegan Restaurant</td>\n",
       "      <td>Sushi Restaurant</td>\n",
       "      <td>Korean Restaurant</td>\n",
       "      <td>Cocktail Bar</td>\n",
       "    </tr>\n",
       "    <tr>\n",
       "      <th>39</th>\n",
       "      <td>Cocolo Ramen</td>\n",
       "      <td>Gipsstr. 3 (Auguststr.)</td>\n",
       "      <td>1</td>\n",
       "      <td>Ramen Restaurant</td>\n",
       "      <td>Japanese Restaurant</td>\n",
       "      <td>Vietnamese Restaurant</td>\n",
       "      <td>Vegetarian / Vegan Restaurant</td>\n",
       "      <td>Sushi Restaurant</td>\n",
       "      <td>Korean Restaurant</td>\n",
       "      <td>Cocktail Bar</td>\n",
       "    </tr>\n",
       "    <tr>\n",
       "      <th>68</th>\n",
       "      <td>Asia Land</td>\n",
       "      <td>Berlin</td>\n",
       "      <td>1</td>\n",
       "      <td>Chinese Restaurant</td>\n",
       "      <td>Vietnamese Restaurant</td>\n",
       "      <td>Vegetarian / Vegan Restaurant</td>\n",
       "      <td>Sushi Restaurant</td>\n",
       "      <td>Ramen Restaurant</td>\n",
       "      <td>Korean Restaurant</td>\n",
       "      <td>Japanese Restaurant</td>\n",
       "    </tr>\n",
       "    <tr>\n",
       "      <th>72</th>\n",
       "      <td>Café Komine</td>\n",
       "      <td>Welserstr. 13-15 (Geisbeegerstr.)</td>\n",
       "      <td>1</td>\n",
       "      <td>Café</td>\n",
       "      <td>Vietnamese Restaurant</td>\n",
       "      <td>Vegetarian / Vegan Restaurant</td>\n",
       "      <td>Sushi Restaurant</td>\n",
       "      <td>Ramen Restaurant</td>\n",
       "      <td>Korean Restaurant</td>\n",
       "      <td>Japanese Restaurant</td>\n",
       "    </tr>\n",
       "    <tr>\n",
       "      <th>85</th>\n",
       "      <td>Secret Garden Berlin</td>\n",
       "      <td>Wahrschauerstr. 32 (Helsingforser Str.)</td>\n",
       "      <td>1</td>\n",
       "      <td>Vegetarian / Vegan Restaurant</td>\n",
       "      <td>Vietnamese Restaurant</td>\n",
       "      <td>Sushi Restaurant</td>\n",
       "      <td>Ramen Restaurant</td>\n",
       "      <td>Korean Restaurant</td>\n",
       "      <td>Japanese Restaurant</td>\n",
       "      <td>Cocktail Bar</td>\n",
       "    </tr>\n",
       "    <tr>\n",
       "      <th>88</th>\n",
       "      <td>Seoulkitchen Korean BBQ &amp; Sushi</td>\n",
       "      <td>Warschauer Str. 46 (Mühlenstr.)</td>\n",
       "      <td>1</td>\n",
       "      <td>Korean Restaurant</td>\n",
       "      <td>Vietnamese Restaurant</td>\n",
       "      <td>Vegetarian / Vegan Restaurant</td>\n",
       "      <td>Sushi Restaurant</td>\n",
       "      <td>Ramen Restaurant</td>\n",
       "      <td>Japanese Restaurant</td>\n",
       "      <td>Cocktail Bar</td>\n",
       "    </tr>\n",
       "    <tr>\n",
       "      <th>98</th>\n",
       "      <td>Bar Tausend</td>\n",
       "      <td>Schiffbauerdamm 11</td>\n",
       "      <td>1</td>\n",
       "      <td>Cocktail Bar</td>\n",
       "      <td>Vietnamese Restaurant</td>\n",
       "      <td>Vegetarian / Vegan Restaurant</td>\n",
       "      <td>Sushi Restaurant</td>\n",
       "      <td>Ramen Restaurant</td>\n",
       "      <td>Korean Restaurant</td>\n",
       "      <td>Japanese Restaurant</td>\n",
       "    </tr>\n",
       "  </tbody>\n",
       "</table>\n",
       "</div>"
      ],
      "text/plain": [
       "                               name                             neighborhood  \\\n",
       "26                      KUCHI Mitte                  Gipsstr. 3 (Auguststr.)   \n",
       "39                     Cocolo Ramen                  Gipsstr. 3 (Auguststr.)   \n",
       "68                        Asia Land                                   Berlin   \n",
       "72                      Café Komine        Welserstr. 13-15 (Geisbeegerstr.)   \n",
       "85             Secret Garden Berlin  Wahrschauerstr. 32 (Helsingforser Str.)   \n",
       "88  Seoulkitchen Korean BBQ & Sushi          Warschauer Str. 46 (Mühlenstr.)   \n",
       "98                      Bar Tausend                       Schiffbauerdamm 11   \n",
       "\n",
       "    Cluster Labels          1st Most Common Venue  2nd Most Common Venue  \\\n",
       "26               1               Ramen Restaurant    Japanese Restaurant   \n",
       "39               1               Ramen Restaurant    Japanese Restaurant   \n",
       "68               1             Chinese Restaurant  Vietnamese Restaurant   \n",
       "72               1                           Café  Vietnamese Restaurant   \n",
       "85               1  Vegetarian / Vegan Restaurant  Vietnamese Restaurant   \n",
       "88               1              Korean Restaurant  Vietnamese Restaurant   \n",
       "98               1                   Cocktail Bar  Vietnamese Restaurant   \n",
       "\n",
       "            3rd Most Common Venue          4th Most Common Venue  \\\n",
       "26          Vietnamese Restaurant  Vegetarian / Vegan Restaurant   \n",
       "39          Vietnamese Restaurant  Vegetarian / Vegan Restaurant   \n",
       "68  Vegetarian / Vegan Restaurant               Sushi Restaurant   \n",
       "72  Vegetarian / Vegan Restaurant               Sushi Restaurant   \n",
       "85               Sushi Restaurant               Ramen Restaurant   \n",
       "88  Vegetarian / Vegan Restaurant               Sushi Restaurant   \n",
       "98  Vegetarian / Vegan Restaurant               Sushi Restaurant   \n",
       "\n",
       "   5th Most Common Venue 6th Most Common Venue 7th Most Common Venue  \n",
       "26      Sushi Restaurant     Korean Restaurant          Cocktail Bar  \n",
       "39      Sushi Restaurant     Korean Restaurant          Cocktail Bar  \n",
       "68      Ramen Restaurant     Korean Restaurant   Japanese Restaurant  \n",
       "72      Ramen Restaurant     Korean Restaurant   Japanese Restaurant  \n",
       "85     Korean Restaurant   Japanese Restaurant          Cocktail Bar  \n",
       "88      Ramen Restaurant   Japanese Restaurant          Cocktail Bar  \n",
       "98      Ramen Restaurant     Korean Restaurant   Japanese Restaurant  "
      ]
     },
     "execution_count": 39,
     "metadata": {},
     "output_type": "execute_result"
    }
   ],
   "source": [
    "berlin_merged.loc[berlin_merged['Cluster Labels'] == 1, berlin_merged.columns[[1] + list(range(5, berlin_merged.shape[1]))]]"
   ]
  },
  {
   "cell_type": "markdown",
   "metadata": {},
   "source": [
    "### Cluster 2"
   ]
  },
  {
   "cell_type": "code",
   "execution_count": 40,
   "metadata": {},
   "outputs": [],
   "source": [
    "clustertwo = berlin_merged.loc[berlin_merged['Cluster Labels'] == 2, berlin_merged.columns[[1] + list(range(5, berlin_merged.shape[1]))]]"
   ]
  },
  {
   "cell_type": "code",
   "execution_count": 41,
   "metadata": {},
   "outputs": [
    {
     "data": {
      "text/plain": [
       "62"
      ]
     },
     "execution_count": 41,
     "metadata": {},
     "output_type": "execute_result"
    }
   ],
   "source": [
    "berlin_merged['categories'].loc[berlin_merged['Cluster Labels'] == 2].count()"
   ]
  },
  {
   "cell_type": "code",
   "execution_count": 42,
   "metadata": {},
   "outputs": [
    {
     "data": {
      "text/html": [
       "<div>\n",
       "<style scoped>\n",
       "    .dataframe tbody tr th:only-of-type {\n",
       "        vertical-align: middle;\n",
       "    }\n",
       "\n",
       "    .dataframe tbody tr th {\n",
       "        vertical-align: top;\n",
       "    }\n",
       "\n",
       "    .dataframe thead th {\n",
       "        text-align: right;\n",
       "    }\n",
       "</style>\n",
       "<table border=\"1\" class=\"dataframe\">\n",
       "  <thead>\n",
       "    <tr style=\"text-align: right;\">\n",
       "      <th></th>\n",
       "      <th>name</th>\n",
       "      <th>neighborhood</th>\n",
       "      <th>Cluster Labels</th>\n",
       "      <th>1st Most Common Venue</th>\n",
       "      <th>2nd Most Common Venue</th>\n",
       "      <th>3rd Most Common Venue</th>\n",
       "      <th>4th Most Common Venue</th>\n",
       "      <th>5th Most Common Venue</th>\n",
       "      <th>6th Most Common Venue</th>\n",
       "      <th>7th Most Common Venue</th>\n",
       "    </tr>\n",
       "  </thead>\n",
       "  <tbody>\n",
       "    <tr>\n",
       "      <th>0</th>\n",
       "      <td>Heno Heno</td>\n",
       "      <td>Wielandstr. 37</td>\n",
       "      <td>2</td>\n",
       "      <td>Japanese Restaurant</td>\n",
       "      <td>Vietnamese Restaurant</td>\n",
       "      <td>Vegetarian / Vegan Restaurant</td>\n",
       "      <td>Sushi Restaurant</td>\n",
       "      <td>Ramen Restaurant</td>\n",
       "      <td>Korean Restaurant</td>\n",
       "      <td>Cocktail Bar</td>\n",
       "    </tr>\n",
       "    <tr>\n",
       "      <th>1</th>\n",
       "      <td>Kushinoya</td>\n",
       "      <td>Bleibtreustr. 6</td>\n",
       "      <td>2</td>\n",
       "      <td>Japanese Restaurant</td>\n",
       "      <td>Vietnamese Restaurant</td>\n",
       "      <td>Vegetarian / Vegan Restaurant</td>\n",
       "      <td>Sushi Restaurant</td>\n",
       "      <td>Ramen Restaurant</td>\n",
       "      <td>Korean Restaurant</td>\n",
       "      <td>Cocktail Bar</td>\n",
       "    </tr>\n",
       "    <tr>\n",
       "      <th>2</th>\n",
       "      <td>Smart Deli</td>\n",
       "      <td>Novalisstr. 2</td>\n",
       "      <td>2</td>\n",
       "      <td>Japanese Restaurant</td>\n",
       "      <td>Vietnamese Restaurant</td>\n",
       "      <td>Vegetarian / Vegan Restaurant</td>\n",
       "      <td>Sushi Restaurant</td>\n",
       "      <td>Ramen Restaurant</td>\n",
       "      <td>Korean Restaurant</td>\n",
       "      <td>Cocktail Bar</td>\n",
       "    </tr>\n",
       "    <tr>\n",
       "      <th>3</th>\n",
       "      <td>Sticks'n'Sushi</td>\n",
       "      <td>Potsdamer Str. 85</td>\n",
       "      <td>2</td>\n",
       "      <td>Japanese Restaurant</td>\n",
       "      <td>Vietnamese Restaurant</td>\n",
       "      <td>Vegetarian / Vegan Restaurant</td>\n",
       "      <td>Sushi Restaurant</td>\n",
       "      <td>Ramen Restaurant</td>\n",
       "      <td>Korean Restaurant</td>\n",
       "      <td>Cocktail Bar</td>\n",
       "    </tr>\n",
       "    <tr>\n",
       "      <th>4</th>\n",
       "      <td>Green Tea Café MAMECHA</td>\n",
       "      <td>Mulackstr. 33 (Rückerstr.)</td>\n",
       "      <td>2</td>\n",
       "      <td>Japanese Restaurant</td>\n",
       "      <td>Vietnamese Restaurant</td>\n",
       "      <td>Vegetarian / Vegan Restaurant</td>\n",
       "      <td>Sushi Restaurant</td>\n",
       "      <td>Ramen Restaurant</td>\n",
       "      <td>Korean Restaurant</td>\n",
       "      <td>Cocktail Bar</td>\n",
       "    </tr>\n",
       "  </tbody>\n",
       "</table>\n",
       "</div>"
      ],
      "text/plain": [
       "                     name                neighborhood  Cluster Labels  \\\n",
       "0               Heno Heno              Wielandstr. 37               2   \n",
       "1               Kushinoya             Bleibtreustr. 6               2   \n",
       "2              Smart Deli               Novalisstr. 2               2   \n",
       "3          Sticks'n'Sushi           Potsdamer Str. 85               2   \n",
       "4  Green Tea Café MAMECHA  Mulackstr. 33 (Rückerstr.)               2   \n",
       "\n",
       "  1st Most Common Venue  2nd Most Common Venue          3rd Most Common Venue  \\\n",
       "0   Japanese Restaurant  Vietnamese Restaurant  Vegetarian / Vegan Restaurant   \n",
       "1   Japanese Restaurant  Vietnamese Restaurant  Vegetarian / Vegan Restaurant   \n",
       "2   Japanese Restaurant  Vietnamese Restaurant  Vegetarian / Vegan Restaurant   \n",
       "3   Japanese Restaurant  Vietnamese Restaurant  Vegetarian / Vegan Restaurant   \n",
       "4   Japanese Restaurant  Vietnamese Restaurant  Vegetarian / Vegan Restaurant   \n",
       "\n",
       "  4th Most Common Venue 5th Most Common Venue 6th Most Common Venue  \\\n",
       "0      Sushi Restaurant      Ramen Restaurant     Korean Restaurant   \n",
       "1      Sushi Restaurant      Ramen Restaurant     Korean Restaurant   \n",
       "2      Sushi Restaurant      Ramen Restaurant     Korean Restaurant   \n",
       "3      Sushi Restaurant      Ramen Restaurant     Korean Restaurant   \n",
       "4      Sushi Restaurant      Ramen Restaurant     Korean Restaurant   \n",
       "\n",
       "  7th Most Common Venue  \n",
       "0          Cocktail Bar  \n",
       "1          Cocktail Bar  \n",
       "2          Cocktail Bar  \n",
       "3          Cocktail Bar  \n",
       "4          Cocktail Bar  "
      ]
     },
     "execution_count": 42,
     "metadata": {},
     "output_type": "execute_result"
    }
   ],
   "source": [
    "berlin_merged.loc[berlin_merged['Cluster Labels'] == 2, berlin_merged.columns[[1] + list(range(5, berlin_merged.shape[1]))]].head()"
   ]
  },
  {
   "cell_type": "markdown",
   "metadata": {},
   "source": [
    "### Cluster 3"
   ]
  },
  {
   "cell_type": "code",
   "execution_count": 43,
   "metadata": {},
   "outputs": [
    {
     "data": {
      "text/html": [
       "<div>\n",
       "<style scoped>\n",
       "    .dataframe tbody tr th:only-of-type {\n",
       "        vertical-align: middle;\n",
       "    }\n",
       "\n",
       "    .dataframe tbody tr th {\n",
       "        vertical-align: top;\n",
       "    }\n",
       "\n",
       "    .dataframe thead th {\n",
       "        text-align: right;\n",
       "    }\n",
       "</style>\n",
       "<table border=\"1\" class=\"dataframe\">\n",
       "  <thead>\n",
       "    <tr style=\"text-align: right;\">\n",
       "      <th></th>\n",
       "      <th>name</th>\n",
       "      <th>neighborhood</th>\n",
       "      <th>Cluster Labels</th>\n",
       "      <th>1st Most Common Venue</th>\n",
       "      <th>2nd Most Common Venue</th>\n",
       "      <th>3rd Most Common Venue</th>\n",
       "      <th>4th Most Common Venue</th>\n",
       "      <th>5th Most Common Venue</th>\n",
       "      <th>6th Most Common Venue</th>\n",
       "      <th>7th Most Common Venue</th>\n",
       "    </tr>\n",
       "  </thead>\n",
       "  <tbody>\n",
       "    <tr>\n",
       "      <th>27</th>\n",
       "      <td>DUDU</td>\n",
       "      <td>Torstr. 134</td>\n",
       "      <td>3</td>\n",
       "      <td>Vietnamese Restaurant</td>\n",
       "      <td>Vegetarian / Vegan Restaurant</td>\n",
       "      <td>Sushi Restaurant</td>\n",
       "      <td>Ramen Restaurant</td>\n",
       "      <td>Korean Restaurant</td>\n",
       "      <td>Japanese Restaurant</td>\n",
       "      <td>Cocktail Bar</td>\n",
       "    </tr>\n",
       "    <tr>\n",
       "      <th>61</th>\n",
       "      <td>Sy Restaurant</td>\n",
       "      <td>Kantstr. 54</td>\n",
       "      <td>3</td>\n",
       "      <td>Vietnamese Restaurant</td>\n",
       "      <td>Vegetarian / Vegan Restaurant</td>\n",
       "      <td>Sushi Restaurant</td>\n",
       "      <td>Ramen Restaurant</td>\n",
       "      <td>Korean Restaurant</td>\n",
       "      <td>Japanese Restaurant</td>\n",
       "      <td>Cocktail Bar</td>\n",
       "    </tr>\n",
       "    <tr>\n",
       "      <th>69</th>\n",
       "      <td>Mama Cook</td>\n",
       "      <td>Hedemannstraße 10</td>\n",
       "      <td>3</td>\n",
       "      <td>Vietnamese Restaurant</td>\n",
       "      <td>Vegetarian / Vegan Restaurant</td>\n",
       "      <td>Sushi Restaurant</td>\n",
       "      <td>Ramen Restaurant</td>\n",
       "      <td>Korean Restaurant</td>\n",
       "      <td>Japanese Restaurant</td>\n",
       "      <td>Cocktail Bar</td>\n",
       "    </tr>\n",
       "    <tr>\n",
       "      <th>82</th>\n",
       "      <td>Eden Restaurant</td>\n",
       "      <td>Rosenstr. 19 (Rochstr.)</td>\n",
       "      <td>3</td>\n",
       "      <td>Vietnamese Restaurant</td>\n",
       "      <td>Vegetarian / Vegan Restaurant</td>\n",
       "      <td>Sushi Restaurant</td>\n",
       "      <td>Ramen Restaurant</td>\n",
       "      <td>Korean Restaurant</td>\n",
       "      <td>Japanese Restaurant</td>\n",
       "      <td>Cocktail Bar</td>\n",
       "    </tr>\n",
       "    <tr>\n",
       "      <th>90</th>\n",
       "      <td>Minh-Trang</td>\n",
       "      <td>Kantstr. 67 (Kaiser-Friedrich-Str.)</td>\n",
       "      <td>3</td>\n",
       "      <td>Vietnamese Restaurant</td>\n",
       "      <td>Vegetarian / Vegan Restaurant</td>\n",
       "      <td>Sushi Restaurant</td>\n",
       "      <td>Ramen Restaurant</td>\n",
       "      <td>Korean Restaurant</td>\n",
       "      <td>Japanese Restaurant</td>\n",
       "      <td>Cocktail Bar</td>\n",
       "    </tr>\n",
       "  </tbody>\n",
       "</table>\n",
       "</div>"
      ],
      "text/plain": [
       "               name                         neighborhood  Cluster Labels  \\\n",
       "27             DUDU                          Torstr. 134               3   \n",
       "61    Sy Restaurant                          Kantstr. 54               3   \n",
       "69        Mama Cook                    Hedemannstraße 10               3   \n",
       "82  Eden Restaurant              Rosenstr. 19 (Rochstr.)               3   \n",
       "90       Minh-Trang  Kantstr. 67 (Kaiser-Friedrich-Str.)               3   \n",
       "\n",
       "    1st Most Common Venue          2nd Most Common Venue  \\\n",
       "27  Vietnamese Restaurant  Vegetarian / Vegan Restaurant   \n",
       "61  Vietnamese Restaurant  Vegetarian / Vegan Restaurant   \n",
       "69  Vietnamese Restaurant  Vegetarian / Vegan Restaurant   \n",
       "82  Vietnamese Restaurant  Vegetarian / Vegan Restaurant   \n",
       "90  Vietnamese Restaurant  Vegetarian / Vegan Restaurant   \n",
       "\n",
       "   3rd Most Common Venue 4th Most Common Venue 5th Most Common Venue  \\\n",
       "27      Sushi Restaurant      Ramen Restaurant     Korean Restaurant   \n",
       "61      Sushi Restaurant      Ramen Restaurant     Korean Restaurant   \n",
       "69      Sushi Restaurant      Ramen Restaurant     Korean Restaurant   \n",
       "82      Sushi Restaurant      Ramen Restaurant     Korean Restaurant   \n",
       "90      Sushi Restaurant      Ramen Restaurant     Korean Restaurant   \n",
       "\n",
       "   6th Most Common Venue 7th Most Common Venue  \n",
       "27   Japanese Restaurant          Cocktail Bar  \n",
       "61   Japanese Restaurant          Cocktail Bar  \n",
       "69   Japanese Restaurant          Cocktail Bar  \n",
       "82   Japanese Restaurant          Cocktail Bar  \n",
       "90   Japanese Restaurant          Cocktail Bar  "
      ]
     },
     "execution_count": 43,
     "metadata": {},
     "output_type": "execute_result"
    }
   ],
   "source": [
    "berlin_merged.loc[berlin_merged['Cluster Labels'] == 3, berlin_merged.columns[[1] + list(range(5, berlin_merged.shape[1]))]]"
   ]
  },
  {
   "cell_type": "code",
   "execution_count": 44,
   "metadata": {},
   "outputs": [
    {
     "data": {
      "text/plain": [
       "5"
      ]
     },
     "execution_count": 44,
     "metadata": {},
     "output_type": "execute_result"
    }
   ],
   "source": [
    "berlin_merged['categories'].loc[berlin_merged['Cluster Labels'] == 3].count()"
   ]
  },
  {
   "cell_type": "code",
   "execution_count": 45,
   "metadata": {},
   "outputs": [
    {
     "data": {
      "text/html": [
       "<div>\n",
       "<style scoped>\n",
       "    .dataframe tbody tr th:only-of-type {\n",
       "        vertical-align: middle;\n",
       "    }\n",
       "\n",
       "    .dataframe tbody tr th {\n",
       "        vertical-align: top;\n",
       "    }\n",
       "\n",
       "    .dataframe thead th {\n",
       "        text-align: right;\n",
       "    }\n",
       "</style>\n",
       "<table border=\"1\" class=\"dataframe\">\n",
       "  <thead>\n",
       "    <tr style=\"text-align: right;\">\n",
       "      <th></th>\n",
       "      <th>name</th>\n",
       "      <th>neighborhood</th>\n",
       "      <th>Cluster Labels</th>\n",
       "      <th>1st Most Common Venue</th>\n",
       "      <th>2nd Most Common Venue</th>\n",
       "      <th>3rd Most Common Venue</th>\n",
       "      <th>4th Most Common Venue</th>\n",
       "      <th>5th Most Common Venue</th>\n",
       "      <th>6th Most Common Venue</th>\n",
       "      <th>7th Most Common Venue</th>\n",
       "    </tr>\n",
       "  </thead>\n",
       "  <tbody>\n",
       "    <tr>\n",
       "      <th>27</th>\n",
       "      <td>DUDU</td>\n",
       "      <td>Torstr. 134</td>\n",
       "      <td>3</td>\n",
       "      <td>Vietnamese Restaurant</td>\n",
       "      <td>Vegetarian / Vegan Restaurant</td>\n",
       "      <td>Sushi Restaurant</td>\n",
       "      <td>Ramen Restaurant</td>\n",
       "      <td>Korean Restaurant</td>\n",
       "      <td>Japanese Restaurant</td>\n",
       "      <td>Cocktail Bar</td>\n",
       "    </tr>\n",
       "    <tr>\n",
       "      <th>61</th>\n",
       "      <td>Sy Restaurant</td>\n",
       "      <td>Kantstr. 54</td>\n",
       "      <td>3</td>\n",
       "      <td>Vietnamese Restaurant</td>\n",
       "      <td>Vegetarian / Vegan Restaurant</td>\n",
       "      <td>Sushi Restaurant</td>\n",
       "      <td>Ramen Restaurant</td>\n",
       "      <td>Korean Restaurant</td>\n",
       "      <td>Japanese Restaurant</td>\n",
       "      <td>Cocktail Bar</td>\n",
       "    </tr>\n",
       "    <tr>\n",
       "      <th>69</th>\n",
       "      <td>Mama Cook</td>\n",
       "      <td>Hedemannstraße 10</td>\n",
       "      <td>3</td>\n",
       "      <td>Vietnamese Restaurant</td>\n",
       "      <td>Vegetarian / Vegan Restaurant</td>\n",
       "      <td>Sushi Restaurant</td>\n",
       "      <td>Ramen Restaurant</td>\n",
       "      <td>Korean Restaurant</td>\n",
       "      <td>Japanese Restaurant</td>\n",
       "      <td>Cocktail Bar</td>\n",
       "    </tr>\n",
       "    <tr>\n",
       "      <th>82</th>\n",
       "      <td>Eden Restaurant</td>\n",
       "      <td>Rosenstr. 19 (Rochstr.)</td>\n",
       "      <td>3</td>\n",
       "      <td>Vietnamese Restaurant</td>\n",
       "      <td>Vegetarian / Vegan Restaurant</td>\n",
       "      <td>Sushi Restaurant</td>\n",
       "      <td>Ramen Restaurant</td>\n",
       "      <td>Korean Restaurant</td>\n",
       "      <td>Japanese Restaurant</td>\n",
       "      <td>Cocktail Bar</td>\n",
       "    </tr>\n",
       "    <tr>\n",
       "      <th>90</th>\n",
       "      <td>Minh-Trang</td>\n",
       "      <td>Kantstr. 67 (Kaiser-Friedrich-Str.)</td>\n",
       "      <td>3</td>\n",
       "      <td>Vietnamese Restaurant</td>\n",
       "      <td>Vegetarian / Vegan Restaurant</td>\n",
       "      <td>Sushi Restaurant</td>\n",
       "      <td>Ramen Restaurant</td>\n",
       "      <td>Korean Restaurant</td>\n",
       "      <td>Japanese Restaurant</td>\n",
       "      <td>Cocktail Bar</td>\n",
       "    </tr>\n",
       "  </tbody>\n",
       "</table>\n",
       "</div>"
      ],
      "text/plain": [
       "               name                         neighborhood  Cluster Labels  \\\n",
       "27             DUDU                          Torstr. 134               3   \n",
       "61    Sy Restaurant                          Kantstr. 54               3   \n",
       "69        Mama Cook                    Hedemannstraße 10               3   \n",
       "82  Eden Restaurant              Rosenstr. 19 (Rochstr.)               3   \n",
       "90       Minh-Trang  Kantstr. 67 (Kaiser-Friedrich-Str.)               3   \n",
       "\n",
       "    1st Most Common Venue          2nd Most Common Venue  \\\n",
       "27  Vietnamese Restaurant  Vegetarian / Vegan Restaurant   \n",
       "61  Vietnamese Restaurant  Vegetarian / Vegan Restaurant   \n",
       "69  Vietnamese Restaurant  Vegetarian / Vegan Restaurant   \n",
       "82  Vietnamese Restaurant  Vegetarian / Vegan Restaurant   \n",
       "90  Vietnamese Restaurant  Vegetarian / Vegan Restaurant   \n",
       "\n",
       "   3rd Most Common Venue 4th Most Common Venue 5th Most Common Venue  \\\n",
       "27      Sushi Restaurant      Ramen Restaurant     Korean Restaurant   \n",
       "61      Sushi Restaurant      Ramen Restaurant     Korean Restaurant   \n",
       "69      Sushi Restaurant      Ramen Restaurant     Korean Restaurant   \n",
       "82      Sushi Restaurant      Ramen Restaurant     Korean Restaurant   \n",
       "90      Sushi Restaurant      Ramen Restaurant     Korean Restaurant   \n",
       "\n",
       "   6th Most Common Venue 7th Most Common Venue  \n",
       "27   Japanese Restaurant          Cocktail Bar  \n",
       "61   Japanese Restaurant          Cocktail Bar  \n",
       "69   Japanese Restaurant          Cocktail Bar  \n",
       "82   Japanese Restaurant          Cocktail Bar  \n",
       "90   Japanese Restaurant          Cocktail Bar  "
      ]
     },
     "execution_count": 45,
     "metadata": {},
     "output_type": "execute_result"
    }
   ],
   "source": [
    "berlin_merged.loc[berlin_merged['Cluster Labels'] == 3, berlin_merged.columns[[1] + list(range(5, berlin_merged.shape[1]))]]"
   ]
  },
  {
   "cell_type": "markdown",
   "metadata": {},
   "source": [
    "### Cluster 4"
   ]
  },
  {
   "cell_type": "code",
   "execution_count": 46,
   "metadata": {},
   "outputs": [
    {
     "data": {
      "text/html": [
       "<div>\n",
       "<style scoped>\n",
       "    .dataframe tbody tr th:only-of-type {\n",
       "        vertical-align: middle;\n",
       "    }\n",
       "\n",
       "    .dataframe tbody tr th {\n",
       "        vertical-align: top;\n",
       "    }\n",
       "\n",
       "    .dataframe thead th {\n",
       "        text-align: right;\n",
       "    }\n",
       "</style>\n",
       "<table border=\"1\" class=\"dataframe\">\n",
       "  <thead>\n",
       "    <tr style=\"text-align: right;\">\n",
       "      <th></th>\n",
       "      <th>name</th>\n",
       "      <th>neighborhood</th>\n",
       "      <th>Cluster Labels</th>\n",
       "      <th>1st Most Common Venue</th>\n",
       "      <th>2nd Most Common Venue</th>\n",
       "      <th>3rd Most Common Venue</th>\n",
       "      <th>4th Most Common Venue</th>\n",
       "      <th>5th Most Common Venue</th>\n",
       "      <th>6th Most Common Venue</th>\n",
       "      <th>7th Most Common Venue</th>\n",
       "    </tr>\n",
       "  </thead>\n",
       "  <tbody>\n",
       "    <tr>\n",
       "      <th>44</th>\n",
       "      <td>893 Ryōtei</td>\n",
       "      <td>Kantstr. 135</td>\n",
       "      <td>4</td>\n",
       "      <td>Asian Restaurant</td>\n",
       "      <td>Vietnamese Restaurant</td>\n",
       "      <td>Vegetarian / Vegan Restaurant</td>\n",
       "      <td>Sushi Restaurant</td>\n",
       "      <td>Ramen Restaurant</td>\n",
       "      <td>Korean Restaurant</td>\n",
       "      <td>Japanese Restaurant</td>\n",
       "    </tr>\n",
       "    <tr>\n",
       "      <th>83</th>\n",
       "      <td>rice &amp; more</td>\n",
       "      <td>Großbeerenstr. 51</td>\n",
       "      <td>4</td>\n",
       "      <td>Asian Restaurant</td>\n",
       "      <td>Vietnamese Restaurant</td>\n",
       "      <td>Vegetarian / Vegan Restaurant</td>\n",
       "      <td>Sushi Restaurant</td>\n",
       "      <td>Ramen Restaurant</td>\n",
       "      <td>Korean Restaurant</td>\n",
       "      <td>Japanese Restaurant</td>\n",
       "    </tr>\n",
       "  </tbody>\n",
       "</table>\n",
       "</div>"
      ],
      "text/plain": [
       "           name       neighborhood  Cluster Labels 1st Most Common Venue  \\\n",
       "44   893 Ryōtei       Kantstr. 135               4      Asian Restaurant   \n",
       "83  rice & more  Großbeerenstr. 51               4      Asian Restaurant   \n",
       "\n",
       "    2nd Most Common Venue          3rd Most Common Venue  \\\n",
       "44  Vietnamese Restaurant  Vegetarian / Vegan Restaurant   \n",
       "83  Vietnamese Restaurant  Vegetarian / Vegan Restaurant   \n",
       "\n",
       "   4th Most Common Venue 5th Most Common Venue 6th Most Common Venue  \\\n",
       "44      Sushi Restaurant      Ramen Restaurant     Korean Restaurant   \n",
       "83      Sushi Restaurant      Ramen Restaurant     Korean Restaurant   \n",
       "\n",
       "   7th Most Common Venue  \n",
       "44   Japanese Restaurant  \n",
       "83   Japanese Restaurant  "
      ]
     },
     "execution_count": 46,
     "metadata": {},
     "output_type": "execute_result"
    }
   ],
   "source": [
    "berlin_merged.loc[berlin_merged['Cluster Labels'] == 4, berlin_merged.columns[[1] + list(range(5, berlin_merged.shape[1]))]]"
   ]
  },
  {
   "cell_type": "code",
   "execution_count": 47,
   "metadata": {},
   "outputs": [
    {
     "data": {
      "text/plain": [
       "2"
      ]
     },
     "execution_count": 47,
     "metadata": {},
     "output_type": "execute_result"
    }
   ],
   "source": [
    "berlin_merged['categories'].loc[berlin_merged['Cluster Labels'] == 4].count()"
   ]
  },
  {
   "cell_type": "code",
   "execution_count": 48,
   "metadata": {},
   "outputs": [
    {
     "data": {
      "text/html": [
       "<div>\n",
       "<style scoped>\n",
       "    .dataframe tbody tr th:only-of-type {\n",
       "        vertical-align: middle;\n",
       "    }\n",
       "\n",
       "    .dataframe tbody tr th {\n",
       "        vertical-align: top;\n",
       "    }\n",
       "\n",
       "    .dataframe thead th {\n",
       "        text-align: right;\n",
       "    }\n",
       "</style>\n",
       "<table border=\"1\" class=\"dataframe\">\n",
       "  <thead>\n",
       "    <tr style=\"text-align: right;\">\n",
       "      <th></th>\n",
       "      <th>name</th>\n",
       "      <th>neighborhood</th>\n",
       "      <th>Cluster Labels</th>\n",
       "      <th>1st Most Common Venue</th>\n",
       "      <th>2nd Most Common Venue</th>\n",
       "      <th>3rd Most Common Venue</th>\n",
       "      <th>4th Most Common Venue</th>\n",
       "      <th>5th Most Common Venue</th>\n",
       "      <th>6th Most Common Venue</th>\n",
       "      <th>7th Most Common Venue</th>\n",
       "    </tr>\n",
       "  </thead>\n",
       "  <tbody>\n",
       "    <tr>\n",
       "      <th>44</th>\n",
       "      <td>893 Ryōtei</td>\n",
       "      <td>Kantstr. 135</td>\n",
       "      <td>4</td>\n",
       "      <td>Asian Restaurant</td>\n",
       "      <td>Vietnamese Restaurant</td>\n",
       "      <td>Vegetarian / Vegan Restaurant</td>\n",
       "      <td>Sushi Restaurant</td>\n",
       "      <td>Ramen Restaurant</td>\n",
       "      <td>Korean Restaurant</td>\n",
       "      <td>Japanese Restaurant</td>\n",
       "    </tr>\n",
       "    <tr>\n",
       "      <th>83</th>\n",
       "      <td>rice &amp; more</td>\n",
       "      <td>Großbeerenstr. 51</td>\n",
       "      <td>4</td>\n",
       "      <td>Asian Restaurant</td>\n",
       "      <td>Vietnamese Restaurant</td>\n",
       "      <td>Vegetarian / Vegan Restaurant</td>\n",
       "      <td>Sushi Restaurant</td>\n",
       "      <td>Ramen Restaurant</td>\n",
       "      <td>Korean Restaurant</td>\n",
       "      <td>Japanese Restaurant</td>\n",
       "    </tr>\n",
       "  </tbody>\n",
       "</table>\n",
       "</div>"
      ],
      "text/plain": [
       "           name       neighborhood  Cluster Labels 1st Most Common Venue  \\\n",
       "44   893 Ryōtei       Kantstr. 135               4      Asian Restaurant   \n",
       "83  rice & more  Großbeerenstr. 51               4      Asian Restaurant   \n",
       "\n",
       "    2nd Most Common Venue          3rd Most Common Venue  \\\n",
       "44  Vietnamese Restaurant  Vegetarian / Vegan Restaurant   \n",
       "83  Vietnamese Restaurant  Vegetarian / Vegan Restaurant   \n",
       "\n",
       "   4th Most Common Venue 5th Most Common Venue 6th Most Common Venue  \\\n",
       "44      Sushi Restaurant      Ramen Restaurant     Korean Restaurant   \n",
       "83      Sushi Restaurant      Ramen Restaurant     Korean Restaurant   \n",
       "\n",
       "   7th Most Common Venue  \n",
       "44   Japanese Restaurant  \n",
       "83   Japanese Restaurant  "
      ]
     },
     "execution_count": 48,
     "metadata": {},
     "output_type": "execute_result"
    }
   ],
   "source": [
    "berlin_merged.loc[berlin_merged['Cluster Labels'] == 4, berlin_merged.columns[[1] + list(range(5, berlin_merged.shape[1]))]]"
   ]
  },
  {
   "cell_type": "markdown",
   "metadata": {},
   "source": [
    "Here we will calculate the score of the available places to rent to the Japanese restaurants that already exists and to the public transportation."
   ]
  },
  {
   "cell_type": "code",
   "execution_count": 49,
   "metadata": {},
   "outputs": [],
   "source": [
    "#!pip install shapely\n",
    "import shapely.geometry\n",
    "\n",
    "#!pip install pyproj\n",
    "import pyproj\n",
    "\n",
    "import math\n",
    "\n",
    "def lonlat_to_xy(lon, lat):\n",
    "    proj_latlon = pyproj.Proj(proj='latlong',datum='WGS84')\n",
    "    proj_xy = pyproj.Proj(proj=\"utm\", zone=33, datum='WGS84')\n",
    "    xy = pyproj.transform(proj_latlon, proj_xy, lon, lat)\n",
    "    return xy[0], xy[1]\n",
    "\n",
    "def xy_to_lonlat(x, y):\n",
    "    proj_latlon = pyproj.Proj(proj='latlong',datum='WGS84')\n",
    "    proj_xy = pyproj.Proj(proj=\"utm\", zone=33, datum='WGS84')\n",
    "    lonlat = pyproj.transform(proj_xy, proj_latlon, x, y)\n",
    "    return lonlat[0], lonlat[1]\n",
    "\n",
    "def calc_xy_distance(x1, y1, x2, y2):\n",
    "    dx = x2 - x1\n",
    "    dy = y2 - y1\n",
    "    return math.sqrt(dx*dx + dy*dy)"
   ]
  },
  {
   "cell_type": "code",
   "execution_count": 50,
   "metadata": {},
   "outputs": [],
   "source": [
    "X = list(berlin_merged['lat']);\n",
    "Y = list(berlin_merged['lng']);\n",
    "x, y = lonlat_to_xy(X, Y)\n",
    "japanese_list = [(x[n],y[n]) for n in range(len(x))]\n",
    "japanese_list;"
   ]
  },
  {
   "cell_type": "code",
   "execution_count": 51,
   "metadata": {},
   "outputs": [],
   "source": [
    "X1 = list(df_r['Latitude']);\n",
    "Y1 = list(df_r['Longitude']);\n",
    "x1, y1 = lonlat_to_xy(X1, Y1)\n",
    "rent_list = [(x1[n],y1[n]) for n in range(len(x1))]\n",
    "rent_list;"
   ]
  },
  {
   "cell_type": "code",
   "execution_count": 52,
   "metadata": {},
   "outputs": [],
   "source": [
    "X2 = list(df_s['lat']);\n",
    "Y2 = list(df_s['lng']);\n",
    "x2, y2 = lonlat_to_xy(X2, Y2)\n",
    "sbahn_list = [(x2[n],y2[n]) for n in range(len(x2))]\n",
    "sbahn_list;"
   ]
  },
  {
   "cell_type": "code",
   "execution_count": 53,
   "metadata": {},
   "outputs": [],
   "source": [
    "X3 = list(df_u['lat']);\n",
    "Y3 = list(df_u['lng']);\n",
    "x3, y3 = lonlat_to_xy(X3, Y3)\n",
    "ubahn_list = [(x3[n],y3[n]) for n in range(len(x3))]\n",
    "ubahn_list;"
   ]
  },
  {
   "cell_type": "code",
   "execution_count": 54,
   "metadata": {},
   "outputs": [],
   "source": [
    "optimal_list=[]"
   ]
  },
  {
   "cell_type": "code",
   "execution_count": 55,
   "metadata": {},
   "outputs": [],
   "source": [
    "for place_to_rent in rent_list:\n",
    "    distances_to_restaurants = [calc_xy_distance(place_to_rent[0], place_to_rent[1], jap[0], jap[1]) for jap in japanese_list]\n",
    "    closest_restaurant = min(distances_to_restaurants)\n",
    "    \n",
    "    distances_to_transport = [calc_xy_distance(place_to_rent[0], place_to_rent[1], transp[0], transp[1]) for transp in sbahn_list]\n",
    "    closest_transport = min(distances_to_transport)\n",
    "    \n",
    "    optimal_list.append((closest_transport)+abs(closest_restaurant - 300))"
   ]
  },
  {
   "cell_type": "code",
   "execution_count": 56,
   "metadata": {},
   "outputs": [],
   "source": [
    "optimal_list;"
   ]
  },
  {
   "cell_type": "code",
   "execution_count": 57,
   "metadata": {},
   "outputs": [],
   "source": [
    "df_optimal=pd.DataFrame(optimal_list,columns=['Score'])"
   ]
  },
  {
   "cell_type": "code",
   "execution_count": 58,
   "metadata": {},
   "outputs": [
    {
     "data": {
      "text/plain": [
       "0    20580.636132\n",
       "1     1491.643158\n",
       "2     2027.250023\n",
       "3     1353.984241\n",
       "4     1390.663694\n",
       "Name: Score, dtype: float64"
      ]
     },
     "execution_count": 58,
     "metadata": {},
     "output_type": "execute_result"
    }
   ],
   "source": [
    "df_optimal['Score'].head()"
   ]
  },
  {
   "cell_type": "code",
   "execution_count": 59,
   "metadata": {},
   "outputs": [
    {
     "data": {
      "text/html": [
       "<div>\n",
       "<style scoped>\n",
       "    .dataframe tbody tr th:only-of-type {\n",
       "        vertical-align: middle;\n",
       "    }\n",
       "\n",
       "    .dataframe tbody tr th {\n",
       "        vertical-align: top;\n",
       "    }\n",
       "\n",
       "    .dataframe thead th {\n",
       "        text-align: right;\n",
       "    }\n",
       "</style>\n",
       "<table border=\"1\" class=\"dataframe\">\n",
       "  <thead>\n",
       "    <tr style=\"text-align: right;\">\n",
       "      <th></th>\n",
       "      <th>Postcode</th>\n",
       "      <th>Price</th>\n",
       "      <th>Latitude</th>\n",
       "      <th>Longitude</th>\n",
       "      <th>Score</th>\n",
       "    </tr>\n",
       "  </thead>\n",
       "  <tbody>\n",
       "    <tr>\n",
       "      <th>0</th>\n",
       "      <td>12683</td>\n",
       "      <td>2900.00</td>\n",
       "      <td>52.503731</td>\n",
       "      <td>13.559540</td>\n",
       "      <td>20580.636132</td>\n",
       "    </tr>\n",
       "    <tr>\n",
       "      <th>1</th>\n",
       "      <td>10247</td>\n",
       "      <td>2400.00</td>\n",
       "      <td>52.516340</td>\n",
       "      <td>13.463990</td>\n",
       "      <td>1491.643158</td>\n",
       "    </tr>\n",
       "    <tr>\n",
       "      <th>2</th>\n",
       "      <td>10777</td>\n",
       "      <td>1142.36</td>\n",
       "      <td>52.497685</td>\n",
       "      <td>13.342285</td>\n",
       "      <td>2027.250023</td>\n",
       "    </tr>\n",
       "    <tr>\n",
       "      <th>3</th>\n",
       "      <td>10713</td>\n",
       "      <td>3269.00</td>\n",
       "      <td>52.485240</td>\n",
       "      <td>13.311870</td>\n",
       "      <td>1353.984241</td>\n",
       "    </tr>\n",
       "    <tr>\n",
       "      <th>4</th>\n",
       "      <td>10719</td>\n",
       "      <td>5900.00</td>\n",
       "      <td>52.498245</td>\n",
       "      <td>13.327140</td>\n",
       "      <td>1390.663694</td>\n",
       "    </tr>\n",
       "  </tbody>\n",
       "</table>\n",
       "</div>"
      ],
      "text/plain": [
       "   Postcode    Price   Latitude  Longitude         Score\n",
       "0     12683  2900.00  52.503731  13.559540  20580.636132\n",
       "1     10247  2400.00  52.516340  13.463990   1491.643158\n",
       "2     10777  1142.36  52.497685  13.342285   2027.250023\n",
       "3     10713  3269.00  52.485240  13.311870   1353.984241\n",
       "4     10719  5900.00  52.498245  13.327140   1390.663694"
      ]
     },
     "execution_count": 59,
     "metadata": {},
     "output_type": "execute_result"
    }
   ],
   "source": [
    "df_r['Score'] = df_optimal['Score']\n",
    "df_r.head()"
   ]
  },
  {
   "cell_type": "code",
   "execution_count": 60,
   "metadata": {},
   "outputs": [],
   "source": [
    "df_address = pd.DataFrame({'Postcode': [12683, 10247, 10777, 10713, 10719, 12359, 12057, 10785, 12043, 13595, 12053, 10435, 10119, 10245, 13597, 12347, 10115, 10717, 13585, 12057, 16727],'Address': ['Wulkower Straße 10, Biesdorf', 'Silvio-Meier-Straße 8, Friedrichshain', 'Welserstraße 14D, Schöneberg', 'Barstraße, Wilmersdorf', 'Fasanenplatz, Wilmersdorf', 'Malchiner Straße 55, Britz', 'Sonnenallee 289, Neukölln', 'Stauffenbergstraße 1, Tiergarten', 'Donaustraße 94, Neukölln', 'Heerstraße 243, Pichelsdorf', 'Morusstraße 18A, Neukölln', 'Choriner Straße 49, Prenzlauer Berg', 'Zehdenicker Straße 21, Mitte', 'Corinthstraße 7, Friedrichshain', 'Kolonie Tiefwerder Brücke 1, Wilhelmstadt', 'Alpenhöhe (43 - 47a), Britz', 'Zinnowitzer Straße 2, Mitte', 'Trautenaustraße 14, Wilmersdorf', 'Neumeisterstraße 5, Neustadt', 'Sonnenallee 289, Neukölln', 'Ebertstraße, Mitte']})"
   ]
  },
  {
   "cell_type": "code",
   "execution_count": 61,
   "metadata": {},
   "outputs": [
    {
     "data": {
      "text/html": [
       "<div>\n",
       "<style scoped>\n",
       "    .dataframe tbody tr th:only-of-type {\n",
       "        vertical-align: middle;\n",
       "    }\n",
       "\n",
       "    .dataframe tbody tr th {\n",
       "        vertical-align: top;\n",
       "    }\n",
       "\n",
       "    .dataframe thead th {\n",
       "        text-align: right;\n",
       "    }\n",
       "</style>\n",
       "<table border=\"1\" class=\"dataframe\">\n",
       "  <thead>\n",
       "    <tr style=\"text-align: right;\">\n",
       "      <th></th>\n",
       "      <th>Postcode</th>\n",
       "      <th>Address</th>\n",
       "    </tr>\n",
       "  </thead>\n",
       "  <tbody>\n",
       "    <tr>\n",
       "      <th>0</th>\n",
       "      <td>12683</td>\n",
       "      <td>Wulkower Straße 10, Biesdorf</td>\n",
       "    </tr>\n",
       "    <tr>\n",
       "      <th>1</th>\n",
       "      <td>10247</td>\n",
       "      <td>Silvio-Meier-Straße 8, Friedrichshain</td>\n",
       "    </tr>\n",
       "    <tr>\n",
       "      <th>2</th>\n",
       "      <td>10777</td>\n",
       "      <td>Welserstraße 14D, Schöneberg</td>\n",
       "    </tr>\n",
       "    <tr>\n",
       "      <th>3</th>\n",
       "      <td>10713</td>\n",
       "      <td>Barstraße, Wilmersdorf</td>\n",
       "    </tr>\n",
       "    <tr>\n",
       "      <th>4</th>\n",
       "      <td>10719</td>\n",
       "      <td>Fasanenplatz, Wilmersdorf</td>\n",
       "    </tr>\n",
       "    <tr>\n",
       "      <th>5</th>\n",
       "      <td>12359</td>\n",
       "      <td>Malchiner Straße 55, Britz</td>\n",
       "    </tr>\n",
       "    <tr>\n",
       "      <th>6</th>\n",
       "      <td>12057</td>\n",
       "      <td>Sonnenallee 289, Neukölln</td>\n",
       "    </tr>\n",
       "    <tr>\n",
       "      <th>7</th>\n",
       "      <td>10785</td>\n",
       "      <td>Stauffenbergstraße 1, Tiergarten</td>\n",
       "    </tr>\n",
       "    <tr>\n",
       "      <th>8</th>\n",
       "      <td>12043</td>\n",
       "      <td>Donaustraße 94, Neukölln</td>\n",
       "    </tr>\n",
       "    <tr>\n",
       "      <th>9</th>\n",
       "      <td>13595</td>\n",
       "      <td>Heerstraße 243, Pichelsdorf</td>\n",
       "    </tr>\n",
       "    <tr>\n",
       "      <th>10</th>\n",
       "      <td>12053</td>\n",
       "      <td>Morusstraße 18A, Neukölln</td>\n",
       "    </tr>\n",
       "    <tr>\n",
       "      <th>11</th>\n",
       "      <td>10435</td>\n",
       "      <td>Choriner Straße 49, Prenzlauer Berg</td>\n",
       "    </tr>\n",
       "    <tr>\n",
       "      <th>12</th>\n",
       "      <td>10119</td>\n",
       "      <td>Zehdenicker Straße 21, Mitte</td>\n",
       "    </tr>\n",
       "    <tr>\n",
       "      <th>13</th>\n",
       "      <td>10245</td>\n",
       "      <td>Corinthstraße 7, Friedrichshain</td>\n",
       "    </tr>\n",
       "    <tr>\n",
       "      <th>14</th>\n",
       "      <td>13597</td>\n",
       "      <td>Kolonie Tiefwerder Brücke 1, Wilhelmstadt</td>\n",
       "    </tr>\n",
       "    <tr>\n",
       "      <th>15</th>\n",
       "      <td>12347</td>\n",
       "      <td>Alpenhöhe (43 - 47a), Britz</td>\n",
       "    </tr>\n",
       "    <tr>\n",
       "      <th>16</th>\n",
       "      <td>10115</td>\n",
       "      <td>Zinnowitzer Straße 2, Mitte</td>\n",
       "    </tr>\n",
       "    <tr>\n",
       "      <th>17</th>\n",
       "      <td>10717</td>\n",
       "      <td>Trautenaustraße 14, Wilmersdorf</td>\n",
       "    </tr>\n",
       "    <tr>\n",
       "      <th>18</th>\n",
       "      <td>13585</td>\n",
       "      <td>Neumeisterstraße 5, Neustadt</td>\n",
       "    </tr>\n",
       "    <tr>\n",
       "      <th>19</th>\n",
       "      <td>12057</td>\n",
       "      <td>Sonnenallee 289, Neukölln</td>\n",
       "    </tr>\n",
       "    <tr>\n",
       "      <th>20</th>\n",
       "      <td>16727</td>\n",
       "      <td>Ebertstraße, Mitte</td>\n",
       "    </tr>\n",
       "  </tbody>\n",
       "</table>\n",
       "</div>"
      ],
      "text/plain": [
       "    Postcode                                    Address\n",
       "0      12683               Wulkower Straße 10, Biesdorf\n",
       "1      10247      Silvio-Meier-Straße 8, Friedrichshain\n",
       "2      10777               Welserstraße 14D, Schöneberg\n",
       "3      10713                     Barstraße, Wilmersdorf\n",
       "4      10719                  Fasanenplatz, Wilmersdorf\n",
       "5      12359                 Malchiner Straße 55, Britz\n",
       "6      12057                  Sonnenallee 289, Neukölln\n",
       "7      10785           Stauffenbergstraße 1, Tiergarten\n",
       "8      12043                   Donaustraße 94, Neukölln\n",
       "9      13595                Heerstraße 243, Pichelsdorf\n",
       "10     12053                  Morusstraße 18A, Neukölln\n",
       "11     10435        Choriner Straße 49, Prenzlauer Berg\n",
       "12     10119               Zehdenicker Straße 21, Mitte\n",
       "13     10245            Corinthstraße 7, Friedrichshain\n",
       "14     13597  Kolonie Tiefwerder Brücke 1, Wilhelmstadt\n",
       "15     12347                Alpenhöhe (43 - 47a), Britz\n",
       "16     10115                Zinnowitzer Straße 2, Mitte\n",
       "17     10717            Trautenaustraße 14, Wilmersdorf\n",
       "18     13585               Neumeisterstraße 5, Neustadt\n",
       "19     12057                  Sonnenallee 289, Neukölln\n",
       "20     16727                         Ebertstraße, Mitte"
      ]
     },
     "execution_count": 61,
     "metadata": {},
     "output_type": "execute_result"
    }
   ],
   "source": [
    "df_address"
   ]
  },
  {
   "cell_type": "code",
   "execution_count": 62,
   "metadata": {},
   "outputs": [],
   "source": [
    "df_r['Address'] = df_address['Address']"
   ]
  },
  {
   "cell_type": "code",
   "execution_count": 63,
   "metadata": {},
   "outputs": [],
   "source": [
    "df_r = df_r.sort_values(by=['Score']).reset_index()"
   ]
  },
  {
   "cell_type": "code",
   "execution_count": 64,
   "metadata": {},
   "outputs": [
    {
     "data": {
      "text/plain": [
       "(21, 7)"
      ]
     },
     "execution_count": 64,
     "metadata": {},
     "output_type": "execute_result"
    }
   ],
   "source": [
    "df_r.shape"
   ]
  },
  {
   "cell_type": "code",
   "execution_count": 65,
   "metadata": {},
   "outputs": [],
   "source": [
    "df_r = df_r.set_index('Address')"
   ]
  },
  {
   "cell_type": "code",
   "execution_count": 66,
   "metadata": {},
   "outputs": [
    {
     "data": {
      "text/html": [
       "<div>\n",
       "<style scoped>\n",
       "    .dataframe tbody tr th:only-of-type {\n",
       "        vertical-align: middle;\n",
       "    }\n",
       "\n",
       "    .dataframe tbody tr th {\n",
       "        vertical-align: top;\n",
       "    }\n",
       "\n",
       "    .dataframe thead th {\n",
       "        text-align: right;\n",
       "    }\n",
       "</style>\n",
       "<table border=\"1\" class=\"dataframe\">\n",
       "  <thead>\n",
       "    <tr style=\"text-align: right;\">\n",
       "      <th></th>\n",
       "      <th>index</th>\n",
       "      <th>Postcode</th>\n",
       "      <th>Price</th>\n",
       "      <th>Latitude</th>\n",
       "      <th>Longitude</th>\n",
       "      <th>Score</th>\n",
       "    </tr>\n",
       "    <tr>\n",
       "      <th>Address</th>\n",
       "      <th></th>\n",
       "      <th></th>\n",
       "      <th></th>\n",
       "      <th></th>\n",
       "      <th></th>\n",
       "      <th></th>\n",
       "    </tr>\n",
       "  </thead>\n",
       "  <tbody>\n",
       "    <tr>\n",
       "      <th>Zinnowitzer Straße 2, Mitte</th>\n",
       "      <td>16</td>\n",
       "      <td>10115</td>\n",
       "      <td>0.0</td>\n",
       "      <td>52.531570</td>\n",
       "      <td>13.383444</td>\n",
       "      <td>748.154426</td>\n",
       "    </tr>\n",
       "    <tr>\n",
       "      <th>Zehdenicker Straße 21, Mitte</th>\n",
       "      <td>12</td>\n",
       "      <td>10119</td>\n",
       "      <td>3000.0</td>\n",
       "      <td>52.530505</td>\n",
       "      <td>13.405483</td>\n",
       "      <td>1310.302883</td>\n",
       "    </tr>\n",
       "    <tr>\n",
       "      <th>Barstraße, Wilmersdorf</th>\n",
       "      <td>3</td>\n",
       "      <td>10713</td>\n",
       "      <td>3269.0</td>\n",
       "      <td>52.485240</td>\n",
       "      <td>13.311870</td>\n",
       "      <td>1353.984241</td>\n",
       "    </tr>\n",
       "    <tr>\n",
       "      <th>Ebertstraße, Mitte</th>\n",
       "      <td>20</td>\n",
       "      <td>16727</td>\n",
       "      <td>0.0</td>\n",
       "      <td>52.516040</td>\n",
       "      <td>13.376910</td>\n",
       "      <td>1382.880829</td>\n",
       "    </tr>\n",
       "    <tr>\n",
       "      <th>Fasanenplatz, Wilmersdorf</th>\n",
       "      <td>4</td>\n",
       "      <td>10719</td>\n",
       "      <td>5900.0</td>\n",
       "      <td>52.498245</td>\n",
       "      <td>13.327140</td>\n",
       "      <td>1390.663694</td>\n",
       "    </tr>\n",
       "  </tbody>\n",
       "</table>\n",
       "</div>"
      ],
      "text/plain": [
       "                              index  Postcode   Price   Latitude  Longitude  \\\n",
       "Address                                                                       \n",
       "Zinnowitzer Straße 2, Mitte      16     10115     0.0  52.531570  13.383444   \n",
       "Zehdenicker Straße 21, Mitte     12     10119  3000.0  52.530505  13.405483   \n",
       "Barstraße, Wilmersdorf            3     10713  3269.0  52.485240  13.311870   \n",
       "Ebertstraße, Mitte               20     16727     0.0  52.516040  13.376910   \n",
       "Fasanenplatz, Wilmersdorf         4     10719  5900.0  52.498245  13.327140   \n",
       "\n",
       "                                    Score  \n",
       "Address                                    \n",
       "Zinnowitzer Straße 2, Mitte    748.154426  \n",
       "Zehdenicker Straße 21, Mitte  1310.302883  \n",
       "Barstraße, Wilmersdorf        1353.984241  \n",
       "Ebertstraße, Mitte            1382.880829  \n",
       "Fasanenplatz, Wilmersdorf     1390.663694  "
      ]
     },
     "execution_count": 66,
     "metadata": {},
     "output_type": "execute_result"
    }
   ],
   "source": [
    "df_r.head()"
   ]
  },
  {
   "cell_type": "markdown",
   "metadata": {},
   "source": [
    "## 5. Results and discussions  <a name=\"Results and discussions\"></a>"
   ]
  },
  {
   "cell_type": "markdown",
   "metadata": {},
   "source": [
    "In this section, I will show some of the results obtained. I segmented the category features into five Clusters and I can see the **1st Most Common Venue** in each of these clusters: \n",
    "* **cluster 0**: 24 Sushi restaurants \n",
    "* **cluster 1**: 2 Ramen, 1 Chinese, 1 vegetarian/vegan restaurants, 1 Cafe and 1 cooktail bar. \n",
    "* **cluster 2**: 62 Japanese restaurants\n",
    "* **cluster 3**: 5 Vietnamese restaurants \n",
    "* **cluster 4**: 2 Asian restaurants\n",
    "\n",
    "The figure below shows the result of applying the **K-mean Clustering**. "
   ]
  },
  {
   "cell_type": "code",
   "execution_count": 67,
   "metadata": {},
   "outputs": [
    {
     "data": {
      "text/plain": [
       "Text(0, 0.5, 'Number of restaurants')"
      ]
     },
     "execution_count": 67,
     "metadata": {},
     "output_type": "execute_result"
    },
    {
     "data": {
      "image/png": "[encoded data removed]",
      "text/plain": [
       "<Figure size 1008x576 with 1 Axes>"
      ]
     },
     "metadata": {
      "needs_background": "light"
     },
     "output_type": "display_data"
    }
   ],
   "source": [
    "ax = berlin_merged['Cluster Labels'].value_counts().plot(kind='bar', figsize=(14,8), title=\"1st Most Common Venue in each clusters\")\n",
    "ax.set_xlabel(\"Clusters\")\n",
    "ax.set_ylabel(\"Number of restaurants\")"
   ]
  },
  {
   "cell_type": "markdown",
   "metadata": {},
   "source": [
    "I calculated the score of the available places to rent to the Japanese restaurants that already exists and to the public transportation. The lower score more optimal is the place. The results are showed in the figure below. "
   ]
  },
  {
   "cell_type": "code",
   "execution_count": 68,
   "metadata": {},
   "outputs": [
    {
     "data": {
      "text/plain": [
       "Text(0, 0.5, 'Score [m]')"
      ]
     },
     "execution_count": 68,
     "metadata": {},
     "output_type": "execute_result"
    },
    {
     "data": {
      "image/png": "[encoded data removed]",
      "text/plain": [
       "<Figure size 1008x576 with 1 Axes>"
      ]
     },
     "metadata": {
      "needs_background": "light"
     },
     "output_type": "display_data"
    }
   ],
   "source": [
    "ax = df_r['Score'].plot(kind='bar', figsize=(14,8), title=\"Optimal places to rent a restaurant\")\n",
    "ax.set_xlabel(\"Optimal places: The lower score more optimal is the place\")\n",
    "ax.set_ylabel(\"Score [m]\")"
   ]
  },
  {
   "cell_type": "markdown",
   "metadata": {},
   "source": [
    "I will explore the results now using the `Folium map`. In the Berlin map below is showing the locations of each cluster and each type of the restaurant. Is also showing in the figure the optimal places (yellow points) with the score label in each point and includding the public transportation, the city train - s-bahn (green points) and the metro - U-bahn (blue points)."
   ]
  },
  {
   "cell_type": "code",
   "execution_count": 69,
   "metadata": {},
   "outputs": [
    {
     "data": {
      "text/html": [
       "<div style=\"width:100%;\"><div style=\"position:relative;width:100%;height:0;padding-bottom:60%;\"><iframe src=\"data:text/html;charset=utf-8;base64,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\" style=\"position:absolute;width:100%;height:100%;left:0;top:0;border:none !important;\" allowfullscreen webkitallowfullscreen mozallowfullscreen></iframe></div></div>"
      ],
      "text/plain": [
       "<folium.folium.Map at 0x7f2223cbc2b0>"
      ]
     },
     "execution_count": 69,
     "metadata": {},
     "output_type": "execute_result"
    }
   ],
   "source": [
    "#berlin_map = folium.Map(location=[berlin_latitude, berlin_longitude], zoom_start=10)\n",
    "# create map\n",
    "map_clusters = folium.Map(location=[berlin_latitude, berlin_longitude], zoom_start=11)\n",
    "# set color scheme for the clusters\n",
    "x = np.arange(kclusters)\n",
    "ys = [i + x + (i*x)**2 for i in range(kclusters)]\n",
    "colors_array = cm.rainbow(np.linspace(0, 1, len(ys)))\n",
    "rainbow = [colors.rgb2hex(i) for i in colors_array]\n",
    "\n",
    "places_rent = folium.map.FeatureGroup()\n",
    "\n",
    "# add markers to the map\n",
    "markers_colors = []\n",
    "for lat, lon, name, cluster in zip(berlin_merged['lat'], berlin_merged['lng'],berlin_merged['categories'], berlin_merged['Cluster Labels'] ):\n",
    "    label = folium.Popup('Cluster ' + str(cluster) +': ' + str(name), parse_html=True)\n",
    "    folium.CircleMarker(\n",
    "        [lat, lon],\n",
    "        radius=5,\n",
    "        popup=label,\n",
    "        color=rainbow[cluster-1],\n",
    "        fill=True,\n",
    "        fill_color=rainbow[cluster-1],\n",
    "        fill_opacity=0.7).add_to(map_clusters)\n",
    "    \n",
    "# add markers to map\n",
    "for lat, lng, label in zip(df_r['Latitude'], df_r['Longitude'], df_r['Score'] ):\n",
    "    #label = folium.Popup(label, parse_html=True)\n",
    "    label = folium.Popup(str(label),  parse_html=True)\n",
    "    folium.CircleMarker(\n",
    "        [lat, lng],\n",
    "        radius=5,\n",
    "        popup=label,\n",
    "        color='green',\n",
    "        fill=True,\n",
    "        fill_color='yellow',\n",
    "        fill_opacity=0.7,\n",
    "        parse_html=False).add_to(map_clusters)\n",
    "    \n",
    "# add markers to map\n",
    "for lat, lng, name in zip(df_s['lat'], df_s['lng'], df_s['name']):\n",
    "    #label = folium.Popup(label, parse_html=True)\n",
    "    label = folium.Popup(str(name),  parse_html=True)\n",
    "    folium.CircleMarker(\n",
    "        [lat, lng],\n",
    "        radius=3,\n",
    "        popup=label,\n",
    "        color='green',\n",
    "        fill=True,\n",
    "        fill_color='green',\n",
    "        fill_opacity=0.1,\n",
    "        parse_html=False).add_to(map_clusters) \n",
    "    \n",
    "    # add markers to map\n",
    "for lat, lng, name in zip(df_u['lat'], df_u['lng'], df_u['name']):\n",
    "    #label = folium.Popup(label, parse_html=True)\n",
    "    label = folium.Popup(str(name),  parse_html=True)\n",
    "    folium.CircleMarker(\n",
    "        [lat, lng],\n",
    "        radius=3,\n",
    "        popup=label,\n",
    "        color='blue',\n",
    "        fill=True,\n",
    "        fill_color='blue',\n",
    "        fill_opacity=0.1,\n",
    "        parse_html=False).add_to(map_clusters) \n",
    "\n",
    "map_clusters"
   ]
  },
  {
   "cell_type": "code",
   "execution_count": 70,
   "metadata": {},
   "outputs": [],
   "source": [
    "map_clusters.save('map_clusters.html')"
   ]
  },
  {
   "cell_type": "code",
   "execution_count": 71,
   "metadata": {},
   "outputs": [],
   "source": [
    "map_clusters.save('map_clusters.png')"
   ]
  },
  {
   "cell_type": "markdown",
   "metadata": {},
   "source": [
    "Could be interesting to increase the dataset with avaiable places. Here it was used only one agency website to collect the data of avaiable places in Berlin. "
   ]
  },
  {
   "cell_type": "markdown",
   "metadata": {},
   "source": [
    "## 6. Conclusions <a name=\"Results and discussions\"></a>"
   ]
  },
  {
   "cell_type": "markdown",
   "metadata": {},
   "source": [
    "In this data science project, I showed how to explore venues using Fousquare API and how to get latitudes and longitudes using Geocoder. I chose the Japanese restaurant category to explore Foursquare venues in the city of Berlin. \n",
    "\n",
    "I applied the Machine Learning algorithm K-means Clustering and I made segmentations of the types of Japanese restaurants. Therefore, It was possible to observe in the `Folium map` the locations of the restaurants in each of the cluster created. \n",
    "\n",
    "I collected prices of avaiable places for opening a restaurant in Berlin and created a dataset. \n",
    "\n",
    "I calculated the score for locations that have a distance of approximately 300 m from Japanese restaurants that already exists and from public transportations, such as, the city train and the metro of Berlin. At the end, I obtained the results of the secret places to open a restaurant in Berlin."
   ]
  }
 ],
 "metadata": {
  "kernelspec": {
   "display_name": "Python 3",
   "language": "python",
   "name": "python3"
  },
  "language_info": {
   "codemirror_mode": {
    "name": "ipython",
    "version": 3
   },
   "file_extension": ".py",
   "mimetype": "text/x-python",
   "name": "python",
   "nbconvert_exporter": "python",
   "pygments_lexer": "ipython3",
   "version": "3.6.7"
  }
 },
 "nbformat": 4,
 "nbformat_minor": 4
}
