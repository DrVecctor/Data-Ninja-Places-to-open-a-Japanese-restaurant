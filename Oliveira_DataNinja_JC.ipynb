{
 "cells": [
  {
   "cell_type": "markdown",
   "metadata": {},
   "source": [
    "# Data Ninja - Secret places to open a restaurant\n",
    "\n",
    "**Fernanda Oliveira**  \n",
    "Data Scientist"
   ]
  },
  {
   "cell_type": "markdown",
   "metadata": {},
   "source": [
    "## Table of contents\n",
    "1. [Introduction](#introduction)\n",
    "2. [Data acquisition](#data)\n",
    "3. [Methodology](#methodology)\n",
    "4. [Analysis](#Analysis)\n",
    "5. [Results and Discussion](#results)\n",
    "6. [Conclusion](#conclusion)"
   ]
  },
  {
   "cell_type": "markdown",
   "metadata": {},
   "source": [
    "## 1. Introduction  <a name=\"introduction\"></a>"
   ]
  },
  {
   "cell_type": "markdown",
   "metadata": {},
   "source": [
    "### 1.1 Background"
   ]
  },
  {
   "cell_type": "markdown",
   "metadata": {},
   "source": [
    "The city of Berlin is well known to be a cosmopolitan city where you can find people from all around the world. Berlin offers a very wide commercial variety, especially in the area of gastronomy. The trend that comes to stay, are Asian restaurants, particularly Japanese restaurants. Although there are a lot of them spread in the city, there are new ones opening all the time. Therefore to analyze locations, types, and the number of these restaurants is a plus for those who want to open a new restaurant in the city."
   ]
  },
  {
   "cell_type": "markdown",
   "metadata": {},
   "source": [
    "### 1.2 Problem"
   ]
  },
  {
   "cell_type": "markdown",
   "metadata": {},
   "source": [
    "Searching an optimal location to open a Japanese restaurant in the city of Berlin can be challenging. One could think that the better location for it should be at a place where there is no Japanese restaurant. But the problem is that perhaps most of the interested customers instead of going to an isolated neighborhood, prefer to go to a popular neighborhood, where there are more options and also there is movement of people. At the same time that the concurrence will be big in these regions, the flux of interested customers in this specific region will be relevant as well. Many people, for example, go on the weekends to a specific Japanese restaurant and when they arrive, there is a large line waiting for them. This usually happens because it is also a new trend in Berlin, in some popular restaurants, not to have an option to make a reservation. The good news is that perhaps some of the customers, those who do not want wait too long in line, might want to search for similar options in the neighborhood. "
   ]
  },
  {
   "cell_type": "markdown",
   "metadata": {},
   "source": [
    "### 1.3 Interest"
   ]
  },
  {
   "cell_type": "markdown",
   "metadata": {},
   "source": [
    "This project is ideal for a person or a branch that is interested in opening a Japanese restaurant. "
   ]
  },
  {
   "cell_type": "markdown",
   "metadata": {},
   "source": [
    "First, I will import the libraries necessary for this project."
   ]
  },
  {
   "cell_type": "code",
   "execution_count": 1,
   "metadata": {},
   "outputs": [
    {
     "name": "stdout",
     "output_type": "stream",
     "text": [
      "Libraries imported.\n"
     ]
    }
   ],
   "source": [
    "import geocoder\n",
    "from geopy.geocoders import Nominatim\n",
    "#!pip install pygeocoder\n",
    "from pygeocoder import Geocoder\n",
    "\n",
    "import numpy as np # library to handle data in a vectorized manner\n",
    "\n",
    "import pandas as pd # library for data analysis\n",
    "pd.set_option('display.max_columns', None)\n",
    "pd.set_option('display.max_rows', None)\n",
    "\n",
    "import json # library to handle JSON files\n",
    "\n",
    "#!conda install -c conda-forge geopy --yes \n",
    "from geopy.geocoders import Nominatim # convert an address into latitude and longitude values\n",
    "\n",
    "import requests # library to handle requests\n",
    "from pandas.io.json import json_normalize # tranform JSON file into a pandas dataframe\n",
    "\n",
    "# Matplotlib and associated plotting modules\n",
    "import matplotlib.cm as cm\n",
    "import matplotlib.colors as colors\n",
    "\n",
    "#!pip install seaborn\n",
    "import seaborn as sns\n",
    "import matplotlib.pyplot as plt\n",
    "\n",
    "# import k-means from clustering stage\n",
    "from sklearn.cluster import KMeans\n",
    "\n",
    "#!conda install -c conda-forge folium=0.5.0 --yes \n",
    "import folium # map rendering library\n",
    "\n",
    "print('Libraries imported.')"
   ]
  },
  {
   "cell_type": "markdown",
   "metadata": {},
   "source": [
    "## 2. Data acquisition <a name=\"Data source \"></a>"
   ]
  },
  {
   "cell_type": "markdown",
   "metadata": {},
   "source": [
    "### 2.1 Data source "
   ]
  },
  {
   "cell_type": "markdown",
   "metadata": {},
   "source": [
    "The data and tools that I will use are the following:\n",
    "\n",
    "* **Foursquare API** to select the number of restaurants and their location in some neighborhoods of Berlin\n",
    "* **Geocoder** to get the latitudes and longitudes of places to rent, together with information from https://www.sebuyo.com"
   ]
  },
  {
   "cell_type": "markdown",
   "metadata": {},
   "source": [
    "### 2.2 Feature selection"
   ]
  },
  {
   "cell_type": "markdown",
   "metadata": {},
   "source": [
    "* I will first create a dataset thought the Foursquare API, exploring several types of venues, such as ID, name, category (Japanese restaurant), latitude, longitude, neighborhood, and distance (in meters) to Charllotenburg, a borough of Berlin, where is very famous to have Japanese restaurants. Then I will apply again the search using Foursquare API for public transportation categories, city train, and metro in Berlin. \n",
    "\n",
    "* I will save the data collected using Foursquare API to a CSV file and then read them with `Pandas`.\n",
    "\n",
    "* Then, I will create another dataset that has information about available places to rent in Berlin. First, I will create the features \"postal codes\" and \"prices\" of these places and then with the help of Geocoder, I will get the latitude, longitude features. Then, I will save to a file CSV and read it with `Pandas`."
   ]
  },
  {
   "cell_type": "code",
   "execution_count": 2,
   "metadata": {},
   "outputs": [
    {
     "name": "stdout",
     "output_type": "stream",
     "text": [
      "Your credentails:\n",
      "CLIENT_ID: myclientID\n",
      "CLIENT_SECRET:myclientsecret\n"
     ]
    }
   ],
   "source": [
    "CLIENT_ID = 'myclientID' # your Foursquare ID\n",
    "CLIENT_SECRET = 'myclientsecret' # your Foursquare Secret\n",
    "VERSION = '20180605' # Foursquare API version\n",
    "\n",
    "print('Your credentails:')\n",
    "print('CLIENT_ID: ' + CLIENT_ID)\n",
    "print('CLIENT_SECRET:' + CLIENT_SECRET)"
   ]
  },
  {
   "cell_type": "code",
   "execution_count": 3,
   "metadata": {},
   "outputs": [],
   "source": [
    "# define Berlin's geolocation coordinates (center of Charllotenburg)\n",
    "berlin_latitude = 52.50333132 #52.520008\n",
    "berlin_longitude = 13.308665432 #13.404954"
   ]
  },
  {
   "cell_type": "code",
   "execution_count": 4,
   "metadata": {},
   "outputs": [],
   "source": [
    "# type your answer here\n",
    "LIMIT = 500 # limit of number of venues returned by Foursquare API\n",
    "radius = 15000 # define radius\n",
    "category = '4bf58dd8d48988d111941735' # Japanese restaurants \n",
    "#category = '4bf58dd8d48988d1fc931735' # S-Bahnhof\n",
    "#category = '4bf58dd8d48988d1fd931735' #U-Bahnhof"
   ]
  },
  {
   "cell_type": "code",
   "execution_count": 5,
   "metadata": {},
   "outputs": [],
   "source": [
    "url = 'https://api.foursquare.com/v2/venues/explore?&client_id={}&client_secret={}&v={}&ll={},{}&categoryId={}&radius={}&limit={}'.format(\n",
    " CLIENT_ID, \n",
    "   CLIENT_SECRET, \n",
    "    VERSION, \n",
    "   berlin_latitude, \n",
    "   berlin_longitude, \n",
    "    category,\n",
    "      radius, \n",
    "    LIMIT)"
   ]
  },
  {
   "cell_type": "code",
   "execution_count": 6,
   "metadata": {},
   "outputs": [],
   "source": [
    "results = requests.get(url).json()\n",
    "results.values();"
   ]
  },
  {
   "cell_type": "code",
   "execution_count": 7,
   "metadata": {},
   "outputs": [],
   "source": [
    "# function that extracts the category of the venue\n",
    "def get_category_type(row):\n",
    "    try:\n",
    "        categories_list = row['categories']\n",
    "    except:\n",
    "        categories_list = row['venue.categories']\n",
    "        \n",
    "    if len(categories_list) == 0:\n",
    "        return None\n",
    "    else:\n",
    "        return categories_list[0]['name']"
   ]
  },
  {
   "cell_type": "code",
   "execution_count": null,
   "metadata": {},
   "outputs": [],
   "source": [
    "venues = results['response']['groups'][0]['items']\n",
    "venues_neighborhood = [results['response']['groups'][0]['items'][n]['venue']['location']['formattedAddress'] for n in range(len(venues))]  \n",
    "venues_distance = [results['response']['groups'][0]['items'][n]['venue']['location']['distance'] for n in range(len(venues))]  \n",
    "nearby_venues = json_normalize(venues) # flatten JSON\n",
    "\n",
    "# filter columns\n",
    "filtered_columns = ['venue.id','venue.name', 'venue.categories', 'venue.location.lat', 'venue.location.lng']\n",
    "nearby_venues =nearby_venues.loc[:, filtered_columns]\n",
    "\n",
    "# filter the category for each row\n",
    "nearby_venues['venue.categories'] = nearby_venues.apply(get_category_type, axis=1)\n",
    "\n",
    "# clean columns\n",
    "nearby_venues.columns = [col.split(\".\")[-1] for col in nearby_venues.columns]\n",
    "\n",
    "[venues_neighborhood[k][0] for k in range(len(venues_neighborhood))]\n",
    "\n",
    "#nearby_venues['neighborhood'] = venues_neighborhood[0][0]\n",
    "nearby_venues['neighborhood'] =  [venues_neighborhood[k][0] for k in range(len(venues_neighborhood))]\n",
    "nearby_venues['distance [m]'] = venues_distance\n",
    "\n",
    "df = nearby_venues\n",
    "df.head()"
   ]
  },
  {
   "cell_type": "code",
   "execution_count": 9,
   "metadata": {},
   "outputs": [],
   "source": [
    "#import os\n",
    "\n",
    "#outname = 'japanesecategory.csv'\n",
    "\n",
    "#outdir = '/'\n",
    "#if not os.path.exists(outdir):\n",
    " #   os.mkdir(outdir)\n",
    "\n",
    "#fullname = os.path.join(outdir, outname)    \n",
    "\n",
    "#df.to_csv(fullname)"
   ]
  },
  {
   "cell_type": "code",
   "execution_count": 10,
   "metadata": {},
   "outputs": [
    {
     "data": {
      "text/html": [
       "<div>\n",
       "<style scoped>\n",
       "    .dataframe tbody tr th:only-of-type {\n",
       "        vertical-align: middle;\n",
       "    }\n",
       "\n",
       "    .dataframe tbody tr th {\n",
       "        vertical-align: top;\n",
       "    }\n",
       "\n",
       "    .dataframe thead th {\n",
       "        text-align: right;\n",
       "    }\n",
       "</style>\n",
       "<table border=\"1\" class=\"dataframe\">\n",
       "  <thead>\n",
       "    <tr style=\"text-align: right;\">\n",
       "      <th></th>\n",
       "      <th>id</th>\n",
       "      <th>name</th>\n",
       "      <th>categories</th>\n",
       "      <th>lat</th>\n",
       "      <th>lng</th>\n",
       "      <th>neighborhood</th>\n",
       "    </tr>\n",
       "  </thead>\n",
       "  <tbody>\n",
       "    <tr>\n",
       "      <th>0</th>\n",
       "      <td>55f9a48e498ee737a1893058</td>\n",
       "      <td>Heno Heno</td>\n",
       "      <td>Japanese Restaurant</td>\n",
       "      <td>52.503964</td>\n",
       "      <td>13.315578</td>\n",
       "      <td>Wielandstr. 37</td>\n",
       "    </tr>\n",
       "    <tr>\n",
       "      <th>1</th>\n",
       "      <td>4bbe353b9474c9b63e41d9b6</td>\n",
       "      <td>Kushinoya</td>\n",
       "      <td>Japanese Restaurant</td>\n",
       "      <td>52.505372</td>\n",
       "      <td>13.319982</td>\n",
       "      <td>Bleibtreustr. 6</td>\n",
       "    </tr>\n",
       "    <tr>\n",
       "      <th>2</th>\n",
       "      <td>570b97c4498e2c6e7c5eb991</td>\n",
       "      <td>Smart Deli</td>\n",
       "      <td>Japanese Restaurant</td>\n",
       "      <td>52.528094</td>\n",
       "      <td>13.389060</td>\n",
       "      <td>Novalisstr. 2</td>\n",
       "    </tr>\n",
       "    <tr>\n",
       "      <th>3</th>\n",
       "      <td>57c9e26a498ed1dcbbd0b461</td>\n",
       "      <td>Sticks'n'Sushi</td>\n",
       "      <td>Japanese Restaurant</td>\n",
       "      <td>52.502020</td>\n",
       "      <td>13.365064</td>\n",
       "      <td>Potsdamer Str. 85</td>\n",
       "    </tr>\n",
       "    <tr>\n",
       "      <th>4</th>\n",
       "      <td>4c0fde34ce57c928f7f580d2</td>\n",
       "      <td>Green Tea Café MAMECHA</td>\n",
       "      <td>Japanese Restaurant</td>\n",
       "      <td>52.527284</td>\n",
       "      <td>13.406305</td>\n",
       "      <td>Mulackstr. 33 (Rückerstr.)</td>\n",
       "    </tr>\n",
       "  </tbody>\n",
       "</table>\n",
       "</div>"
      ],
      "text/plain": [
       "                         id                    name           categories  \\\n",
       "0  55f9a48e498ee737a1893058               Heno Heno  Japanese Restaurant   \n",
       "1  4bbe353b9474c9b63e41d9b6               Kushinoya  Japanese Restaurant   \n",
       "2  570b97c4498e2c6e7c5eb991              Smart Deli  Japanese Restaurant   \n",
       "3  57c9e26a498ed1dcbbd0b461          Sticks'n'Sushi  Japanese Restaurant   \n",
       "4  4c0fde34ce57c928f7f580d2  Green Tea Café MAMECHA  Japanese Restaurant   \n",
       "\n",
       "         lat        lng                neighborhood  \n",
       "0  52.503964  13.315578              Wielandstr. 37  \n",
       "1  52.505372  13.319982             Bleibtreustr. 6  \n",
       "2  52.528094  13.389060               Novalisstr. 2  \n",
       "3  52.502020  13.365064           Potsdamer Str. 85  \n",
       "4  52.527284  13.406305  Mulackstr. 33 (Rückerstr.)  "
      ]
     },
     "execution_count": 10,
     "metadata": {},
     "output_type": "execute_result"
    }
   ],
   "source": [
    "df_jc = pd.read_csv(\"japanesecategory.csv\")\n",
    "df_jc.drop(['Unnamed: 0'], axis=1, inplace=True);\n",
    "df_jc.drop(['distance [m]'], axis=1, inplace=True);\n",
    "df_jc.head()"
   ]
  },
  {
   "cell_type": "code",
   "execution_count": 11,
   "metadata": {},
   "outputs": [
    {
     "data": {
      "text/html": [
       "<div>\n",
       "<style scoped>\n",
       "    .dataframe tbody tr th:only-of-type {\n",
       "        vertical-align: middle;\n",
       "    }\n",
       "\n",
       "    .dataframe tbody tr th {\n",
       "        vertical-align: top;\n",
       "    }\n",
       "\n",
       "    .dataframe thead th {\n",
       "        text-align: right;\n",
       "    }\n",
       "</style>\n",
       "<table border=\"1\" class=\"dataframe\">\n",
       "  <thead>\n",
       "    <tr style=\"text-align: right;\">\n",
       "      <th></th>\n",
       "      <th>id</th>\n",
       "      <th>name</th>\n",
       "      <th>categories</th>\n",
       "      <th>lat</th>\n",
       "      <th>lng</th>\n",
       "      <th>neighborhood</th>\n",
       "    </tr>\n",
       "  </thead>\n",
       "  <tbody>\n",
       "    <tr>\n",
       "      <th>0</th>\n",
       "      <td>4a1c8506f964a520457b1fe3</td>\n",
       "      <td>Berlin Hauptbahnhof</td>\n",
       "      <td>Light Rail Station</td>\n",
       "      <td>52.525220</td>\n",
       "      <td>13.369369</td>\n",
       "      <td>Europaplatz 1 (Washingtonplatz)</td>\n",
       "    </tr>\n",
       "    <tr>\n",
       "      <th>1</th>\n",
       "      <td>4af5f0c7f964a52020ff21e3</td>\n",
       "      <td>Bahnhof Berlin Friedrichstraße</td>\n",
       "      <td>Light Rail Station</td>\n",
       "      <td>52.520284</td>\n",
       "      <td>13.387063</td>\n",
       "      <td>Georgenstr. 14/17</td>\n",
       "    </tr>\n",
       "    <tr>\n",
       "      <th>2</th>\n",
       "      <td>4b05bf38f964a5204ce222e3</td>\n",
       "      <td>Bahnhof Berlin Potsdamer Platz</td>\n",
       "      <td>Light Rail Station</td>\n",
       "      <td>52.509723</td>\n",
       "      <td>13.376597</td>\n",
       "      <td>Potsdamer Platz (Potsdamer Str.)</td>\n",
       "    </tr>\n",
       "    <tr>\n",
       "      <th>3</th>\n",
       "      <td>4adcda91f964a520ba4b21e3</td>\n",
       "      <td>Bahnhof Berlin Zoologischer Garten</td>\n",
       "      <td>Light Rail Station</td>\n",
       "      <td>52.506642</td>\n",
       "      <td>13.332513</td>\n",
       "      <td>Hardenbergplatz 13</td>\n",
       "    </tr>\n",
       "    <tr>\n",
       "      <th>4</th>\n",
       "      <td>4b01859ef964a520174322e3</td>\n",
       "      <td>S Savignyplatz</td>\n",
       "      <td>Light Rail Station</td>\n",
       "      <td>52.505093</td>\n",
       "      <td>13.319847</td>\n",
       "      <td>Bleibtreustr. 49</td>\n",
       "    </tr>\n",
       "  </tbody>\n",
       "</table>\n",
       "</div>"
      ],
      "text/plain": [
       "                         id                                name  \\\n",
       "0  4a1c8506f964a520457b1fe3                 Berlin Hauptbahnhof   \n",
       "1  4af5f0c7f964a52020ff21e3      Bahnhof Berlin Friedrichstraße   \n",
       "2  4b05bf38f964a5204ce222e3      Bahnhof Berlin Potsdamer Platz   \n",
       "3  4adcda91f964a520ba4b21e3  Bahnhof Berlin Zoologischer Garten   \n",
       "4  4b01859ef964a520174322e3                      S Savignyplatz   \n",
       "\n",
       "           categories        lat        lng                      neighborhood  \n",
       "0  Light Rail Station  52.525220  13.369369   Europaplatz 1 (Washingtonplatz)  \n",
       "1  Light Rail Station  52.520284  13.387063                 Georgenstr. 14/17  \n",
       "2  Light Rail Station  52.509723  13.376597  Potsdamer Platz (Potsdamer Str.)  \n",
       "3  Light Rail Station  52.506642  13.332513                Hardenbergplatz 13  \n",
       "4  Light Rail Station  52.505093  13.319847                  Bleibtreustr. 49  "
      ]
     },
     "execution_count": 11,
     "metadata": {},
     "output_type": "execute_result"
    }
   ],
   "source": [
    "df_s = pd.read_csv(\"sbahncategory.csv\")\n",
    "df_s.drop(['Unnamed: 0'], axis=1, inplace=True);\n",
    "df_s.drop(['distance [m]'], axis=1, inplace=True);\n",
    "df_s.head()"
   ]
  },
  {
   "cell_type": "code",
   "execution_count": 12,
   "metadata": {},
   "outputs": [
    {
     "data": {
      "text/html": [
       "<div>\n",
       "<style scoped>\n",
       "    .dataframe tbody tr th:only-of-type {\n",
       "        vertical-align: middle;\n",
       "    }\n",
       "\n",
       "    .dataframe tbody tr th {\n",
       "        vertical-align: top;\n",
       "    }\n",
       "\n",
       "    .dataframe thead th {\n",
       "        text-align: right;\n",
       "    }\n",
       "</style>\n",
       "<table border=\"1\" class=\"dataframe\">\n",
       "  <thead>\n",
       "    <tr style=\"text-align: right;\">\n",
       "      <th></th>\n",
       "      <th>id</th>\n",
       "      <th>name</th>\n",
       "      <th>categories</th>\n",
       "      <th>lat</th>\n",
       "      <th>lng</th>\n",
       "      <th>neighborhood</th>\n",
       "    </tr>\n",
       "  </thead>\n",
       "  <tbody>\n",
       "    <tr>\n",
       "      <th>0</th>\n",
       "      <td>4bfb2cf765fbc9b66f23916c</td>\n",
       "      <td>U Rehberge</td>\n",
       "      <td>Metro Station</td>\n",
       "      <td>52.555570</td>\n",
       "      <td>13.343412</td>\n",
       "      <td>Müllerstr. (Dubliner Str.)</td>\n",
       "    </tr>\n",
       "    <tr>\n",
       "      <th>1</th>\n",
       "      <td>4b538a1af964a52043a127e3</td>\n",
       "      <td>U Wilmersdorfer Straße</td>\n",
       "      <td>Metro Station</td>\n",
       "      <td>52.506312</td>\n",
       "      <td>13.306770</td>\n",
       "      <td>Wilmersdorfer Str. (Kantstr.)</td>\n",
       "    </tr>\n",
       "    <tr>\n",
       "      <th>2</th>\n",
       "      <td>4b5de986f964a520387329e3</td>\n",
       "      <td>U Adenauerplatz</td>\n",
       "      <td>Metro Station</td>\n",
       "      <td>52.499950</td>\n",
       "      <td>13.307203</td>\n",
       "      <td>Adenauerplatz (Kurfürstendamm)</td>\n",
       "    </tr>\n",
       "    <tr>\n",
       "      <th>3</th>\n",
       "      <td>4b47845cf964a5209e3426e3</td>\n",
       "      <td>U Güntzelstraße</td>\n",
       "      <td>Metro Station</td>\n",
       "      <td>52.490989</td>\n",
       "      <td>13.330868</td>\n",
       "      <td>Bundesallee (Güntzelstr.)</td>\n",
       "    </tr>\n",
       "    <tr>\n",
       "      <th>4</th>\n",
       "      <td>4b2a3edbf964a52076a624e3</td>\n",
       "      <td>U Deutsche Oper</td>\n",
       "      <td>Metro Station</td>\n",
       "      <td>52.511193</td>\n",
       "      <td>13.311905</td>\n",
       "      <td>Bismarckstr. (Krumme Str./Weimarer Str.)</td>\n",
       "    </tr>\n",
       "  </tbody>\n",
       "</table>\n",
       "</div>"
      ],
      "text/plain": [
       "                         id                    name     categories        lat  \\\n",
       "0  4bfb2cf765fbc9b66f23916c              U Rehberge  Metro Station  52.555570   \n",
       "1  4b538a1af964a52043a127e3  U Wilmersdorfer Straße  Metro Station  52.506312   \n",
       "2  4b5de986f964a520387329e3         U Adenauerplatz  Metro Station  52.499950   \n",
       "3  4b47845cf964a5209e3426e3         U Güntzelstraße  Metro Station  52.490989   \n",
       "4  4b2a3edbf964a52076a624e3         U Deutsche Oper  Metro Station  52.511193   \n",
       "\n",
       "         lng                              neighborhood  \n",
       "0  13.343412                Müllerstr. (Dubliner Str.)  \n",
       "1  13.306770             Wilmersdorfer Str. (Kantstr.)  \n",
       "2  13.307203            Adenauerplatz (Kurfürstendamm)  \n",
       "3  13.330868                 Bundesallee (Güntzelstr.)  \n",
       "4  13.311905  Bismarckstr. (Krumme Str./Weimarer Str.)  "
      ]
     },
     "execution_count": 12,
     "metadata": {},
     "output_type": "execute_result"
    }
   ],
   "source": [
    "df_u = pd.read_csv(\"ubahn_data.csv\")\n",
    "df_u.drop(['Unnamed: 0'], axis=1, inplace=True);\n",
    "df_u.drop(['distance [m]'], axis=1, inplace=True);\n",
    "df_u.head()"
   ]
  },
  {
   "cell_type": "markdown",
   "metadata": {},
   "source": [
    "Using the website https://www.sebuyo.com I made a search of prices and code postal of the avaiable places to rent in Berlin"
   ]
  },
  {
   "cell_type": "code",
   "execution_count": 13,
   "metadata": {},
   "outputs": [],
   "source": [
    "df_rent = pd.DataFrame({'Postcode': [10247, 10777, 10713, 10719, 12359, 12057, 10785, 12043, 13595, 12053, 10435, 10119, 10245, 13597, 12347, 10115, 10717, 13585, 12057, 16727],'Price': [2400, 1142.36, 3269, 5900, 300, 400, 3900, 10000, 0, 1600, 2500, 3000, 1095, 0, 1000, 0, 2700, 570, 400, 0]})"
   ]
  },
  {
   "cell_type": "code",
   "execution_count": 14,
   "metadata": {},
   "outputs": [
    {
     "data": {
      "text/html": [
       "<div>\n",
       "<style scoped>\n",
       "    .dataframe tbody tr th:only-of-type {\n",
       "        vertical-align: middle;\n",
       "    }\n",
       "\n",
       "    .dataframe tbody tr th {\n",
       "        vertical-align: top;\n",
       "    }\n",
       "\n",
       "    .dataframe thead th {\n",
       "        text-align: right;\n",
       "    }\n",
       "</style>\n",
       "<table border=\"1\" class=\"dataframe\">\n",
       "  <thead>\n",
       "    <tr style=\"text-align: right;\">\n",
       "      <th></th>\n",
       "      <th>Postcode</th>\n",
       "      <th>Price</th>\n",
       "    </tr>\n",
       "  </thead>\n",
       "  <tbody>\n",
       "    <tr>\n",
       "      <th>0</th>\n",
       "      <td>10247</td>\n",
       "      <td>2400.00</td>\n",
       "    </tr>\n",
       "    <tr>\n",
       "      <th>1</th>\n",
       "      <td>10777</td>\n",
       "      <td>1142.36</td>\n",
       "    </tr>\n",
       "    <tr>\n",
       "      <th>2</th>\n",
       "      <td>10713</td>\n",
       "      <td>3269.00</td>\n",
       "    </tr>\n",
       "    <tr>\n",
       "      <th>3</th>\n",
       "      <td>10719</td>\n",
       "      <td>5900.00</td>\n",
       "    </tr>\n",
       "    <tr>\n",
       "      <th>4</th>\n",
       "      <td>12359</td>\n",
       "      <td>300.00</td>\n",
       "    </tr>\n",
       "  </tbody>\n",
       "</table>\n",
       "</div>"
      ],
      "text/plain": [
       "   Postcode    Price\n",
       "0     10247  2400.00\n",
       "1     10777  1142.36\n",
       "2     10713  3269.00\n",
       "3     10719  5900.00\n",
       "4     12359   300.00"
      ]
     },
     "execution_count": 14,
     "metadata": {},
     "output_type": "execute_result"
    }
   ],
   "source": [
    "df_rent.head()"
   ]
  },
  {
   "cell_type": "markdown",
   "metadata": {},
   "source": [
    "Using Geocoder I found the respective latitudes and longitudes using the information of the code postal. "
   ]
  },
  {
   "cell_type": "code",
   "execution_count": 15,
   "metadata": {},
   "outputs": [],
   "source": [
    "def  get_latlng(postal_code):\n",
    "    latlng_coords = None\n",
    "    while(latlng_coords is None):\n",
    "        g = geocoder.arcgis('{}, Berlin, Berlin'.format(postal_code))\n",
    "        latlng_coords = g.latlng\n",
    "    return latlng_coords"
   ]
  },
  {
   "cell_type": "code",
   "execution_count": 16,
   "metadata": {},
   "outputs": [],
   "source": [
    "codepost = df_rent['Postcode']\n",
    "coords = [get_latlng(postal_code) \n",
    "         for postal_code \n",
    "         in codepost.tolist()]"
   ]
  },
  {
   "cell_type": "code",
   "execution_count": 17,
   "metadata": {},
   "outputs": [],
   "source": [
    "df_coords = pd.DataFrame(coords, columns = ['Latitude', 'Longitude'])\n",
    "df_rent['Latitude'] = df_coords['Latitude']\n",
    "df_rent['Longitude'] = df_coords['Longitude']"
   ]
  },
  {
   "cell_type": "markdown",
   "metadata": {},
   "source": [
    "Here I saved the dataframe df_rent to a file and then I read with pandas."
   ]
  },
  {
   "cell_type": "code",
   "execution_count": 18,
   "metadata": {},
   "outputs": [
    {
     "data": {
      "text/html": [
       "<div>\n",
       "<style scoped>\n",
       "    .dataframe tbody tr th:only-of-type {\n",
       "        vertical-align: middle;\n",
       "    }\n",
       "\n",
       "    .dataframe tbody tr th {\n",
       "        vertical-align: top;\n",
       "    }\n",
       "\n",
       "    .dataframe thead th {\n",
       "        text-align: right;\n",
       "    }\n",
       "</style>\n",
       "<table border=\"1\" class=\"dataframe\">\n",
       "  <thead>\n",
       "    <tr style=\"text-align: right;\">\n",
       "      <th></th>\n",
       "      <th>Postcode</th>\n",
       "      <th>Price</th>\n",
       "      <th>Latitude</th>\n",
       "      <th>Longitude</th>\n",
       "    </tr>\n",
       "  </thead>\n",
       "  <tbody>\n",
       "    <tr>\n",
       "      <th>0</th>\n",
       "      <td>12683</td>\n",
       "      <td>2900.00</td>\n",
       "      <td>52.503731</td>\n",
       "      <td>13.559540</td>\n",
       "    </tr>\n",
       "    <tr>\n",
       "      <th>1</th>\n",
       "      <td>10247</td>\n",
       "      <td>2400.00</td>\n",
       "      <td>52.516340</td>\n",
       "      <td>13.463990</td>\n",
       "    </tr>\n",
       "    <tr>\n",
       "      <th>2</th>\n",
       "      <td>10777</td>\n",
       "      <td>1142.36</td>\n",
       "      <td>52.497685</td>\n",
       "      <td>13.342285</td>\n",
       "    </tr>\n",
       "    <tr>\n",
       "      <th>3</th>\n",
       "      <td>10713</td>\n",
       "      <td>3269.00</td>\n",
       "      <td>52.485240</td>\n",
       "      <td>13.311870</td>\n",
       "    </tr>\n",
       "    <tr>\n",
       "      <th>4</th>\n",
       "      <td>10719</td>\n",
       "      <td>5900.00</td>\n",
       "      <td>52.498245</td>\n",
       "      <td>13.327140</td>\n",
       "    </tr>\n",
       "  </tbody>\n",
       "</table>\n",
       "</div>"
      ],
      "text/plain": [
       "   Postcode    Price   Latitude  Longitude\n",
       "0     12683  2900.00  52.503731  13.559540\n",
       "1     10247  2400.00  52.516340  13.463990\n",
       "2     10777  1142.36  52.497685  13.342285\n",
       "3     10713  3269.00  52.485240  13.311870\n",
       "4     10719  5900.00  52.498245  13.327140"
      ]
     },
     "execution_count": 18,
     "metadata": {},
     "output_type": "execute_result"
    }
   ],
   "source": [
    "df_r = pd.read_csv(\"rent_data.csv\")\n",
    "df_r.drop(['Unnamed: 0'], axis=1, inplace=True);\n",
    "df_r.head()"
   ]
  },
  {
   "cell_type": "markdown",
   "metadata": {},
   "source": [
    "Here we will understand more our data collection and we will apply some descriptive statistics to answer to following answers:\n",
    "\n",
    "* How many restaurants exists?\n",
    "* How many avaiable places to rent exist?\n",
    "* How many categories exist in each dataset?"
   ]
  },
  {
   "cell_type": "code",
   "execution_count": 19,
   "metadata": {},
   "outputs": [
    {
     "data": {
      "text/plain": [
       "count                     100\n",
       "unique                     10\n",
       "top       Japanese Restaurant\n",
       "freq                       63\n",
       "Name: categories, dtype: object"
      ]
     },
     "execution_count": 19,
     "metadata": {},
     "output_type": "execute_result"
    }
   ],
   "source": [
    "df_jc['categories'].describe()"
   ]
  },
  {
   "cell_type": "code",
   "execution_count": 20,
   "metadata": {},
   "outputs": [
    {
     "data": {
      "text/plain": [
       "array(['Japanese Restaurant', 'Vietnamese Restaurant', 'Sushi Restaurant',\n",
       "       'Ramen Restaurant', 'Asian Restaurant', 'Chinese Restaurant',\n",
       "       'Café', 'Vegetarian / Vegan Restaurant', 'Korean Restaurant',\n",
       "       'Cocktail Bar'], dtype=object)"
      ]
     },
     "execution_count": 20,
     "metadata": {},
     "output_type": "execute_result"
    }
   ],
   "source": [
    "df_jc.categories.unique()"
   ]
  },
  {
   "cell_type": "code",
   "execution_count": 21,
   "metadata": {},
   "outputs": [
    {
     "data": {
      "text/plain": [
       "Postcode     21\n",
       "Price        21\n",
       "Latitude     21\n",
       "Longitude    21\n",
       "dtype: int64"
      ]
     },
     "execution_count": 21,
     "metadata": {},
     "output_type": "execute_result"
    }
   ],
   "source": [
    "df_r.count()"
   ]
  },
  {
   "cell_type": "code",
   "execution_count": 22,
   "metadata": {},
   "outputs": [
    {
     "data": {
      "text/plain": [
       "Text(0, 0.5, 'frequency')"
      ]
     },
     "execution_count": 22,
     "metadata": {},
     "output_type": "execute_result"
    },
    {
     "data": {
      "image/png": "[encoded data removed]",
      "text/plain": [
       "<Figure size 1008x576 with 1 Axes>"
      ]
     },
     "metadata": {
      "needs_background": "light"
     },
     "output_type": "display_data"
    }
   ],
   "source": [
    "ax = df_jc['categories'].value_counts().plot(kind='bar', figsize=(14,8), title=\"Japanese category venue\")\n",
    "ax.set_xlabel(\"Category of restaurants\")\n",
    "ax.set_ylabel(\"frequency\")"
   ]
  },
  {
   "cell_type": "markdown",
   "metadata": {},
   "source": [
    "## 3. Methodology"
   ]
  },
  {
   "cell_type": "markdown",
   "metadata": {},
   "source": [
    "The goal of this project is to search for locations where the neighborhood is surrounded by Japanese restaurants. Then I will apply  **K-means Clustering** to make segmentations of the types of Japanese restaurants. After that, research about the prices to rent a place for opening a restaurant will be made. In addition, the optimal location should be accessible by public transportation. In the end, the focus will be to find locations that have a distance of approximately 300 m from Japanese restaurants that already exist and near public transportations. \n",
    " Based on the goal of this project, I will describe below, what is needed to perform this search and which data sources will be used:\n",
    " \n",
    "* number of existing Japanese restaurants\n",
    "* prices and locations of places in Berlin to open a restaurant\n",
    "* segmentation of types of Japanese restaurants in a neighborhood\n",
    "* distance of the available places to rent to the Japanese restaurants that already exist and to public transportation."
   ]
  },
  {
   "cell_type": "markdown",
   "metadata": {},
   "source": [
    "K-means Clustering is a simple and popular unsupervised algorithm that can be used to make segmentation. Segmentation is a practice of divide a feature into groups with similar characteristics. Therefore one can get some insights from the characteristics of the data. "
   ]
  },
  {
   "cell_type": "markdown",
   "metadata": {},
   "source": [
    "First, I will start applying the **One-hot Encoding** function to convert categorical variations to numerical ones. The results 0 indicates non-existent while 1 indicates existent."
   ]
  },
  {
   "cell_type": "code",
   "execution_count": 23,
   "metadata": {},
   "outputs": [],
   "source": [
    "# one hot encoding for Japanese category\n",
    "berlin_onehot = pd.get_dummies(df_jc[['categories']], prefix=\"\", prefix_sep=\"\")\n",
    "\n",
    "# add neighborhood column back to dataframe\n",
    "berlin_onehot['neighborhood'] = df_jc['neighborhood'] \n",
    "\n",
    "# move neighborhood column to the first column\n",
    "fixed_columns = [berlin_onehot.columns[-1]] + list(berlin_onehot.columns[:-1])\n",
    "berlin_onehot = berlin_onehot[fixed_columns]\n",
    "berlin_grouped = berlin_onehot.groupby('neighborhood').mean().reset_index()"
   ]
  },
  {
   "cell_type": "code",
   "execution_count": 24,
   "metadata": {},
   "outputs": [
    {
     "data": {
      "text/html": [
       "<div>\n",
       "<style scoped>\n",
       "    .dataframe tbody tr th:only-of-type {\n",
       "        vertical-align: middle;\n",
       "    }\n",
       "\n",
       "    .dataframe tbody tr th {\n",
       "        vertical-align: top;\n",
       "    }\n",
       "\n",
       "    .dataframe thead th {\n",
       "        text-align: right;\n",
       "    }\n",
       "</style>\n",
       "<table border=\"1\" class=\"dataframe\">\n",
       "  <thead>\n",
       "    <tr style=\"text-align: right;\">\n",
       "      <th></th>\n",
       "      <th>neighborhood</th>\n",
       "      <th>Asian Restaurant</th>\n",
       "      <th>Café</th>\n",
       "      <th>Chinese Restaurant</th>\n",
       "      <th>Cocktail Bar</th>\n",
       "      <th>Japanese Restaurant</th>\n",
       "      <th>Korean Restaurant</th>\n",
       "      <th>Ramen Restaurant</th>\n",
       "      <th>Sushi Restaurant</th>\n",
       "      <th>Vegetarian / Vegan Restaurant</th>\n",
       "      <th>Vietnamese Restaurant</th>\n",
       "    </tr>\n",
       "  </thead>\n",
       "  <tbody>\n",
       "    <tr>\n",
       "      <th>0</th>\n",
       "      <td>Wielandstr. 37</td>\n",
       "      <td>0</td>\n",
       "      <td>0</td>\n",
       "      <td>0</td>\n",
       "      <td>0</td>\n",
       "      <td>1</td>\n",
       "      <td>0</td>\n",
       "      <td>0</td>\n",
       "      <td>0</td>\n",
       "      <td>0</td>\n",
       "      <td>0</td>\n",
       "    </tr>\n",
       "    <tr>\n",
       "      <th>1</th>\n",
       "      <td>Bleibtreustr. 6</td>\n",
       "      <td>0</td>\n",
       "      <td>0</td>\n",
       "      <td>0</td>\n",
       "      <td>0</td>\n",
       "      <td>1</td>\n",
       "      <td>0</td>\n",
       "      <td>0</td>\n",
       "      <td>0</td>\n",
       "      <td>0</td>\n",
       "      <td>0</td>\n",
       "    </tr>\n",
       "    <tr>\n",
       "      <th>2</th>\n",
       "      <td>Novalisstr. 2</td>\n",
       "      <td>0</td>\n",
       "      <td>0</td>\n",
       "      <td>0</td>\n",
       "      <td>0</td>\n",
       "      <td>1</td>\n",
       "      <td>0</td>\n",
       "      <td>0</td>\n",
       "      <td>0</td>\n",
       "      <td>0</td>\n",
       "      <td>0</td>\n",
       "    </tr>\n",
       "    <tr>\n",
       "      <th>3</th>\n",
       "      <td>Potsdamer Str. 85</td>\n",
       "      <td>0</td>\n",
       "      <td>0</td>\n",
       "      <td>0</td>\n",
       "      <td>0</td>\n",
       "      <td>1</td>\n",
       "      <td>0</td>\n",
       "      <td>0</td>\n",
       "      <td>0</td>\n",
       "      <td>0</td>\n",
       "      <td>0</td>\n",
       "    </tr>\n",
       "    <tr>\n",
       "      <th>4</th>\n",
       "      <td>Mulackstr. 33 (Rückerstr.)</td>\n",
       "      <td>0</td>\n",
       "      <td>0</td>\n",
       "      <td>0</td>\n",
       "      <td>0</td>\n",
       "      <td>1</td>\n",
       "      <td>0</td>\n",
       "      <td>0</td>\n",
       "      <td>0</td>\n",
       "      <td>0</td>\n",
       "      <td>0</td>\n",
       "    </tr>\n",
       "  </tbody>\n",
       "</table>\n",
       "</div>"
      ],
      "text/plain": [
       "                 neighborhood  Asian Restaurant  Café  Chinese Restaurant  \\\n",
       "0              Wielandstr. 37                 0     0                   0   \n",
       "1             Bleibtreustr. 6                 0     0                   0   \n",
       "2               Novalisstr. 2                 0     0                   0   \n",
       "3           Potsdamer Str. 85                 0     0                   0   \n",
       "4  Mulackstr. 33 (Rückerstr.)                 0     0                   0   \n",
       "\n",
       "   Cocktail Bar  Japanese Restaurant  Korean Restaurant  Ramen Restaurant  \\\n",
       "0             0                    1                  0                 0   \n",
       "1             0                    1                  0                 0   \n",
       "2             0                    1                  0                 0   \n",
       "3             0                    1                  0                 0   \n",
       "4             0                    1                  0                 0   \n",
       "\n",
       "   Sushi Restaurant  Vegetarian / Vegan Restaurant  Vietnamese Restaurant  \n",
       "0                 0                              0                      0  \n",
       "1                 0                              0                      0  \n",
       "2                 0                              0                      0  \n",
       "3                 0                              0                      0  \n",
       "4                 0                              0                      0  "
      ]
     },
     "execution_count": 24,
     "metadata": {},
     "output_type": "execute_result"
    }
   ],
   "source": [
    "berlin_onehot.head()"
   ]
  },
  {
   "cell_type": "code",
   "execution_count": 25,
   "metadata": {},
   "outputs": [],
   "source": [
    "berlin_grouped = berlin_onehot.groupby('neighborhood').mean().reset_index()"
   ]
  },
  {
   "cell_type": "markdown",
   "metadata": {},
   "source": [
    "Now I will create a dataset in `Pandas`. For this, I will use a function to sort the venues in descending order."
   ]
  },
  {
   "cell_type": "code",
   "execution_count": 26,
   "metadata": {},
   "outputs": [],
   "source": [
    "def return_most_common_venues(row, num_top_venues):\n",
    "    row_categories = row.iloc[1:]\n",
    "    row_categories_sorted = row_categories.sort_values(ascending=False)\n",
    "    \n",
    "    return row_categories_sorted.index.values[0:num_top_venues]\n",
    "    "
   ]
  },
  {
   "cell_type": "markdown",
   "metadata": {},
   "source": [
    "Here I will create a new dataset and display the top 7 venues for each neighborhood."
   ]
  },
  {
   "cell_type": "code",
   "execution_count": 27,
   "metadata": {},
   "outputs": [],
   "source": [
    "num_top_venues = 7\n",
    "\n",
    "indicators = ['st', 'nd', 'rd']\n",
    "\n",
    "# create columns according to number of top venues\n",
    "columns = ['neighborhood']\n",
    "for ind in np.arange(num_top_venues):\n",
    "    try:\n",
    "        columns.append('{}{} Most Common Venue'.format(ind+1, indicators[ind]))\n",
    "    except:\n",
    "        columns.append('{}th Most Common Venue'.format(ind+1))\n",
    "\n",
    "# create a new dataframe\n",
    "neighborhoods_venues_sorted = pd.DataFrame(columns=columns)\n",
    "neighborhoods_venues_sorted['neighborhood'] = berlin_grouped['neighborhood']\n",
    "\n",
    "for ind in np.arange(berlin_grouped.shape[0]):\n",
    "    neighborhoods_venues_sorted.iloc[ind, 1:] = return_most_common_venues(berlin_grouped.iloc[ind, :], num_top_venues)"
   ]
  },
  {
   "cell_type": "code",
   "execution_count": 28,
   "metadata": {},
   "outputs": [
    {
     "data": {
      "text/html": [
       "<div>\n",
       "<style scoped>\n",
       "    .dataframe tbody tr th:only-of-type {\n",
       "        vertical-align: middle;\n",
       "    }\n",
       "\n",
       "    .dataframe tbody tr th {\n",
       "        vertical-align: top;\n",
       "    }\n",
       "\n",
       "    .dataframe thead th {\n",
       "        text-align: right;\n",
       "    }\n",
       "</style>\n",
       "<table border=\"1\" class=\"dataframe\">\n",
       "  <thead>\n",
       "    <tr style=\"text-align: right;\">\n",
       "      <th></th>\n",
       "      <th>neighborhood</th>\n",
       "      <th>1st Most Common Venue</th>\n",
       "      <th>2nd Most Common Venue</th>\n",
       "      <th>3rd Most Common Venue</th>\n",
       "      <th>4th Most Common Venue</th>\n",
       "      <th>5th Most Common Venue</th>\n",
       "      <th>6th Most Common Venue</th>\n",
       "      <th>7th Most Common Venue</th>\n",
       "    </tr>\n",
       "  </thead>\n",
       "  <tbody>\n",
       "    <tr>\n",
       "      <th>0</th>\n",
       "      <td>Ahornstr. 32</td>\n",
       "      <td>Sushi Restaurant</td>\n",
       "      <td>Vietnamese Restaurant</td>\n",
       "      <td>Vegetarian / Vegan Restaurant</td>\n",
       "      <td>Ramen Restaurant</td>\n",
       "      <td>Korean Restaurant</td>\n",
       "      <td>Japanese Restaurant</td>\n",
       "      <td>Cocktail Bar</td>\n",
       "    </tr>\n",
       "    <tr>\n",
       "      <th>1</th>\n",
       "      <td>Albrechtstr. 131</td>\n",
       "      <td>Sushi Restaurant</td>\n",
       "      <td>Vietnamese Restaurant</td>\n",
       "      <td>Vegetarian / Vegan Restaurant</td>\n",
       "      <td>Ramen Restaurant</td>\n",
       "      <td>Korean Restaurant</td>\n",
       "      <td>Japanese Restaurant</td>\n",
       "      <td>Cocktail Bar</td>\n",
       "    </tr>\n",
       "    <tr>\n",
       "      <th>2</th>\n",
       "      <td>Alte Schönhauser Str. 13 (Mulackstr.)</td>\n",
       "      <td>Japanese Restaurant</td>\n",
       "      <td>Vietnamese Restaurant</td>\n",
       "      <td>Vegetarian / Vegan Restaurant</td>\n",
       "      <td>Sushi Restaurant</td>\n",
       "      <td>Ramen Restaurant</td>\n",
       "      <td>Korean Restaurant</td>\n",
       "      <td>Cocktail Bar</td>\n",
       "    </tr>\n",
       "    <tr>\n",
       "      <th>3</th>\n",
       "      <td>Alte Schönhauser Str. 7-8</td>\n",
       "      <td>Japanese Restaurant</td>\n",
       "      <td>Vietnamese Restaurant</td>\n",
       "      <td>Vegetarian / Vegan Restaurant</td>\n",
       "      <td>Sushi Restaurant</td>\n",
       "      <td>Ramen Restaurant</td>\n",
       "      <td>Korean Restaurant</td>\n",
       "      <td>Cocktail Bar</td>\n",
       "    </tr>\n",
       "    <tr>\n",
       "      <th>4</th>\n",
       "      <td>Bergmannstraße 93</td>\n",
       "      <td>Japanese Restaurant</td>\n",
       "      <td>Vietnamese Restaurant</td>\n",
       "      <td>Vegetarian / Vegan Restaurant</td>\n",
       "      <td>Sushi Restaurant</td>\n",
       "      <td>Ramen Restaurant</td>\n",
       "      <td>Korean Restaurant</td>\n",
       "      <td>Cocktail Bar</td>\n",
       "    </tr>\n",
       "  </tbody>\n",
       "</table>\n",
       "</div>"
      ],
      "text/plain": [
       "                            neighborhood 1st Most Common Venue  \\\n",
       "0                           Ahornstr. 32      Sushi Restaurant   \n",
       "1                       Albrechtstr. 131      Sushi Restaurant   \n",
       "2  Alte Schönhauser Str. 13 (Mulackstr.)   Japanese Restaurant   \n",
       "3              Alte Schönhauser Str. 7-8   Japanese Restaurant   \n",
       "4                      Bergmannstraße 93   Japanese Restaurant   \n",
       "\n",
       "   2nd Most Common Venue          3rd Most Common Venue 4th Most Common Venue  \\\n",
       "0  Vietnamese Restaurant  Vegetarian / Vegan Restaurant      Ramen Restaurant   \n",
       "1  Vietnamese Restaurant  Vegetarian / Vegan Restaurant      Ramen Restaurant   \n",
       "2  Vietnamese Restaurant  Vegetarian / Vegan Restaurant      Sushi Restaurant   \n",
       "3  Vietnamese Restaurant  Vegetarian / Vegan Restaurant      Sushi Restaurant   \n",
       "4  Vietnamese Restaurant  Vegetarian / Vegan Restaurant      Sushi Restaurant   \n",
       "\n",
       "  5th Most Common Venue 6th Most Common Venue 7th Most Common Venue  \n",
       "0     Korean Restaurant   Japanese Restaurant          Cocktail Bar  \n",
       "1     Korean Restaurant   Japanese Restaurant          Cocktail Bar  \n",
       "2      Ramen Restaurant     Korean Restaurant          Cocktail Bar  \n",
       "3      Ramen Restaurant     Korean Restaurant          Cocktail Bar  \n",
       "4      Ramen Restaurant     Korean Restaurant          Cocktail Bar  "
      ]
     },
     "execution_count": 28,
     "metadata": {},
     "output_type": "execute_result"
    }
   ],
   "source": [
    "neighborhoods_venues_sorted.head()"
   ]
  },
  {
   "cell_type": "markdown",
   "metadata": {},
   "source": [
    "### 3.1 Cluster Neighborhoods"
   ]
  },
  {
   "cell_type": "markdown",
   "metadata": {},
   "source": [
    "I will run *k*-means to cluster the neighborhood into 5 clusters."
   ]
  },
  {
   "cell_type": "code",
   "execution_count": 29,
   "metadata": {},
   "outputs": [
    {
     "data": {
      "text/plain": [
       "array([0, 0, 2, 2, 2, 1, 2, 2, 2, 2], dtype=int32)"
      ]
     },
     "execution_count": 29,
     "metadata": {},
     "output_type": "execute_result"
    }
   ],
   "source": [
    "# set number of clusters\n",
    "kclusters = 5\n",
    "\n",
    "berlin_grouped_clustering = berlin_grouped.drop('neighborhood', 1)\n",
    "\n",
    "# run k-means clustering\n",
    "kmeans = KMeans(n_clusters=kclusters, random_state=0).fit(berlin_grouped_clustering)\n",
    "\n",
    "# check cluster labels generated for each row in the dataframe\n",
    "kmeans.labels_[0:10] "
   ]
  },
  {
   "cell_type": "code",
   "execution_count": 30,
   "metadata": {},
   "outputs": [
    {
     "data": {
      "text/plain": [
       "(5, 10)"
      ]
     },
     "execution_count": 30,
     "metadata": {},
     "output_type": "execute_result"
    }
   ],
   "source": [
    "kmeans_cluster_centers = kmeans.cluster_centers_\n",
    "kmeans_cluster_centers.shape"
   ]
  },
  {
   "cell_type": "code",
   "execution_count": 31,
   "metadata": {},
   "outputs": [],
   "source": [
    "neighborhoods_venues_sorted.insert(0,'Cluster Labels', kmeans.labels_)"
   ]
  },
  {
   "cell_type": "code",
   "execution_count": 32,
   "metadata": {},
   "outputs": [
    {
     "data": {
      "text/html": [
       "<div>\n",
       "<style scoped>\n",
       "    .dataframe tbody tr th:only-of-type {\n",
       "        vertical-align: middle;\n",
       "    }\n",
       "\n",
       "    .dataframe tbody tr th {\n",
       "        vertical-align: top;\n",
       "    }\n",
       "\n",
       "    .dataframe thead th {\n",
       "        text-align: right;\n",
       "    }\n",
       "</style>\n",
       "<table border=\"1\" class=\"dataframe\">\n",
       "  <thead>\n",
       "    <tr style=\"text-align: right;\">\n",
       "      <th></th>\n",
       "      <th>Cluster Labels</th>\n",
       "      <th>neighborhood</th>\n",
       "      <th>1st Most Common Venue</th>\n",
       "      <th>2nd Most Common Venue</th>\n",
       "      <th>3rd Most Common Venue</th>\n",
       "      <th>4th Most Common Venue</th>\n",
       "      <th>5th Most Common Venue</th>\n",
       "      <th>6th Most Common Venue</th>\n",
       "      <th>7th Most Common Venue</th>\n",
       "    </tr>\n",
       "  </thead>\n",
       "  <tbody>\n",
       "    <tr>\n",
       "      <th>0</th>\n",
       "      <td>0</td>\n",
       "      <td>Ahornstr. 32</td>\n",
       "      <td>Sushi Restaurant</td>\n",
       "      <td>Vietnamese Restaurant</td>\n",
       "      <td>Vegetarian / Vegan Restaurant</td>\n",
       "      <td>Ramen Restaurant</td>\n",
       "      <td>Korean Restaurant</td>\n",
       "      <td>Japanese Restaurant</td>\n",
       "      <td>Cocktail Bar</td>\n",
       "    </tr>\n",
       "    <tr>\n",
       "      <th>1</th>\n",
       "      <td>0</td>\n",
       "      <td>Albrechtstr. 131</td>\n",
       "      <td>Sushi Restaurant</td>\n",
       "      <td>Vietnamese Restaurant</td>\n",
       "      <td>Vegetarian / Vegan Restaurant</td>\n",
       "      <td>Ramen Restaurant</td>\n",
       "      <td>Korean Restaurant</td>\n",
       "      <td>Japanese Restaurant</td>\n",
       "      <td>Cocktail Bar</td>\n",
       "    </tr>\n",
       "    <tr>\n",
       "      <th>2</th>\n",
       "      <td>2</td>\n",
       "      <td>Alte Schönhauser Str. 13 (Mulackstr.)</td>\n",
       "      <td>Japanese Restaurant</td>\n",
       "      <td>Vietnamese Restaurant</td>\n",
       "      <td>Vegetarian / Vegan Restaurant</td>\n",
       "      <td>Sushi Restaurant</td>\n",
       "      <td>Ramen Restaurant</td>\n",
       "      <td>Korean Restaurant</td>\n",
       "      <td>Cocktail Bar</td>\n",
       "    </tr>\n",
       "    <tr>\n",
       "      <th>3</th>\n",
       "      <td>2</td>\n",
       "      <td>Alte Schönhauser Str. 7-8</td>\n",
       "      <td>Japanese Restaurant</td>\n",
       "      <td>Vietnamese Restaurant</td>\n",
       "      <td>Vegetarian / Vegan Restaurant</td>\n",
       "      <td>Sushi Restaurant</td>\n",
       "      <td>Ramen Restaurant</td>\n",
       "      <td>Korean Restaurant</td>\n",
       "      <td>Cocktail Bar</td>\n",
       "    </tr>\n",
       "    <tr>\n",
       "      <th>4</th>\n",
       "      <td>2</td>\n",
       "      <td>Bergmannstraße 93</td>\n",
       "      <td>Japanese Restaurant</td>\n",
       "      <td>Vietnamese Restaurant</td>\n",
       "      <td>Vegetarian / Vegan Restaurant</td>\n",
       "      <td>Sushi Restaurant</td>\n",
       "      <td>Ramen Restaurant</td>\n",
       "      <td>Korean Restaurant</td>\n",
       "      <td>Cocktail Bar</td>\n",
       "    </tr>\n",
       "  </tbody>\n",
       "</table>\n",
       "</div>"
      ],
      "text/plain": [
       "   Cluster Labels                           neighborhood  \\\n",
       "0               0                           Ahornstr. 32   \n",
       "1               0                       Albrechtstr. 131   \n",
       "2               2  Alte Schönhauser Str. 13 (Mulackstr.)   \n",
       "3               2              Alte Schönhauser Str. 7-8   \n",
       "4               2                      Bergmannstraße 93   \n",
       "\n",
       "  1st Most Common Venue  2nd Most Common Venue          3rd Most Common Venue  \\\n",
       "0      Sushi Restaurant  Vietnamese Restaurant  Vegetarian / Vegan Restaurant   \n",
       "1      Sushi Restaurant  Vietnamese Restaurant  Vegetarian / Vegan Restaurant   \n",
       "2   Japanese Restaurant  Vietnamese Restaurant  Vegetarian / Vegan Restaurant   \n",
       "3   Japanese Restaurant  Vietnamese Restaurant  Vegetarian / Vegan Restaurant   \n",
       "4   Japanese Restaurant  Vietnamese Restaurant  Vegetarian / Vegan Restaurant   \n",
       "\n",
       "  4th Most Common Venue 5th Most Common Venue 6th Most Common Venue  \\\n",
       "0      Ramen Restaurant     Korean Restaurant   Japanese Restaurant   \n",
       "1      Ramen Restaurant     Korean Restaurant   Japanese Restaurant   \n",
       "2      Sushi Restaurant      Ramen Restaurant     Korean Restaurant   \n",
       "3      Sushi Restaurant      Ramen Restaurant     Korean Restaurant   \n",
       "4      Sushi Restaurant      Ramen Restaurant     Korean Restaurant   \n",
       "\n",
       "  7th Most Common Venue  \n",
       "0          Cocktail Bar  \n",
       "1          Cocktail Bar  \n",
       "2          Cocktail Bar  \n",
       "3          Cocktail Bar  \n",
       "4          Cocktail Bar  "
      ]
     },
     "execution_count": 32,
     "metadata": {},
     "output_type": "execute_result"
    }
   ],
   "source": [
    "neighborhoods_venues_sorted.head()"
   ]
  },
  {
   "cell_type": "code",
   "execution_count": 33,
   "metadata": {},
   "outputs": [
    {
     "data": {
      "text/html": [
       "<div>\n",
       "<style scoped>\n",
       "    .dataframe tbody tr th:only-of-type {\n",
       "        vertical-align: middle;\n",
       "    }\n",
       "\n",
       "    .dataframe tbody tr th {\n",
       "        vertical-align: top;\n",
       "    }\n",
       "\n",
       "    .dataframe thead th {\n",
       "        text-align: right;\n",
       "    }\n",
       "</style>\n",
       "<table border=\"1\" class=\"dataframe\">\n",
       "  <thead>\n",
       "    <tr style=\"text-align: right;\">\n",
       "      <th></th>\n",
       "      <th>id</th>\n",
       "      <th>name</th>\n",
       "      <th>categories</th>\n",
       "      <th>lat</th>\n",
       "      <th>lng</th>\n",
       "      <th>neighborhood</th>\n",
       "    </tr>\n",
       "  </thead>\n",
       "  <tbody>\n",
       "    <tr>\n",
       "      <th>0</th>\n",
       "      <td>55f9a48e498ee737a1893058</td>\n",
       "      <td>Heno Heno</td>\n",
       "      <td>Japanese Restaurant</td>\n",
       "      <td>52.503964</td>\n",
       "      <td>13.315578</td>\n",
       "      <td>Wielandstr. 37</td>\n",
       "    </tr>\n",
       "    <tr>\n",
       "      <th>1</th>\n",
       "      <td>4bbe353b9474c9b63e41d9b6</td>\n",
       "      <td>Kushinoya</td>\n",
       "      <td>Japanese Restaurant</td>\n",
       "      <td>52.505372</td>\n",
       "      <td>13.319982</td>\n",
       "      <td>Bleibtreustr. 6</td>\n",
       "    </tr>\n",
       "    <tr>\n",
       "      <th>2</th>\n",
       "      <td>570b97c4498e2c6e7c5eb991</td>\n",
       "      <td>Smart Deli</td>\n",
       "      <td>Japanese Restaurant</td>\n",
       "      <td>52.528094</td>\n",
       "      <td>13.389060</td>\n",
       "      <td>Novalisstr. 2</td>\n",
       "    </tr>\n",
       "    <tr>\n",
       "      <th>3</th>\n",
       "      <td>57c9e26a498ed1dcbbd0b461</td>\n",
       "      <td>Sticks'n'Sushi</td>\n",
       "      <td>Japanese Restaurant</td>\n",
       "      <td>52.502020</td>\n",
       "      <td>13.365064</td>\n",
       "      <td>Potsdamer Str. 85</td>\n",
       "    </tr>\n",
       "    <tr>\n",
       "      <th>4</th>\n",
       "      <td>4c0fde34ce57c928f7f580d2</td>\n",
       "      <td>Green Tea Café MAMECHA</td>\n",
       "      <td>Japanese Restaurant</td>\n",
       "      <td>52.527284</td>\n",
       "      <td>13.406305</td>\n",
       "      <td>Mulackstr. 33 (Rückerstr.)</td>\n",
       "    </tr>\n",
       "  </tbody>\n",
       "</table>\n",
       "</div>"
      ],
      "text/plain": [
       "                         id                    name           categories  \\\n",
       "0  55f9a48e498ee737a1893058               Heno Heno  Japanese Restaurant   \n",
       "1  4bbe353b9474c9b63e41d9b6               Kushinoya  Japanese Restaurant   \n",
       "2  570b97c4498e2c6e7c5eb991              Smart Deli  Japanese Restaurant   \n",
       "3  57c9e26a498ed1dcbbd0b461          Sticks'n'Sushi  Japanese Restaurant   \n",
       "4  4c0fde34ce57c928f7f580d2  Green Tea Café MAMECHA  Japanese Restaurant   \n",
       "\n",
       "         lat        lng                neighborhood  \n",
       "0  52.503964  13.315578              Wielandstr. 37  \n",
       "1  52.505372  13.319982             Bleibtreustr. 6  \n",
       "2  52.528094  13.389060               Novalisstr. 2  \n",
       "3  52.502020  13.365064           Potsdamer Str. 85  \n",
       "4  52.527284  13.406305  Mulackstr. 33 (Rückerstr.)  "
      ]
     },
     "execution_count": 33,
     "metadata": {},
     "output_type": "execute_result"
    }
   ],
   "source": [
    "df_jc.head()"
   ]
  },
  {
   "cell_type": "code",
   "execution_count": 34,
   "metadata": {},
   "outputs": [
    {
     "data": {
      "text/html": [
       "<div>\n",
       "<style scoped>\n",
       "    .dataframe tbody tr th:only-of-type {\n",
       "        vertical-align: middle;\n",
       "    }\n",
       "\n",
       "    .dataframe tbody tr th {\n",
       "        vertical-align: top;\n",
       "    }\n",
       "\n",
       "    .dataframe thead th {\n",
       "        text-align: right;\n",
       "    }\n",
       "</style>\n",
       "<table border=\"1\" class=\"dataframe\">\n",
       "  <thead>\n",
       "    <tr style=\"text-align: right;\">\n",
       "      <th></th>\n",
       "      <th>id</th>\n",
       "      <th>name</th>\n",
       "      <th>categories</th>\n",
       "      <th>lat</th>\n",
       "      <th>lng</th>\n",
       "      <th>neighborhood</th>\n",
       "      <th>Cluster Labels</th>\n",
       "      <th>1st Most Common Venue</th>\n",
       "      <th>2nd Most Common Venue</th>\n",
       "      <th>3rd Most Common Venue</th>\n",
       "      <th>4th Most Common Venue</th>\n",
       "      <th>5th Most Common Venue</th>\n",
       "      <th>6th Most Common Venue</th>\n",
       "      <th>7th Most Common Venue</th>\n",
       "    </tr>\n",
       "  </thead>\n",
       "  <tbody>\n",
       "    <tr>\n",
       "      <th>0</th>\n",
       "      <td>55f9a48e498ee737a1893058</td>\n",
       "      <td>Heno Heno</td>\n",
       "      <td>Japanese Restaurant</td>\n",
       "      <td>52.503964</td>\n",
       "      <td>13.315578</td>\n",
       "      <td>Wielandstr. 37</td>\n",
       "      <td>2</td>\n",
       "      <td>Japanese Restaurant</td>\n",
       "      <td>Vietnamese Restaurant</td>\n",
       "      <td>Vegetarian / Vegan Restaurant</td>\n",
       "      <td>Sushi Restaurant</td>\n",
       "      <td>Ramen Restaurant</td>\n",
       "      <td>Korean Restaurant</td>\n",
       "      <td>Cocktail Bar</td>\n",
       "    </tr>\n",
       "    <tr>\n",
       "      <th>1</th>\n",
       "      <td>4bbe353b9474c9b63e41d9b6</td>\n",
       "      <td>Kushinoya</td>\n",
       "      <td>Japanese Restaurant</td>\n",
       "      <td>52.505372</td>\n",
       "      <td>13.319982</td>\n",
       "      <td>Bleibtreustr. 6</td>\n",
       "      <td>2</td>\n",
       "      <td>Japanese Restaurant</td>\n",
       "      <td>Vietnamese Restaurant</td>\n",
       "      <td>Vegetarian / Vegan Restaurant</td>\n",
       "      <td>Sushi Restaurant</td>\n",
       "      <td>Ramen Restaurant</td>\n",
       "      <td>Korean Restaurant</td>\n",
       "      <td>Cocktail Bar</td>\n",
       "    </tr>\n",
       "    <tr>\n",
       "      <th>2</th>\n",
       "      <td>570b97c4498e2c6e7c5eb991</td>\n",
       "      <td>Smart Deli</td>\n",
       "      <td>Japanese Restaurant</td>\n",
       "      <td>52.528094</td>\n",
       "      <td>13.389060</td>\n",
       "      <td>Novalisstr. 2</td>\n",
       "      <td>2</td>\n",
       "      <td>Japanese Restaurant</td>\n",
       "      <td>Vietnamese Restaurant</td>\n",
       "      <td>Vegetarian / Vegan Restaurant</td>\n",
       "      <td>Sushi Restaurant</td>\n",
       "      <td>Ramen Restaurant</td>\n",
       "      <td>Korean Restaurant</td>\n",
       "      <td>Cocktail Bar</td>\n",
       "    </tr>\n",
       "    <tr>\n",
       "      <th>3</th>\n",
       "      <td>57c9e26a498ed1dcbbd0b461</td>\n",
       "      <td>Sticks'n'Sushi</td>\n",
       "      <td>Japanese Restaurant</td>\n",
       "      <td>52.502020</td>\n",
       "      <td>13.365064</td>\n",
       "      <td>Potsdamer Str. 85</td>\n",
       "      <td>2</td>\n",
       "      <td>Japanese Restaurant</td>\n",
       "      <td>Vietnamese Restaurant</td>\n",
       "      <td>Vegetarian / Vegan Restaurant</td>\n",
       "      <td>Sushi Restaurant</td>\n",
       "      <td>Ramen Restaurant</td>\n",
       "      <td>Korean Restaurant</td>\n",
       "      <td>Cocktail Bar</td>\n",
       "    </tr>\n",
       "    <tr>\n",
       "      <th>4</th>\n",
       "      <td>4c0fde34ce57c928f7f580d2</td>\n",
       "      <td>Green Tea Café MAMECHA</td>\n",
       "      <td>Japanese Restaurant</td>\n",
       "      <td>52.527284</td>\n",
       "      <td>13.406305</td>\n",
       "      <td>Mulackstr. 33 (Rückerstr.)</td>\n",
       "      <td>2</td>\n",
       "      <td>Japanese Restaurant</td>\n",
       "      <td>Vietnamese Restaurant</td>\n",
       "      <td>Vegetarian / Vegan Restaurant</td>\n",
       "      <td>Sushi Restaurant</td>\n",
       "      <td>Ramen Restaurant</td>\n",
       "      <td>Korean Restaurant</td>\n",
       "      <td>Cocktail Bar</td>\n",
       "    </tr>\n",
       "  </tbody>\n",
       "</table>\n",
       "</div>"
      ],
      "text/plain": [
       "                         id                    name           categories  \\\n",
       "0  55f9a48e498ee737a1893058               Heno Heno  Japanese Restaurant   \n",
       "1  4bbe353b9474c9b63e41d9b6               Kushinoya  Japanese Restaurant   \n",
       "2  570b97c4498e2c6e7c5eb991              Smart Deli  Japanese Restaurant   \n",
       "3  57c9e26a498ed1dcbbd0b461          Sticks'n'Sushi  Japanese Restaurant   \n",
       "4  4c0fde34ce57c928f7f580d2  Green Tea Café MAMECHA  Japanese Restaurant   \n",
       "\n",
       "         lat        lng                neighborhood  Cluster Labels  \\\n",
       "0  52.503964  13.315578              Wielandstr. 37               2   \n",
       "1  52.505372  13.319982             Bleibtreustr. 6               2   \n",
       "2  52.528094  13.389060               Novalisstr. 2               2   \n",
       "3  52.502020  13.365064           Potsdamer Str. 85               2   \n",
       "4  52.527284  13.406305  Mulackstr. 33 (Rückerstr.)               2   \n",
       "\n",
       "  1st Most Common Venue  2nd Most Common Venue          3rd Most Common Venue  \\\n",
       "0   Japanese Restaurant  Vietnamese Restaurant  Vegetarian / Vegan Restaurant   \n",
       "1   Japanese Restaurant  Vietnamese Restaurant  Vegetarian / Vegan Restaurant   \n",
       "2   Japanese Restaurant  Vietnamese Restaurant  Vegetarian / Vegan Restaurant   \n",
       "3   Japanese Restaurant  Vietnamese Restaurant  Vegetarian / Vegan Restaurant   \n",
       "4   Japanese Restaurant  Vietnamese Restaurant  Vegetarian / Vegan Restaurant   \n",
       "\n",
       "  4th Most Common Venue 5th Most Common Venue 6th Most Common Venue  \\\n",
       "0      Sushi Restaurant      Ramen Restaurant     Korean Restaurant   \n",
       "1      Sushi Restaurant      Ramen Restaurant     Korean Restaurant   \n",
       "2      Sushi Restaurant      Ramen Restaurant     Korean Restaurant   \n",
       "3      Sushi Restaurant      Ramen Restaurant     Korean Restaurant   \n",
       "4      Sushi Restaurant      Ramen Restaurant     Korean Restaurant   \n",
       "\n",
       "  7th Most Common Venue  \n",
       "0          Cocktail Bar  \n",
       "1          Cocktail Bar  \n",
       "2          Cocktail Bar  \n",
       "3          Cocktail Bar  \n",
       "4          Cocktail Bar  "
      ]
     },
     "execution_count": 34,
     "metadata": {},
     "output_type": "execute_result"
    }
   ],
   "source": [
    "# add clustering labels\n",
    "#neighborhoods_venues_sorted.insert(0,'Cluster Labels', kmeans.labels_)\n",
    "\n",
    "berlin_merged = df_jc\n",
    "\n",
    "# merge berlin_grouped with berlin_data to add latitude/longitude for each neighborhood\n",
    "berlin_merged = berlin_merged.join(neighborhoods_venues_sorted.set_index('neighborhood'), on='neighborhood')\n",
    "berlin_merged.head() # check the last columns!"
   ]
  },
  {
   "cell_type": "markdown",
   "metadata": {},
   "source": [
    "## 4. Analysis  <a name=\"Analysis\"></a>"
   ]
  },
  {
   "cell_type": "markdown",
   "metadata": {},
   "source": [
    "Now that we applied the **K-mean Clustering**, I will analyze each cluster and create datasets for each of them. "
   ]
  },
  {
   "cell_type": "markdown",
   "metadata": {},
   "source": [
    "### Cluster 0"
   ]
  },
  {
   "cell_type": "code",
   "execution_count": 35,
   "metadata": {},
   "outputs": [
    {
     "data": {
      "text/html": [
       "<div>\n",
       "<style scoped>\n",
       "    .dataframe tbody tr th:only-of-type {\n",
       "        vertical-align: middle;\n",
       "    }\n",
       "\n",
       "    .dataframe tbody tr th {\n",
       "        vertical-align: top;\n",
       "    }\n",
       "\n",
       "    .dataframe thead th {\n",
       "        text-align: right;\n",
       "    }\n",
       "</style>\n",
       "<table border=\"1\" class=\"dataframe\">\n",
       "  <thead>\n",
       "    <tr style=\"text-align: right;\">\n",
       "      <th></th>\n",
       "      <th>id</th>\n",
       "      <th>neighborhood</th>\n",
       "      <th>Cluster Labels</th>\n",
       "      <th>1st Most Common Venue</th>\n",
       "      <th>2nd Most Common Venue</th>\n",
       "      <th>3rd Most Common Venue</th>\n",
       "      <th>4th Most Common Venue</th>\n",
       "      <th>5th Most Common Venue</th>\n",
       "      <th>6th Most Common Venue</th>\n",
       "      <th>7th Most Common Venue</th>\n",
       "    </tr>\n",
       "  </thead>\n",
       "  <tbody>\n",
       "    <tr>\n",
       "      <th>28</th>\n",
       "      <td>4b3ba703f964a5200a7825e3</td>\n",
       "      <td>Kottbusser Damm 102</td>\n",
       "      <td>0</td>\n",
       "      <td>Sushi Restaurant</td>\n",
       "      <td>Vietnamese Restaurant</td>\n",
       "      <td>Vegetarian / Vegan Restaurant</td>\n",
       "      <td>Ramen Restaurant</td>\n",
       "      <td>Korean Restaurant</td>\n",
       "      <td>Japanese Restaurant</td>\n",
       "      <td>Cocktail Bar</td>\n",
       "    </tr>\n",
       "    <tr>\n",
       "      <th>48</th>\n",
       "      <td>4d358f7f2c76a1438bd18fc7</td>\n",
       "      <td>Goethestr. 37-38</td>\n",
       "      <td>0</td>\n",
       "      <td>Sushi Restaurant</td>\n",
       "      <td>Vietnamese Restaurant</td>\n",
       "      <td>Vegetarian / Vegan Restaurant</td>\n",
       "      <td>Ramen Restaurant</td>\n",
       "      <td>Korean Restaurant</td>\n",
       "      <td>Japanese Restaurant</td>\n",
       "      <td>Cocktail Bar</td>\n",
       "    </tr>\n",
       "    <tr>\n",
       "      <th>53</th>\n",
       "      <td>4adcda88f964a520724921e3</td>\n",
       "      <td>Albrechtstr. 131</td>\n",
       "      <td>0</td>\n",
       "      <td>Sushi Restaurant</td>\n",
       "      <td>Vietnamese Restaurant</td>\n",
       "      <td>Vegetarian / Vegan Restaurant</td>\n",
       "      <td>Ramen Restaurant</td>\n",
       "      <td>Korean Restaurant</td>\n",
       "      <td>Japanese Restaurant</td>\n",
       "      <td>Cocktail Bar</td>\n",
       "    </tr>\n",
       "    <tr>\n",
       "      <th>54</th>\n",
       "      <td>5571f00e498e055a7d77700d</td>\n",
       "      <td>Dahlmannstr. 14</td>\n",
       "      <td>0</td>\n",
       "      <td>Sushi Restaurant</td>\n",
       "      <td>Vietnamese Restaurant</td>\n",
       "      <td>Vegetarian / Vegan Restaurant</td>\n",
       "      <td>Ramen Restaurant</td>\n",
       "      <td>Korean Restaurant</td>\n",
       "      <td>Japanese Restaurant</td>\n",
       "      <td>Cocktail Bar</td>\n",
       "    </tr>\n",
       "    <tr>\n",
       "      <th>55</th>\n",
       "      <td>4c84d8ab51ada1cd472a3210</td>\n",
       "      <td>Wilmersdorfer Str. 22 (Thrasoltstr.)</td>\n",
       "      <td>0</td>\n",
       "      <td>Sushi Restaurant</td>\n",
       "      <td>Vietnamese Restaurant</td>\n",
       "      <td>Vegetarian / Vegan Restaurant</td>\n",
       "      <td>Ramen Restaurant</td>\n",
       "      <td>Korean Restaurant</td>\n",
       "      <td>Japanese Restaurant</td>\n",
       "      <td>Cocktail Bar</td>\n",
       "    </tr>\n",
       "  </tbody>\n",
       "</table>\n",
       "</div>"
      ],
      "text/plain": [
       "                          id                          neighborhood  \\\n",
       "28  4b3ba703f964a5200a7825e3                   Kottbusser Damm 102   \n",
       "48  4d358f7f2c76a1438bd18fc7                      Goethestr. 37-38   \n",
       "53  4adcda88f964a520724921e3                      Albrechtstr. 131   \n",
       "54  5571f00e498e055a7d77700d                       Dahlmannstr. 14   \n",
       "55  4c84d8ab51ada1cd472a3210  Wilmersdorfer Str. 22 (Thrasoltstr.)   \n",
       "\n",
       "    Cluster Labels 1st Most Common Venue  2nd Most Common Venue  \\\n",
       "28               0      Sushi Restaurant  Vietnamese Restaurant   \n",
       "48               0      Sushi Restaurant  Vietnamese Restaurant   \n",
       "53               0      Sushi Restaurant  Vietnamese Restaurant   \n",
       "54               0      Sushi Restaurant  Vietnamese Restaurant   \n",
       "55               0      Sushi Restaurant  Vietnamese Restaurant   \n",
       "\n",
       "            3rd Most Common Venue 4th Most Common Venue 5th Most Common Venue  \\\n",
       "28  Vegetarian / Vegan Restaurant      Ramen Restaurant     Korean Restaurant   \n",
       "48  Vegetarian / Vegan Restaurant      Ramen Restaurant     Korean Restaurant   \n",
       "53  Vegetarian / Vegan Restaurant      Ramen Restaurant     Korean Restaurant   \n",
       "54  Vegetarian / Vegan Restaurant      Ramen Restaurant     Korean Restaurant   \n",
       "55  Vegetarian / Vegan Restaurant      Ramen Restaurant     Korean Restaurant   \n",
       "\n",
       "   6th Most Common Venue 7th Most Common Venue  \n",
       "28   Japanese Restaurant          Cocktail Bar  \n",
       "48   Japanese Restaurant          Cocktail Bar  \n",
       "53   Japanese Restaurant          Cocktail Bar  \n",
       "54   Japanese Restaurant          Cocktail Bar  \n",
       "55   Japanese Restaurant          Cocktail Bar  "
      ]
     },
     "execution_count": 35,
     "metadata": {},
     "output_type": "execute_result"
    }
   ],
   "source": [
    "berlin_merged.loc[berlin_merged['Cluster Labels'] == 0, berlin_merged.columns[[0] + list(range(5, berlin_merged.shape[1]))]].head()"
   ]
  },
  {
   "cell_type": "code",
   "execution_count": 36,
   "metadata": {},
   "outputs": [
    {
     "data": {
      "text/plain": [
       "24"
      ]
     },
     "execution_count": 36,
     "metadata": {},
     "output_type": "execute_result"
    }
   ],
   "source": [
    "berlin_merged['categories'].loc[berlin_merged['Cluster Labels'] == 0].count()"
   ]
  },
  {
   "cell_type": "code",
   "execution_count": 37,
   "metadata": {},
   "outputs": [
    {
     "data": {
      "text/html": [
       "<div>\n",
       "<style scoped>\n",
       "    .dataframe tbody tr th:only-of-type {\n",
       "        vertical-align: middle;\n",
       "    }\n",
       "\n",
       "    .dataframe tbody tr th {\n",
       "        vertical-align: top;\n",
       "    }\n",
       "\n",
       "    .dataframe thead th {\n",
       "        text-align: right;\n",
       "    }\n",
       "</style>\n",
       "<table border=\"1\" class=\"dataframe\">\n",
       "  <thead>\n",
       "    <tr style=\"text-align: right;\">\n",
       "      <th></th>\n",
       "      <th>id</th>\n",
       "      <th>neighborhood</th>\n",
       "      <th>Cluster Labels</th>\n",
       "      <th>1st Most Common Venue</th>\n",
       "      <th>2nd Most Common Venue</th>\n",
       "      <th>3rd Most Common Venue</th>\n",
       "      <th>4th Most Common Venue</th>\n",
       "      <th>5th Most Common Venue</th>\n",
       "      <th>6th Most Common Venue</th>\n",
       "      <th>7th Most Common Venue</th>\n",
       "    </tr>\n",
       "  </thead>\n",
       "  <tbody>\n",
       "    <tr>\n",
       "      <th>28</th>\n",
       "      <td>4b3ba703f964a5200a7825e3</td>\n",
       "      <td>Kottbusser Damm 102</td>\n",
       "      <td>0</td>\n",
       "      <td>Sushi Restaurant</td>\n",
       "      <td>Vietnamese Restaurant</td>\n",
       "      <td>Vegetarian / Vegan Restaurant</td>\n",
       "      <td>Ramen Restaurant</td>\n",
       "      <td>Korean Restaurant</td>\n",
       "      <td>Japanese Restaurant</td>\n",
       "      <td>Cocktail Bar</td>\n",
       "    </tr>\n",
       "    <tr>\n",
       "      <th>48</th>\n",
       "      <td>4d358f7f2c76a1438bd18fc7</td>\n",
       "      <td>Goethestr. 37-38</td>\n",
       "      <td>0</td>\n",
       "      <td>Sushi Restaurant</td>\n",
       "      <td>Vietnamese Restaurant</td>\n",
       "      <td>Vegetarian / Vegan Restaurant</td>\n",
       "      <td>Ramen Restaurant</td>\n",
       "      <td>Korean Restaurant</td>\n",
       "      <td>Japanese Restaurant</td>\n",
       "      <td>Cocktail Bar</td>\n",
       "    </tr>\n",
       "    <tr>\n",
       "      <th>53</th>\n",
       "      <td>4adcda88f964a520724921e3</td>\n",
       "      <td>Albrechtstr. 131</td>\n",
       "      <td>0</td>\n",
       "      <td>Sushi Restaurant</td>\n",
       "      <td>Vietnamese Restaurant</td>\n",
       "      <td>Vegetarian / Vegan Restaurant</td>\n",
       "      <td>Ramen Restaurant</td>\n",
       "      <td>Korean Restaurant</td>\n",
       "      <td>Japanese Restaurant</td>\n",
       "      <td>Cocktail Bar</td>\n",
       "    </tr>\n",
       "    <tr>\n",
       "      <th>54</th>\n",
       "      <td>5571f00e498e055a7d77700d</td>\n",
       "      <td>Dahlmannstr. 14</td>\n",
       "      <td>0</td>\n",
       "      <td>Sushi Restaurant</td>\n",
       "      <td>Vietnamese Restaurant</td>\n",
       "      <td>Vegetarian / Vegan Restaurant</td>\n",
       "      <td>Ramen Restaurant</td>\n",
       "      <td>Korean Restaurant</td>\n",
       "      <td>Japanese Restaurant</td>\n",
       "      <td>Cocktail Bar</td>\n",
       "    </tr>\n",
       "    <tr>\n",
       "      <th>55</th>\n",
       "      <td>4c84d8ab51ada1cd472a3210</td>\n",
       "      <td>Wilmersdorfer Str. 22 (Thrasoltstr.)</td>\n",
       "      <td>0</td>\n",
       "      <td>Sushi Restaurant</td>\n",
       "      <td>Vietnamese Restaurant</td>\n",
       "      <td>Vegetarian / Vegan Restaurant</td>\n",
       "      <td>Ramen Restaurant</td>\n",
       "      <td>Korean Restaurant</td>\n",
       "      <td>Japanese Restaurant</td>\n",
       "      <td>Cocktail Bar</td>\n",
       "    </tr>\n",
       "  </tbody>\n",
       "</table>\n",
       "</div>"
      ],
      "text/plain": [
       "                          id                          neighborhood  \\\n",
       "28  4b3ba703f964a5200a7825e3                   Kottbusser Damm 102   \n",
       "48  4d358f7f2c76a1438bd18fc7                      Goethestr. 37-38   \n",
       "53  4adcda88f964a520724921e3                      Albrechtstr. 131   \n",
       "54  5571f00e498e055a7d77700d                       Dahlmannstr. 14   \n",
       "55  4c84d8ab51ada1cd472a3210  Wilmersdorfer Str. 22 (Thrasoltstr.)   \n",
       "\n",
       "    Cluster Labels 1st Most Common Venue  2nd Most Common Venue  \\\n",
       "28               0      Sushi Restaurant  Vietnamese Restaurant   \n",
       "48               0      Sushi Restaurant  Vietnamese Restaurant   \n",
       "53               0      Sushi Restaurant  Vietnamese Restaurant   \n",
       "54               0      Sushi Restaurant  Vietnamese Restaurant   \n",
       "55               0      Sushi Restaurant  Vietnamese Restaurant   \n",
       "\n",
       "            3rd Most Common Venue 4th Most Common Venue 5th Most Common Venue  \\\n",
       "28  Vegetarian / Vegan Restaurant      Ramen Restaurant     Korean Restaurant   \n",
       "48  Vegetarian / Vegan Restaurant      Ramen Restaurant     Korean Restaurant   \n",
       "53  Vegetarian / Vegan Restaurant      Ramen Restaurant     Korean Restaurant   \n",
       "54  Vegetarian / Vegan Restaurant      Ramen Restaurant     Korean Restaurant   \n",
       "55  Vegetarian / Vegan Restaurant      Ramen Restaurant     Korean Restaurant   \n",
       "\n",
       "   6th Most Common Venue 7th Most Common Venue  \n",
       "28   Japanese Restaurant          Cocktail Bar  \n",
       "48   Japanese Restaurant          Cocktail Bar  \n",
       "53   Japanese Restaurant          Cocktail Bar  \n",
       "54   Japanese Restaurant          Cocktail Bar  \n",
       "55   Japanese Restaurant          Cocktail Bar  "
      ]
     },
     "execution_count": 37,
     "metadata": {},
     "output_type": "execute_result"
    }
   ],
   "source": [
    "berlin_merged.loc[berlin_merged['Cluster Labels'] == 0, berlin_merged.columns[[0] + list(range(5, berlin_merged.shape[1]))]].head()"
   ]
  },
  {
   "cell_type": "markdown",
   "metadata": {},
   "source": [
    "### Cluster 1"
   ]
  },
  {
   "cell_type": "code",
   "execution_count": 38,
   "metadata": {},
   "outputs": [
    {
     "data": {
      "text/plain": [
       "7"
      ]
     },
     "execution_count": 38,
     "metadata": {},
     "output_type": "execute_result"
    }
   ],
   "source": [
    "clusterone = berlin_merged.loc[berlin_merged['Cluster Labels'] == 1, berlin_merged.columns[[1] + list(range(5, berlin_merged.shape[1]))]]\n",
    "berlin_merged['categories'].loc[berlin_merged['Cluster Labels'] == 1].count()"
   ]
  },
  {
   "cell_type": "code",
   "execution_count": 39,
   "metadata": {},
   "outputs": [
    {
     "data": {
      "text/html": [
       "<div>\n",
       "<style scoped>\n",
       "    .dataframe tbody tr th:only-of-type {\n",
       "        vertical-align: middle;\n",
       "    }\n",
       "\n",
       "    .dataframe tbody tr th {\n",
       "        vertical-align: top;\n",
       "    }\n",
       "\n",
       "    .dataframe thead th {\n",
       "        text-align: right;\n",
       "    }\n",
       "</style>\n",
       "<table border=\"1\" class=\"dataframe\">\n",
       "  <thead>\n",
       "    <tr style=\"text-align: right;\">\n",
       "      <th></th>\n",
       "      <th>name</th>\n",
       "      <th>neighborhood</th>\n",
       "      <th>Cluster Labels</th>\n",
       "      <th>1st Most Common Venue</th>\n",
       "      <th>2nd Most Common Venue</th>\n",
       "      <th>3rd Most Common Venue</th>\n",
       "      <th>4th Most Common Venue</th>\n",
       "      <th>5th Most Common Venue</th>\n",
       "      <th>6th Most Common Venue</th>\n",
       "      <th>7th Most Common Venue</th>\n",
       "    </tr>\n",
       "  </thead>\n",
       "  <tbody>\n",
       "    <tr>\n",
       "      <th>26</th>\n",
       "      <td>KUCHI Mitte</td>\n",
       "      <td>Gipsstr. 3 (Auguststr.)</td>\n",
       "      <td>1</td>\n",
       "      <td>Ramen Restaurant</td>\n",
       "      <td>Japanese Restaurant</td>\n",
       "      <td>Vietnamese Restaurant</td>\n",
       "      <td>Vegetarian / Vegan Restaurant</td>\n",
       "      <td>Sushi Restaurant</td>\n",
       "      <td>Korean Restaurant</td>\n",
       "      <td>Cocktail Bar</td>\n",
       "    </tr>\n",
       "    <tr>\n",
       "      <th>39</th>\n",
       "      <td>Cocolo Ramen</td>\n",
       "      <td>Gipsstr. 3 (Auguststr.)</td>\n",
       "      <td>1</td>\n",
       "      <td>Ramen Restaurant</td>\n",
       "      <td>Japanese Restaurant</td>\n",
       "      <td>Vietnamese Restaurant</td>\n",
       "      <td>Vegetarian / Vegan Restaurant</td>\n",
       "      <td>Sushi Restaurant</td>\n",
       "      <td>Korean Restaurant</td>\n",
       "      <td>Cocktail Bar</td>\n",
       "    </tr>\n",
       "    <tr>\n",
       "      <th>68</th>\n",
       "      <td>Asia Land</td>\n",
       "      <td>Berlin</td>\n",
       "      <td>1</td>\n",
       "      <td>Chinese Restaurant</td>\n",
       "      <td>Vietnamese Restaurant</td>\n",
       "      <td>Vegetarian / Vegan Restaurant</td>\n",
       "      <td>Sushi Restaurant</td>\n",
       "      <td>Ramen Restaurant</td>\n",
       "      <td>Korean Restaurant</td>\n",
       "      <td>Japanese Restaurant</td>\n",
       "    </tr>\n",
       "    <tr>\n",
       "      <th>72</th>\n",
       "      <td>Café Komine</td>\n",
       "      <td>Welserstr. 13-15 (Geisbeegerstr.)</td>\n",
       "      <td>1</td>\n",
       "      <td>Café</td>\n",
       "      <td>Vietnamese Restaurant</td>\n",
       "      <td>Vegetarian / Vegan Restaurant</td>\n",
       "      <td>Sushi Restaurant</td>\n",
       "      <td>Ramen Restaurant</td>\n",
       "      <td>Korean Restaurant</td>\n",
       "      <td>Japanese Restaurant</td>\n",
       "    </tr>\n",
       "    <tr>\n",
       "      <th>85</th>\n",
       "      <td>Secret Garden Berlin</td>\n",
       "      <td>Wahrschauerstr. 32 (Helsingforser Str.)</td>\n",
       "      <td>1</td>\n",
       "      <td>Vegetarian / Vegan Restaurant</td>\n",
       "      <td>Vietnamese Restaurant</td>\n",
       "      <td>Sushi Restaurant</td>\n",
       "      <td>Ramen Restaurant</td>\n",
       "      <td>Korean Restaurant</td>\n",
       "      <td>Japanese Restaurant</td>\n",
       "      <td>Cocktail Bar</td>\n",
       "    </tr>\n",
       "    <tr>\n",
       "      <th>88</th>\n",
       "      <td>Seoulkitchen Korean BBQ &amp; Sushi</td>\n",
       "      <td>Warschauer Str. 46 (Mühlenstr.)</td>\n",
       "      <td>1</td>\n",
       "      <td>Korean Restaurant</td>\n",
       "      <td>Vietnamese Restaurant</td>\n",
       "      <td>Vegetarian / Vegan Restaurant</td>\n",
       "      <td>Sushi Restaurant</td>\n",
       "      <td>Ramen Restaurant</td>\n",
       "      <td>Japanese Restaurant</td>\n",
       "      <td>Cocktail Bar</td>\n",
       "    </tr>\n",
       "    <tr>\n",
       "      <th>98</th>\n",
       "      <td>Bar Tausend</td>\n",
       "      <td>Schiffbauerdamm 11</td>\n",
       "      <td>1</td>\n",
       "      <td>Cocktail Bar</td>\n",
       "      <td>Vietnamese Restaurant</td>\n",
       "      <td>Vegetarian / Vegan Restaurant</td>\n",
       "      <td>Sushi Restaurant</td>\n",
       "      <td>Ramen Restaurant</td>\n",
       "      <td>Korean Restaurant</td>\n",
       "      <td>Japanese Restaurant</td>\n",
       "    </tr>\n",
       "  </tbody>\n",
       "</table>\n",
       "</div>"
      ],
      "text/plain": [
       "                               name                             neighborhood  \\\n",
       "26                      KUCHI Mitte                  Gipsstr. 3 (Auguststr.)   \n",
       "39                     Cocolo Ramen                  Gipsstr. 3 (Auguststr.)   \n",
       "68                        Asia Land                                   Berlin   \n",
       "72                      Café Komine        Welserstr. 13-15 (Geisbeegerstr.)   \n",
       "85             Secret Garden Berlin  Wahrschauerstr. 32 (Helsingforser Str.)   \n",
       "88  Seoulkitchen Korean BBQ & Sushi          Warschauer Str. 46 (Mühlenstr.)   \n",
       "98                      Bar Tausend                       Schiffbauerdamm 11   \n",
       "\n",
       "    Cluster Labels          1st Most Common Venue  2nd Most Common Venue  \\\n",
       "26               1               Ramen Restaurant    Japanese Restaurant   \n",
       "39               1               Ramen Restaurant    Japanese Restaurant   \n",
       "68               1             Chinese Restaurant  Vietnamese Restaurant   \n",
       "72               1                           Café  Vietnamese Restaurant   \n",
       "85               1  Vegetarian / Vegan Restaurant  Vietnamese Restaurant   \n",
       "88               1              Korean Restaurant  Vietnamese Restaurant   \n",
       "98               1                   Cocktail Bar  Vietnamese Restaurant   \n",
       "\n",
       "            3rd Most Common Venue          4th Most Common Venue  \\\n",
       "26          Vietnamese Restaurant  Vegetarian / Vegan Restaurant   \n",
       "39          Vietnamese Restaurant  Vegetarian / Vegan Restaurant   \n",
       "68  Vegetarian / Vegan Restaurant               Sushi Restaurant   \n",
       "72  Vegetarian / Vegan Restaurant               Sushi Restaurant   \n",
       "85               Sushi Restaurant               Ramen Restaurant   \n",
       "88  Vegetarian / Vegan Restaurant               Sushi Restaurant   \n",
       "98  Vegetarian / Vegan Restaurant               Sushi Restaurant   \n",
       "\n",
       "   5th Most Common Venue 6th Most Common Venue 7th Most Common Venue  \n",
       "26      Sushi Restaurant     Korean Restaurant          Cocktail Bar  \n",
       "39      Sushi Restaurant     Korean Restaurant          Cocktail Bar  \n",
       "68      Ramen Restaurant     Korean Restaurant   Japanese Restaurant  \n",
       "72      Ramen Restaurant     Korean Restaurant   Japanese Restaurant  \n",
       "85     Korean Restaurant   Japanese Restaurant          Cocktail Bar  \n",
       "88      Ramen Restaurant   Japanese Restaurant          Cocktail Bar  \n",
       "98      Ramen Restaurant     Korean Restaurant   Japanese Restaurant  "
      ]
     },
     "execution_count": 39,
     "metadata": {},
     "output_type": "execute_result"
    }
   ],
   "source": [
    "berlin_merged.loc[berlin_merged['Cluster Labels'] == 1, berlin_merged.columns[[1] + list(range(5, berlin_merged.shape[1]))]]"
   ]
  },
  {
   "cell_type": "markdown",
   "metadata": {},
   "source": [
    "### Cluster 2"
   ]
  },
  {
   "cell_type": "code",
   "execution_count": 40,
   "metadata": {},
   "outputs": [],
   "source": [
    "clustertwo = berlin_merged.loc[berlin_merged['Cluster Labels'] == 2, berlin_merged.columns[[1] + list(range(5, berlin_merged.shape[1]))]]"
   ]
  },
  {
   "cell_type": "code",
   "execution_count": 41,
   "metadata": {},
   "outputs": [
    {
     "data": {
      "text/plain": [
       "62"
      ]
     },
     "execution_count": 41,
     "metadata": {},
     "output_type": "execute_result"
    }
   ],
   "source": [
    "berlin_merged['categories'].loc[berlin_merged['Cluster Labels'] == 2].count()"
   ]
  },
  {
   "cell_type": "code",
   "execution_count": 42,
   "metadata": {},
   "outputs": [
    {
     "data": {
      "text/html": [
       "<div>\n",
       "<style scoped>\n",
       "    .dataframe tbody tr th:only-of-type {\n",
       "        vertical-align: middle;\n",
       "    }\n",
       "\n",
       "    .dataframe tbody tr th {\n",
       "        vertical-align: top;\n",
       "    }\n",
       "\n",
       "    .dataframe thead th {\n",
       "        text-align: right;\n",
       "    }\n",
       "</style>\n",
       "<table border=\"1\" class=\"dataframe\">\n",
       "  <thead>\n",
       "    <tr style=\"text-align: right;\">\n",
       "      <th></th>\n",
       "      <th>name</th>\n",
       "      <th>neighborhood</th>\n",
       "      <th>Cluster Labels</th>\n",
       "      <th>1st Most Common Venue</th>\n",
       "      <th>2nd Most Common Venue</th>\n",
       "      <th>3rd Most Common Venue</th>\n",
       "      <th>4th Most Common Venue</th>\n",
       "      <th>5th Most Common Venue</th>\n",
       "      <th>6th Most Common Venue</th>\n",
       "      <th>7th Most Common Venue</th>\n",
       "    </tr>\n",
       "  </thead>\n",
       "  <tbody>\n",
       "    <tr>\n",
       "      <th>0</th>\n",
       "      <td>Heno Heno</td>\n",
       "      <td>Wielandstr. 37</td>\n",
       "      <td>2</td>\n",
       "      <td>Japanese Restaurant</td>\n",
       "      <td>Vietnamese Restaurant</td>\n",
       "      <td>Vegetarian / Vegan Restaurant</td>\n",
       "      <td>Sushi Restaurant</td>\n",
       "      <td>Ramen Restaurant</td>\n",
       "      <td>Korean Restaurant</td>\n",
       "      <td>Cocktail Bar</td>\n",
       "    </tr>\n",
       "    <tr>\n",
       "      <th>1</th>\n",
       "      <td>Kushinoya</td>\n",
       "      <td>Bleibtreustr. 6</td>\n",
       "      <td>2</td>\n",
       "      <td>Japanese Restaurant</td>\n",
       "      <td>Vietnamese Restaurant</td>\n",
       "      <td>Vegetarian / Vegan Restaurant</td>\n",
       "      <td>Sushi Restaurant</td>\n",
       "      <td>Ramen Restaurant</td>\n",
       "      <td>Korean Restaurant</td>\n",
       "      <td>Cocktail Bar</td>\n",
       "    </tr>\n",
       "    <tr>\n",
       "      <th>2</th>\n",
       "      <td>Smart Deli</td>\n",
       "      <td>Novalisstr. 2</td>\n",
       "      <td>2</td>\n",
       "      <td>Japanese Restaurant</td>\n",
       "      <td>Vietnamese Restaurant</td>\n",
       "      <td>Vegetarian / Vegan Restaurant</td>\n",
       "      <td>Sushi Restaurant</td>\n",
       "      <td>Ramen Restaurant</td>\n",
       "      <td>Korean Restaurant</td>\n",
       "      <td>Cocktail Bar</td>\n",
       "    </tr>\n",
       "    <tr>\n",
       "      <th>3</th>\n",
       "      <td>Sticks'n'Sushi</td>\n",
       "      <td>Potsdamer Str. 85</td>\n",
       "      <td>2</td>\n",
       "      <td>Japanese Restaurant</td>\n",
       "      <td>Vietnamese Restaurant</td>\n",
       "      <td>Vegetarian / Vegan Restaurant</td>\n",
       "      <td>Sushi Restaurant</td>\n",
       "      <td>Ramen Restaurant</td>\n",
       "      <td>Korean Restaurant</td>\n",
       "      <td>Cocktail Bar</td>\n",
       "    </tr>\n",
       "    <tr>\n",
       "      <th>4</th>\n",
       "      <td>Green Tea Café MAMECHA</td>\n",
       "      <td>Mulackstr. 33 (Rückerstr.)</td>\n",
       "      <td>2</td>\n",
       "      <td>Japanese Restaurant</td>\n",
       "      <td>Vietnamese Restaurant</td>\n",
       "      <td>Vegetarian / Vegan Restaurant</td>\n",
       "      <td>Sushi Restaurant</td>\n",
       "      <td>Ramen Restaurant</td>\n",
       "      <td>Korean Restaurant</td>\n",
       "      <td>Cocktail Bar</td>\n",
       "    </tr>\n",
       "  </tbody>\n",
       "</table>\n",
       "</div>"
      ],
      "text/plain": [
       "                     name                neighborhood  Cluster Labels  \\\n",
       "0               Heno Heno              Wielandstr. 37               2   \n",
       "1               Kushinoya             Bleibtreustr. 6               2   \n",
       "2              Smart Deli               Novalisstr. 2               2   \n",
       "3          Sticks'n'Sushi           Potsdamer Str. 85               2   \n",
       "4  Green Tea Café MAMECHA  Mulackstr. 33 (Rückerstr.)               2   \n",
       "\n",
       "  1st Most Common Venue  2nd Most Common Venue          3rd Most Common Venue  \\\n",
       "0   Japanese Restaurant  Vietnamese Restaurant  Vegetarian / Vegan Restaurant   \n",
       "1   Japanese Restaurant  Vietnamese Restaurant  Vegetarian / Vegan Restaurant   \n",
       "2   Japanese Restaurant  Vietnamese Restaurant  Vegetarian / Vegan Restaurant   \n",
       "3   Japanese Restaurant  Vietnamese Restaurant  Vegetarian / Vegan Restaurant   \n",
       "4   Japanese Restaurant  Vietnamese Restaurant  Vegetarian / Vegan Restaurant   \n",
       "\n",
       "  4th Most Common Venue 5th Most Common Venue 6th Most Common Venue  \\\n",
       "0      Sushi Restaurant      Ramen Restaurant     Korean Restaurant   \n",
       "1      Sushi Restaurant      Ramen Restaurant     Korean Restaurant   \n",
       "2      Sushi Restaurant      Ramen Restaurant     Korean Restaurant   \n",
       "3      Sushi Restaurant      Ramen Restaurant     Korean Restaurant   \n",
       "4      Sushi Restaurant      Ramen Restaurant     Korean Restaurant   \n",
       "\n",
       "  7th Most Common Venue  \n",
       "0          Cocktail Bar  \n",
       "1          Cocktail Bar  \n",
       "2          Cocktail Bar  \n",
       "3          Cocktail Bar  \n",
       "4          Cocktail Bar  "
      ]
     },
     "execution_count": 42,
     "metadata": {},
     "output_type": "execute_result"
    }
   ],
   "source": [
    "berlin_merged.loc[berlin_merged['Cluster Labels'] == 2, berlin_merged.columns[[1] + list(range(5, berlin_merged.shape[1]))]].head()"
   ]
  },
  {
   "cell_type": "markdown",
   "metadata": {},
   "source": [
    "### Cluster 3"
   ]
  },
  {
   "cell_type": "code",
   "execution_count": 43,
   "metadata": {},
   "outputs": [
    {
     "data": {
      "text/html": [
       "<div>\n",
       "<style scoped>\n",
       "    .dataframe tbody tr th:only-of-type {\n",
       "        vertical-align: middle;\n",
       "    }\n",
       "\n",
       "    .dataframe tbody tr th {\n",
       "        vertical-align: top;\n",
       "    }\n",
       "\n",
       "    .dataframe thead th {\n",
       "        text-align: right;\n",
       "    }\n",
       "</style>\n",
       "<table border=\"1\" class=\"dataframe\">\n",
       "  <thead>\n",
       "    <tr style=\"text-align: right;\">\n",
       "      <th></th>\n",
       "      <th>name</th>\n",
       "      <th>neighborhood</th>\n",
       "      <th>Cluster Labels</th>\n",
       "      <th>1st Most Common Venue</th>\n",
       "      <th>2nd Most Common Venue</th>\n",
       "      <th>3rd Most Common Venue</th>\n",
       "      <th>4th Most Common Venue</th>\n",
       "      <th>5th Most Common Venue</th>\n",
       "      <th>6th Most Common Venue</th>\n",
       "      <th>7th Most Common Venue</th>\n",
       "    </tr>\n",
       "  </thead>\n",
       "  <tbody>\n",
       "    <tr>\n",
       "      <th>27</th>\n",
       "      <td>DUDU</td>\n",
       "      <td>Torstr. 134</td>\n",
       "      <td>3</td>\n",
       "      <td>Vietnamese Restaurant</td>\n",
       "      <td>Vegetarian / Vegan Restaurant</td>\n",
       "      <td>Sushi Restaurant</td>\n",
       "      <td>Ramen Restaurant</td>\n",
       "      <td>Korean Restaurant</td>\n",
       "      <td>Japanese Restaurant</td>\n",
       "      <td>Cocktail Bar</td>\n",
       "    </tr>\n",
       "    <tr>\n",
       "      <th>61</th>\n",
       "      <td>Sy Restaurant</td>\n",
       "      <td>Kantstr. 54</td>\n",
       "      <td>3</td>\n",
       "      <td>Vietnamese Restaurant</td>\n",
       "      <td>Vegetarian / Vegan Restaurant</td>\n",
       "      <td>Sushi Restaurant</td>\n",
       "      <td>Ramen Restaurant</td>\n",
       "      <td>Korean Restaurant</td>\n",
       "      <td>Japanese Restaurant</td>\n",
       "      <td>Cocktail Bar</td>\n",
       "    </tr>\n",
       "    <tr>\n",
       "      <th>69</th>\n",
       "      <td>Mama Cook</td>\n",
       "      <td>Hedemannstraße 10</td>\n",
       "      <td>3</td>\n",
       "      <td>Vietnamese Restaurant</td>\n",
       "      <td>Vegetarian / Vegan Restaurant</td>\n",
       "      <td>Sushi Restaurant</td>\n",
       "      <td>Ramen Restaurant</td>\n",
       "      <td>Korean Restaurant</td>\n",
       "      <td>Japanese Restaurant</td>\n",
       "      <td>Cocktail Bar</td>\n",
       "    </tr>\n",
       "    <tr>\n",
       "      <th>82</th>\n",
       "      <td>Eden Restaurant</td>\n",
       "      <td>Rosenstr. 19 (Rochstr.)</td>\n",
       "      <td>3</td>\n",
       "      <td>Vietnamese Restaurant</td>\n",
       "      <td>Vegetarian / Vegan Restaurant</td>\n",
       "      <td>Sushi Restaurant</td>\n",
       "      <td>Ramen Restaurant</td>\n",
       "      <td>Korean Restaurant</td>\n",
       "      <td>Japanese Restaurant</td>\n",
       "      <td>Cocktail Bar</td>\n",
       "    </tr>\n",
       "    <tr>\n",
       "      <th>90</th>\n",
       "      <td>Minh-Trang</td>\n",
       "      <td>Kantstr. 67 (Kaiser-Friedrich-Str.)</td>\n",
       "      <td>3</td>\n",
       "      <td>Vietnamese Restaurant</td>\n",
       "      <td>Vegetarian / Vegan Restaurant</td>\n",
       "      <td>Sushi Restaurant</td>\n",
       "      <td>Ramen Restaurant</td>\n",
       "      <td>Korean Restaurant</td>\n",
       "      <td>Japanese Restaurant</td>\n",
       "      <td>Cocktail Bar</td>\n",
       "    </tr>\n",
       "  </tbody>\n",
       "</table>\n",
       "</div>"
      ],
      "text/plain": [
       "               name                         neighborhood  Cluster Labels  \\\n",
       "27             DUDU                          Torstr. 134               3   \n",
       "61    Sy Restaurant                          Kantstr. 54               3   \n",
       "69        Mama Cook                    Hedemannstraße 10               3   \n",
       "82  Eden Restaurant              Rosenstr. 19 (Rochstr.)               3   \n",
       "90       Minh-Trang  Kantstr. 67 (Kaiser-Friedrich-Str.)               3   \n",
       "\n",
       "    1st Most Common Venue          2nd Most Common Venue  \\\n",
       "27  Vietnamese Restaurant  Vegetarian / Vegan Restaurant   \n",
       "61  Vietnamese Restaurant  Vegetarian / Vegan Restaurant   \n",
       "69  Vietnamese Restaurant  Vegetarian / Vegan Restaurant   \n",
       "82  Vietnamese Restaurant  Vegetarian / Vegan Restaurant   \n",
       "90  Vietnamese Restaurant  Vegetarian / Vegan Restaurant   \n",
       "\n",
       "   3rd Most Common Venue 4th Most Common Venue 5th Most Common Venue  \\\n",
       "27      Sushi Restaurant      Ramen Restaurant     Korean Restaurant   \n",
       "61      Sushi Restaurant      Ramen Restaurant     Korean Restaurant   \n",
       "69      Sushi Restaurant      Ramen Restaurant     Korean Restaurant   \n",
       "82      Sushi Restaurant      Ramen Restaurant     Korean Restaurant   \n",
       "90      Sushi Restaurant      Ramen Restaurant     Korean Restaurant   \n",
       "\n",
       "   6th Most Common Venue 7th Most Common Venue  \n",
       "27   Japanese Restaurant          Cocktail Bar  \n",
       "61   Japanese Restaurant          Cocktail Bar  \n",
       "69   Japanese Restaurant          Cocktail Bar  \n",
       "82   Japanese Restaurant          Cocktail Bar  \n",
       "90   Japanese Restaurant          Cocktail Bar  "
      ]
     },
     "execution_count": 43,
     "metadata": {},
     "output_type": "execute_result"
    }
   ],
   "source": [
    "berlin_merged.loc[berlin_merged['Cluster Labels'] == 3, berlin_merged.columns[[1] + list(range(5, berlin_merged.shape[1]))]]"
   ]
  },
  {
   "cell_type": "code",
   "execution_count": 44,
   "metadata": {},
   "outputs": [
    {
     "data": {
      "text/plain": [
       "5"
      ]
     },
     "execution_count": 44,
     "metadata": {},
     "output_type": "execute_result"
    }
   ],
   "source": [
    "berlin_merged['categories'].loc[berlin_merged['Cluster Labels'] == 3].count()"
   ]
  },
  {
   "cell_type": "code",
   "execution_count": 45,
   "metadata": {},
   "outputs": [
    {
     "data": {
      "text/html": [
       "<div>\n",
       "<style scoped>\n",
       "    .dataframe tbody tr th:only-of-type {\n",
       "        vertical-align: middle;\n",
       "    }\n",
       "\n",
       "    .dataframe tbody tr th {\n",
       "        vertical-align: top;\n",
       "    }\n",
       "\n",
       "    .dataframe thead th {\n",
       "        text-align: right;\n",
       "    }\n",
       "</style>\n",
       "<table border=\"1\" class=\"dataframe\">\n",
       "  <thead>\n",
       "    <tr style=\"text-align: right;\">\n",
       "      <th></th>\n",
       "      <th>name</th>\n",
       "      <th>neighborhood</th>\n",
       "      <th>Cluster Labels</th>\n",
       "      <th>1st Most Common Venue</th>\n",
       "      <th>2nd Most Common Venue</th>\n",
       "      <th>3rd Most Common Venue</th>\n",
       "      <th>4th Most Common Venue</th>\n",
       "      <th>5th Most Common Venue</th>\n",
       "      <th>6th Most Common Venue</th>\n",
       "      <th>7th Most Common Venue</th>\n",
       "    </tr>\n",
       "  </thead>\n",
       "  <tbody>\n",
       "    <tr>\n",
       "      <th>27</th>\n",
       "      <td>DUDU</td>\n",
       "      <td>Torstr. 134</td>\n",
       "      <td>3</td>\n",
       "      <td>Vietnamese Restaurant</td>\n",
       "      <td>Vegetarian / Vegan Restaurant</td>\n",
       "      <td>Sushi Restaurant</td>\n",
       "      <td>Ramen Restaurant</td>\n",
       "      <td>Korean Restaurant</td>\n",
       "      <td>Japanese Restaurant</td>\n",
       "      <td>Cocktail Bar</td>\n",
       "    </tr>\n",
       "    <tr>\n",
       "      <th>61</th>\n",
       "      <td>Sy Restaurant</td>\n",
       "      <td>Kantstr. 54</td>\n",
       "      <td>3</td>\n",
       "      <td>Vietnamese Restaurant</td>\n",
       "      <td>Vegetarian / Vegan Restaurant</td>\n",
       "      <td>Sushi Restaurant</td>\n",
       "      <td>Ramen Restaurant</td>\n",
       "      <td>Korean Restaurant</td>\n",
       "      <td>Japanese Restaurant</td>\n",
       "      <td>Cocktail Bar</td>\n",
       "    </tr>\n",
       "    <tr>\n",
       "      <th>69</th>\n",
       "      <td>Mama Cook</td>\n",
       "      <td>Hedemannstraße 10</td>\n",
       "      <td>3</td>\n",
       "      <td>Vietnamese Restaurant</td>\n",
       "      <td>Vegetarian / Vegan Restaurant</td>\n",
       "      <td>Sushi Restaurant</td>\n",
       "      <td>Ramen Restaurant</td>\n",
       "      <td>Korean Restaurant</td>\n",
       "      <td>Japanese Restaurant</td>\n",
       "      <td>Cocktail Bar</td>\n",
       "    </tr>\n",
       "    <tr>\n",
       "      <th>82</th>\n",
       "      <td>Eden Restaurant</td>\n",
       "      <td>Rosenstr. 19 (Rochstr.)</td>\n",
       "      <td>3</td>\n",
       "      <td>Vietnamese Restaurant</td>\n",
       "      <td>Vegetarian / Vegan Restaurant</td>\n",
       "      <td>Sushi Restaurant</td>\n",
       "      <td>Ramen Restaurant</td>\n",
       "      <td>Korean Restaurant</td>\n",
       "      <td>Japanese Restaurant</td>\n",
       "      <td>Cocktail Bar</td>\n",
       "    </tr>\n",
       "    <tr>\n",
       "      <th>90</th>\n",
       "      <td>Minh-Trang</td>\n",
       "      <td>Kantstr. 67 (Kaiser-Friedrich-Str.)</td>\n",
       "      <td>3</td>\n",
       "      <td>Vietnamese Restaurant</td>\n",
       "      <td>Vegetarian / Vegan Restaurant</td>\n",
       "      <td>Sushi Restaurant</td>\n",
       "      <td>Ramen Restaurant</td>\n",
       "      <td>Korean Restaurant</td>\n",
       "      <td>Japanese Restaurant</td>\n",
       "      <td>Cocktail Bar</td>\n",
       "    </tr>\n",
       "  </tbody>\n",
       "</table>\n",
       "</div>"
      ],
      "text/plain": [
       "               name                         neighborhood  Cluster Labels  \\\n",
       "27             DUDU                          Torstr. 134               3   \n",
       "61    Sy Restaurant                          Kantstr. 54               3   \n",
       "69        Mama Cook                    Hedemannstraße 10               3   \n",
       "82  Eden Restaurant              Rosenstr. 19 (Rochstr.)               3   \n",
       "90       Minh-Trang  Kantstr. 67 (Kaiser-Friedrich-Str.)               3   \n",
       "\n",
       "    1st Most Common Venue          2nd Most Common Venue  \\\n",
       "27  Vietnamese Restaurant  Vegetarian / Vegan Restaurant   \n",
       "61  Vietnamese Restaurant  Vegetarian / Vegan Restaurant   \n",
       "69  Vietnamese Restaurant  Vegetarian / Vegan Restaurant   \n",
       "82  Vietnamese Restaurant  Vegetarian / Vegan Restaurant   \n",
       "90  Vietnamese Restaurant  Vegetarian / Vegan Restaurant   \n",
       "\n",
       "   3rd Most Common Venue 4th Most Common Venue 5th Most Common Venue  \\\n",
       "27      Sushi Restaurant      Ramen Restaurant     Korean Restaurant   \n",
       "61      Sushi Restaurant      Ramen Restaurant     Korean Restaurant   \n",
       "69      Sushi Restaurant      Ramen Restaurant     Korean Restaurant   \n",
       "82      Sushi Restaurant      Ramen Restaurant     Korean Restaurant   \n",
       "90      Sushi Restaurant      Ramen Restaurant     Korean Restaurant   \n",
       "\n",
       "   6th Most Common Venue 7th Most Common Venue  \n",
       "27   Japanese Restaurant          Cocktail Bar  \n",
       "61   Japanese Restaurant          Cocktail Bar  \n",
       "69   Japanese Restaurant          Cocktail Bar  \n",
       "82   Japanese Restaurant          Cocktail Bar  \n",
       "90   Japanese Restaurant          Cocktail Bar  "
      ]
     },
     "execution_count": 45,
     "metadata": {},
     "output_type": "execute_result"
    }
   ],
   "source": [
    "berlin_merged.loc[berlin_merged['Cluster Labels'] == 3, berlin_merged.columns[[1] + list(range(5, berlin_merged.shape[1]))]]"
   ]
  },
  {
   "cell_type": "markdown",
   "metadata": {},
   "source": [
    "### Cluster 4"
   ]
  },
  {
   "cell_type": "code",
   "execution_count": 46,
   "metadata": {},
   "outputs": [
    {
     "data": {
      "text/html": [
       "<div>\n",
       "<style scoped>\n",
       "    .dataframe tbody tr th:only-of-type {\n",
       "        vertical-align: middle;\n",
       "    }\n",
       "\n",
       "    .dataframe tbody tr th {\n",
       "        vertical-align: top;\n",
       "    }\n",
       "\n",
       "    .dataframe thead th {\n",
       "        text-align: right;\n",
       "    }\n",
       "</style>\n",
       "<table border=\"1\" class=\"dataframe\">\n",
       "  <thead>\n",
       "    <tr style=\"text-align: right;\">\n",
       "      <th></th>\n",
       "      <th>name</th>\n",
       "      <th>neighborhood</th>\n",
       "      <th>Cluster Labels</th>\n",
       "      <th>1st Most Common Venue</th>\n",
       "      <th>2nd Most Common Venue</th>\n",
       "      <th>3rd Most Common Venue</th>\n",
       "      <th>4th Most Common Venue</th>\n",
       "      <th>5th Most Common Venue</th>\n",
       "      <th>6th Most Common Venue</th>\n",
       "      <th>7th Most Common Venue</th>\n",
       "    </tr>\n",
       "  </thead>\n",
       "  <tbody>\n",
       "    <tr>\n",
       "      <th>44</th>\n",
       "      <td>893 Ryōtei</td>\n",
       "      <td>Kantstr. 135</td>\n",
       "      <td>4</td>\n",
       "      <td>Asian Restaurant</td>\n",
       "      <td>Vietnamese Restaurant</td>\n",
       "      <td>Vegetarian / Vegan Restaurant</td>\n",
       "      <td>Sushi Restaurant</td>\n",
       "      <td>Ramen Restaurant</td>\n",
       "      <td>Korean Restaurant</td>\n",
       "      <td>Japanese Restaurant</td>\n",
       "    </tr>\n",
       "    <tr>\n",
       "      <th>83</th>\n",
       "      <td>rice &amp; more</td>\n",
       "      <td>Großbeerenstr. 51</td>\n",
       "      <td>4</td>\n",
       "      <td>Asian Restaurant</td>\n",
       "      <td>Vietnamese Restaurant</td>\n",
       "      <td>Vegetarian / Vegan Restaurant</td>\n",
       "      <td>Sushi Restaurant</td>\n",
       "      <td>Ramen Restaurant</td>\n",
       "      <td>Korean Restaurant</td>\n",
       "      <td>Japanese Restaurant</td>\n",
       "    </tr>\n",
       "  </tbody>\n",
       "</table>\n",
       "</div>"
      ],
      "text/plain": [
       "           name       neighborhood  Cluster Labels 1st Most Common Venue  \\\n",
       "44   893 Ryōtei       Kantstr. 135               4      Asian Restaurant   \n",
       "83  rice & more  Großbeerenstr. 51               4      Asian Restaurant   \n",
       "\n",
       "    2nd Most Common Venue          3rd Most Common Venue  \\\n",
       "44  Vietnamese Restaurant  Vegetarian / Vegan Restaurant   \n",
       "83  Vietnamese Restaurant  Vegetarian / Vegan Restaurant   \n",
       "\n",
       "   4th Most Common Venue 5th Most Common Venue 6th Most Common Venue  \\\n",
       "44      Sushi Restaurant      Ramen Restaurant     Korean Restaurant   \n",
       "83      Sushi Restaurant      Ramen Restaurant     Korean Restaurant   \n",
       "\n",
       "   7th Most Common Venue  \n",
       "44   Japanese Restaurant  \n",
       "83   Japanese Restaurant  "
      ]
     },
     "execution_count": 46,
     "metadata": {},
     "output_type": "execute_result"
    }
   ],
   "source": [
    "berlin_merged.loc[berlin_merged['Cluster Labels'] == 4, berlin_merged.columns[[1] + list(range(5, berlin_merged.shape[1]))]]"
   ]
  },
  {
   "cell_type": "code",
   "execution_count": 47,
   "metadata": {},
   "outputs": [
    {
     "data": {
      "text/plain": [
       "2"
      ]
     },
     "execution_count": 47,
     "metadata": {},
     "output_type": "execute_result"
    }
   ],
   "source": [
    "berlin_merged['categories'].loc[berlin_merged['Cluster Labels'] == 4].count()"
   ]
  },
  {
   "cell_type": "code",
   "execution_count": 48,
   "metadata": {},
   "outputs": [
    {
     "data": {
      "text/html": [
       "<div>\n",
       "<style scoped>\n",
       "    .dataframe tbody tr th:only-of-type {\n",
       "        vertical-align: middle;\n",
       "    }\n",
       "\n",
       "    .dataframe tbody tr th {\n",
       "        vertical-align: top;\n",
       "    }\n",
       "\n",
       "    .dataframe thead th {\n",
       "        text-align: right;\n",
       "    }\n",
       "</style>\n",
       "<table border=\"1\" class=\"dataframe\">\n",
       "  <thead>\n",
       "    <tr style=\"text-align: right;\">\n",
       "      <th></th>\n",
       "      <th>name</th>\n",
       "      <th>neighborhood</th>\n",
       "      <th>Cluster Labels</th>\n",
       "      <th>1st Most Common Venue</th>\n",
       "      <th>2nd Most Common Venue</th>\n",
       "      <th>3rd Most Common Venue</th>\n",
       "      <th>4th Most Common Venue</th>\n",
       "      <th>5th Most Common Venue</th>\n",
       "      <th>6th Most Common Venue</th>\n",
       "      <th>7th Most Common Venue</th>\n",
       "    </tr>\n",
       "  </thead>\n",
       "  <tbody>\n",
       "    <tr>\n",
       "      <th>44</th>\n",
       "      <td>893 Ryōtei</td>\n",
       "      <td>Kantstr. 135</td>\n",
       "      <td>4</td>\n",
       "      <td>Asian Restaurant</td>\n",
       "      <td>Vietnamese Restaurant</td>\n",
       "      <td>Vegetarian / Vegan Restaurant</td>\n",
       "      <td>Sushi Restaurant</td>\n",
       "      <td>Ramen Restaurant</td>\n",
       "      <td>Korean Restaurant</td>\n",
       "      <td>Japanese Restaurant</td>\n",
       "    </tr>\n",
       "    <tr>\n",
       "      <th>83</th>\n",
       "      <td>rice &amp; more</td>\n",
       "      <td>Großbeerenstr. 51</td>\n",
       "      <td>4</td>\n",
       "      <td>Asian Restaurant</td>\n",
       "      <td>Vietnamese Restaurant</td>\n",
       "      <td>Vegetarian / Vegan Restaurant</td>\n",
       "      <td>Sushi Restaurant</td>\n",
       "      <td>Ramen Restaurant</td>\n",
       "      <td>Korean Restaurant</td>\n",
       "      <td>Japanese Restaurant</td>\n",
       "    </tr>\n",
       "  </tbody>\n",
       "</table>\n",
       "</div>"
      ],
      "text/plain": [
       "           name       neighborhood  Cluster Labels 1st Most Common Venue  \\\n",
       "44   893 Ryōtei       Kantstr. 135               4      Asian Restaurant   \n",
       "83  rice & more  Großbeerenstr. 51               4      Asian Restaurant   \n",
       "\n",
       "    2nd Most Common Venue          3rd Most Common Venue  \\\n",
       "44  Vietnamese Restaurant  Vegetarian / Vegan Restaurant   \n",
       "83  Vietnamese Restaurant  Vegetarian / Vegan Restaurant   \n",
       "\n",
       "   4th Most Common Venue 5th Most Common Venue 6th Most Common Venue  \\\n",
       "44      Sushi Restaurant      Ramen Restaurant     Korean Restaurant   \n",
       "83      Sushi Restaurant      Ramen Restaurant     Korean Restaurant   \n",
       "\n",
       "   7th Most Common Venue  \n",
       "44   Japanese Restaurant  \n",
       "83   Japanese Restaurant  "
      ]
     },
     "execution_count": 48,
     "metadata": {},
     "output_type": "execute_result"
    }
   ],
   "source": [
    "berlin_merged.loc[berlin_merged['Cluster Labels'] == 4, berlin_merged.columns[[1] + list(range(5, berlin_merged.shape[1]))]]"
   ]
  },
  {
   "cell_type": "markdown",
   "metadata": {},
   "source": [
    "Here we will calculate the score of the available places to rent to the Japanese restaurants that already exists and to the public transportation."
   ]
  },
  {
   "cell_type": "code",
   "execution_count": 49,
   "metadata": {},
   "outputs": [],
   "source": [
    "#!pip install shapely\n",
    "import shapely.geometry\n",
    "\n",
    "#!pip install pyproj\n",
    "import pyproj\n",
    "\n",
    "import math\n",
    "\n",
    "def lonlat_to_xy(lon, lat):\n",
    "    proj_latlon = pyproj.Proj(proj='latlong',datum='WGS84')\n",
    "    proj_xy = pyproj.Proj(proj=\"utm\", zone=33, datum='WGS84')\n",
    "    xy = pyproj.transform(proj_latlon, proj_xy, lon, lat)\n",
    "    return xy[0], xy[1]\n",
    "\n",
    "def xy_to_lonlat(x, y):\n",
    "    proj_latlon = pyproj.Proj(proj='latlong',datum='WGS84')\n",
    "    proj_xy = pyproj.Proj(proj=\"utm\", zone=33, datum='WGS84')\n",
    "    lonlat = pyproj.transform(proj_xy, proj_latlon, x, y)\n",
    "    return lonlat[0], lonlat[1]\n",
    "\n",
    "def calc_xy_distance(x1, y1, x2, y2):\n",
    "    dx = x2 - x1\n",
    "    dy = y2 - y1\n",
    "    return math.sqrt(dx*dx + dy*dy)"
   ]
  },
  {
   "cell_type": "code",
   "execution_count": 50,
   "metadata": {},
   "outputs": [],
   "source": [
    "X = list(berlin_merged['lat']);\n",
    "Y = list(berlin_merged['lng']);\n",
    "x, y = lonlat_to_xy(X, Y)\n",
    "japanese_list = [(x[n],y[n]) for n in range(len(x))]\n",
    "japanese_list;"
   ]
  },
  {
   "cell_type": "code",
   "execution_count": 51,
   "metadata": {},
   "outputs": [],
   "source": [
    "X1 = list(df_r['Latitude']);\n",
    "Y1 = list(df_r['Longitude']);\n",
    "x1, y1 = lonlat_to_xy(X1, Y1)\n",
    "rent_list = [(x1[n],y1[n]) for n in range(len(x1))]\n",
    "rent_list;"
   ]
  },
  {
   "cell_type": "code",
   "execution_count": 52,
   "metadata": {},
   "outputs": [],
   "source": [
    "X2 = list(df_s['lat']);\n",
    "Y2 = list(df_s['lng']);\n",
    "x2, y2 = lonlat_to_xy(X2, Y2)\n",
    "sbahn_list = [(x2[n],y2[n]) for n in range(len(x2))]\n",
    "sbahn_list;"
   ]
  },
  {
   "cell_type": "code",
   "execution_count": 53,
   "metadata": {},
   "outputs": [],
   "source": [
    "X3 = list(df_u['lat']);\n",
    "Y3 = list(df_u['lng']);\n",
    "x3, y3 = lonlat_to_xy(X3, Y3)\n",
    "ubahn_list = [(x3[n],y3[n]) for n in range(len(x3))]\n",
    "ubahn_list;"
   ]
  },
  {
   "cell_type": "code",
   "execution_count": 54,
   "metadata": {},
   "outputs": [],
   "source": [
    "optimal_list=[]"
   ]
  },
  {
   "cell_type": "code",
   "execution_count": 55,
   "metadata": {},
   "outputs": [],
   "source": [
    "for place_to_rent in rent_list:\n",
    "    distances_to_restaurants = [calc_xy_distance(place_to_rent[0], place_to_rent[1], jap[0], jap[1]) for jap in japanese_list]\n",
    "    closest_restaurant = min(distances_to_restaurants)\n",
    "    \n",
    "    distances_to_transport = [calc_xy_distance(place_to_rent[0], place_to_rent[1], transp[0], transp[1]) for transp in sbahn_list]\n",
    "    closest_transport = min(distances_to_transport)\n",
    "    \n",
    "    optimal_list.append((closest_transport)+abs(closest_restaurant - 300))"
   ]
  },
  {
   "cell_type": "code",
   "execution_count": 56,
   "metadata": {},
   "outputs": [],
   "source": [
    "optimal_list;"
   ]
  },
  {
   "cell_type": "code",
   "execution_count": 57,
   "metadata": {},
   "outputs": [],
   "source": [
    "df_optimal=pd.DataFrame(optimal_list,columns=['Score'])"
   ]
  },
  {
   "cell_type": "code",
   "execution_count": 58,
   "metadata": {},
   "outputs": [
    {
     "data": {
      "text/plain": [
       "0    20580.636132\n",
       "1     1491.643158\n",
       "2     2027.250023\n",
       "3     1353.984241\n",
       "4     1390.663694\n",
       "Name: Score, dtype: float64"
      ]
     },
     "execution_count": 58,
     "metadata": {},
     "output_type": "execute_result"
    }
   ],
   "source": [
    "df_optimal['Score'].head()"
   ]
  },
  {
   "cell_type": "code",
   "execution_count": 59,
   "metadata": {},
   "outputs": [
    {
     "data": {
      "text/html": [
       "<div>\n",
       "<style scoped>\n",
       "    .dataframe tbody tr th:only-of-type {\n",
       "        vertical-align: middle;\n",
       "    }\n",
       "\n",
       "    .dataframe tbody tr th {\n",
       "        vertical-align: top;\n",
       "    }\n",
       "\n",
       "    .dataframe thead th {\n",
       "        text-align: right;\n",
       "    }\n",
       "</style>\n",
       "<table border=\"1\" class=\"dataframe\">\n",
       "  <thead>\n",
       "    <tr style=\"text-align: right;\">\n",
       "      <th></th>\n",
       "      <th>Postcode</th>\n",
       "      <th>Price</th>\n",
       "      <th>Latitude</th>\n",
       "      <th>Longitude</th>\n",
       "      <th>Score</th>\n",
       "    </tr>\n",
       "  </thead>\n",
       "  <tbody>\n",
       "    <tr>\n",
       "      <th>0</th>\n",
       "      <td>12683</td>\n",
       "      <td>2900.00</td>\n",
       "      <td>52.503731</td>\n",
       "      <td>13.559540</td>\n",
       "      <td>20580.636132</td>\n",
       "    </tr>\n",
       "    <tr>\n",
       "      <th>1</th>\n",
       "      <td>10247</td>\n",
       "      <td>2400.00</td>\n",
       "      <td>52.516340</td>\n",
       "      <td>13.463990</td>\n",
       "      <td>1491.643158</td>\n",
       "    </tr>\n",
       "    <tr>\n",
       "      <th>2</th>\n",
       "      <td>10777</td>\n",
       "      <td>1142.36</td>\n",
       "      <td>52.497685</td>\n",
       "      <td>13.342285</td>\n",
       "      <td>2027.250023</td>\n",
       "    </tr>\n",
       "    <tr>\n",
       "      <th>3</th>\n",
       "      <td>10713</td>\n",
       "      <td>3269.00</td>\n",
       "      <td>52.485240</td>\n",
       "      <td>13.311870</td>\n",
       "      <td>1353.984241</td>\n",
       "    </tr>\n",
       "    <tr>\n",
       "      <th>4</th>\n",
       "      <td>10719</td>\n",
       "      <td>5900.00</td>\n",
       "      <td>52.498245</td>\n",
       "      <td>13.327140</td>\n",
       "      <td>1390.663694</td>\n",
       "    </tr>\n",
       "  </tbody>\n",
       "</table>\n",
       "</div>"
      ],
      "text/plain": [
       "   Postcode    Price   Latitude  Longitude         Score\n",
       "0     12683  2900.00  52.503731  13.559540  20580.636132\n",
       "1     10247  2400.00  52.516340  13.463990   1491.643158\n",
       "2     10777  1142.36  52.497685  13.342285   2027.250023\n",
       "3     10713  3269.00  52.485240  13.311870   1353.984241\n",
       "4     10719  5900.00  52.498245  13.327140   1390.663694"
      ]
     },
     "execution_count": 59,
     "metadata": {},
     "output_type": "execute_result"
    }
   ],
   "source": [
    "df_r['Score'] = df_optimal['Score']\n",
    "df_r.head()"
   ]
  },
  {
   "cell_type": "code",
   "execution_count": 60,
   "metadata": {},
   "outputs": [],
   "source": [
    "df_address = pd.DataFrame({'Postcode': [12683, 10247, 10777, 10713, 10719, 12359, 12057, 10785, 12043, 13595, 12053, 10435, 10119, 10245, 13597, 12347, 10115, 10717, 13585, 12057, 16727],'Address': ['Wulkower Straße 10, Biesdorf', 'Silvio-Meier-Straße 8, Friedrichshain', 'Welserstraße 14D, Schöneberg', 'Barstraße, Wilmersdorf', 'Fasanenplatz, Wilmersdorf', 'Malchiner Straße 55, Britz', 'Sonnenallee 289, Neukölln', 'Stauffenbergstraße 1, Tiergarten', 'Donaustraße 94, Neukölln', 'Heerstraße 243, Pichelsdorf', 'Morusstraße 18A, Neukölln', 'Choriner Straße 49, Prenzlauer Berg', 'Zehdenicker Straße 21, Mitte', 'Corinthstraße 7, Friedrichshain', 'Kolonie Tiefwerder Brücke 1, Wilhelmstadt', 'Alpenhöhe (43 - 47a), Britz', 'Zinnowitzer Straße 2, Mitte', 'Trautenaustraße 14, Wilmersdorf', 'Neumeisterstraße 5, Neustadt', 'Sonnenallee 289, Neukölln', 'Ebertstraße, Mitte']})"
   ]
  },
  {
   "cell_type": "code",
   "execution_count": 61,
   "metadata": {},
   "outputs": [
    {
     "data": {
      "text/html": [
       "<div>\n",
       "<style scoped>\n",
       "    .dataframe tbody tr th:only-of-type {\n",
       "        vertical-align: middle;\n",
       "    }\n",
       "\n",
       "    .dataframe tbody tr th {\n",
       "        vertical-align: top;\n",
       "    }\n",
       "\n",
       "    .dataframe thead th {\n",
       "        text-align: right;\n",
       "    }\n",
       "</style>\n",
       "<table border=\"1\" class=\"dataframe\">\n",
       "  <thead>\n",
       "    <tr style=\"text-align: right;\">\n",
       "      <th></th>\n",
       "      <th>Postcode</th>\n",
       "      <th>Address</th>\n",
       "    </tr>\n",
       "  </thead>\n",
       "  <tbody>\n",
       "    <tr>\n",
       "      <th>0</th>\n",
       "      <td>12683</td>\n",
       "      <td>Wulkower Straße 10, Biesdorf</td>\n",
       "    </tr>\n",
       "    <tr>\n",
       "      <th>1</th>\n",
       "      <td>10247</td>\n",
       "      <td>Silvio-Meier-Straße 8, Friedrichshain</td>\n",
       "    </tr>\n",
       "    <tr>\n",
       "      <th>2</th>\n",
       "      <td>10777</td>\n",
       "      <td>Welserstraße 14D, Schöneberg</td>\n",
       "    </tr>\n",
       "    <tr>\n",
       "      <th>3</th>\n",
       "      <td>10713</td>\n",
       "      <td>Barstraße, Wilmersdorf</td>\n",
       "    </tr>\n",
       "    <tr>\n",
       "      <th>4</th>\n",
       "      <td>10719</td>\n",
       "      <td>Fasanenplatz, Wilmersdorf</td>\n",
       "    </tr>\n",
       "    <tr>\n",
       "      <th>5</th>\n",
       "      <td>12359</td>\n",
       "      <td>Malchiner Straße 55, Britz</td>\n",
       "    </tr>\n",
       "    <tr>\n",
       "      <th>6</th>\n",
       "      <td>12057</td>\n",
       "      <td>Sonnenallee 289, Neukölln</td>\n",
       "    </tr>\n",
       "    <tr>\n",
       "      <th>7</th>\n",
       "      <td>10785</td>\n",
       "      <td>Stauffenbergstraße 1, Tiergarten</td>\n",
       "    </tr>\n",
       "    <tr>\n",
       "      <th>8</th>\n",
       "      <td>12043</td>\n",
       "      <td>Donaustraße 94, Neukölln</td>\n",
       "    </tr>\n",
       "    <tr>\n",
       "      <th>9</th>\n",
       "      <td>13595</td>\n",
       "      <td>Heerstraße 243, Pichelsdorf</td>\n",
       "    </tr>\n",
       "    <tr>\n",
       "      <th>10</th>\n",
       "      <td>12053</td>\n",
       "      <td>Morusstraße 18A, Neukölln</td>\n",
       "    </tr>\n",
       "    <tr>\n",
       "      <th>11</th>\n",
       "      <td>10435</td>\n",
       "      <td>Choriner Straße 49, Prenzlauer Berg</td>\n",
       "    </tr>\n",
       "    <tr>\n",
       "      <th>12</th>\n",
       "      <td>10119</td>\n",
       "      <td>Zehdenicker Straße 21, Mitte</td>\n",
       "    </tr>\n",
       "    <tr>\n",
       "      <th>13</th>\n",
       "      <td>10245</td>\n",
       "      <td>Corinthstraße 7, Friedrichshain</td>\n",
       "    </tr>\n",
       "    <tr>\n",
       "      <th>14</th>\n",
       "      <td>13597</td>\n",
       "      <td>Kolonie Tiefwerder Brücke 1, Wilhelmstadt</td>\n",
       "    </tr>\n",
       "    <tr>\n",
       "      <th>15</th>\n",
       "      <td>12347</td>\n",
       "      <td>Alpenhöhe (43 - 47a), Britz</td>\n",
       "    </tr>\n",
       "    <tr>\n",
       "      <th>16</th>\n",
       "      <td>10115</td>\n",
       "      <td>Zinnowitzer Straße 2, Mitte</td>\n",
       "    </tr>\n",
       "    <tr>\n",
       "      <th>17</th>\n",
       "      <td>10717</td>\n",
       "      <td>Trautenaustraße 14, Wilmersdorf</td>\n",
       "    </tr>\n",
       "    <tr>\n",
       "      <th>18</th>\n",
       "      <td>13585</td>\n",
       "      <td>Neumeisterstraße 5, Neustadt</td>\n",
       "    </tr>\n",
       "    <tr>\n",
       "      <th>19</th>\n",
       "      <td>12057</td>\n",
       "      <td>Sonnenallee 289, Neukölln</td>\n",
       "    </tr>\n",
       "    <tr>\n",
       "      <th>20</th>\n",
       "      <td>16727</td>\n",
       "      <td>Ebertstraße, Mitte</td>\n",
       "    </tr>\n",
       "  </tbody>\n",
       "</table>\n",
       "</div>"
      ],
      "text/plain": [
       "    Postcode                                    Address\n",
       "0      12683               Wulkower Straße 10, Biesdorf\n",
       "1      10247      Silvio-Meier-Straße 8, Friedrichshain\n",
       "2      10777               Welserstraße 14D, Schöneberg\n",
       "3      10713                     Barstraße, Wilmersdorf\n",
       "4      10719                  Fasanenplatz, Wilmersdorf\n",
       "5      12359                 Malchiner Straße 55, Britz\n",
       "6      12057                  Sonnenallee 289, Neukölln\n",
       "7      10785           Stauffenbergstraße 1, Tiergarten\n",
       "8      12043                   Donaustraße 94, Neukölln\n",
       "9      13595                Heerstraße 243, Pichelsdorf\n",
       "10     12053                  Morusstraße 18A, Neukölln\n",
       "11     10435        Choriner Straße 49, Prenzlauer Berg\n",
       "12     10119               Zehdenicker Straße 21, Mitte\n",
       "13     10245            Corinthstraße 7, Friedrichshain\n",
       "14     13597  Kolonie Tiefwerder Brücke 1, Wilhelmstadt\n",
       "15     12347                Alpenhöhe (43 - 47a), Britz\n",
       "16     10115                Zinnowitzer Straße 2, Mitte\n",
       "17     10717            Trautenaustraße 14, Wilmersdorf\n",
       "18     13585               Neumeisterstraße 5, Neustadt\n",
       "19     12057                  Sonnenallee 289, Neukölln\n",
       "20     16727                         Ebertstraße, Mitte"
      ]
     },
     "execution_count": 61,
     "metadata": {},
     "output_type": "execute_result"
    }
   ],
   "source": [
    "df_address"
   ]
  },
  {
   "cell_type": "code",
   "execution_count": 62,
   "metadata": {},
   "outputs": [],
   "source": [
    "df_r['Address'] = df_address['Address']"
   ]
  },
  {
   "cell_type": "code",
   "execution_count": 63,
   "metadata": {},
   "outputs": [],
   "source": [
    "df_r = df_r.sort_values(by=['Score']).reset_index()"
   ]
  },
  {
   "cell_type": "code",
   "execution_count": 64,
   "metadata": {},
   "outputs": [
    {
     "data": {
      "text/plain": [
       "(21, 7)"
      ]
     },
     "execution_count": 64,
     "metadata": {},
     "output_type": "execute_result"
    }
   ],
   "source": [
    "df_r.shape"
   ]
  },
  {
   "cell_type": "code",
   "execution_count": 65,
   "metadata": {},
   "outputs": [],
   "source": [
    "df_r = df_r.set_index('Address')"
   ]
  },
  {
   "cell_type": "code",
   "execution_count": 66,
   "metadata": {},
   "outputs": [
    {
     "data": {
      "text/html": [
       "<div>\n",
       "<style scoped>\n",
       "    .dataframe tbody tr th:only-of-type {\n",
       "        vertical-align: middle;\n",
       "    }\n",
       "\n",
       "    .dataframe tbody tr th {\n",
       "        vertical-align: top;\n",
       "    }\n",
       "\n",
       "    .dataframe thead th {\n",
       "        text-align: right;\n",
       "    }\n",
       "</style>\n",
       "<table border=\"1\" class=\"dataframe\">\n",
       "  <thead>\n",
       "    <tr style=\"text-align: right;\">\n",
       "      <th></th>\n",
       "      <th>index</th>\n",
       "      <th>Postcode</th>\n",
       "      <th>Price</th>\n",
       "      <th>Latitude</th>\n",
       "      <th>Longitude</th>\n",
       "      <th>Score</th>\n",
       "    </tr>\n",
       "    <tr>\n",
       "      <th>Address</th>\n",
       "      <th></th>\n",
       "      <th></th>\n",
       "      <th></th>\n",
       "      <th></th>\n",
       "      <th></th>\n",
       "      <th></th>\n",
       "    </tr>\n",
       "  </thead>\n",
       "  <tbody>\n",
       "    <tr>\n",
       "      <th>Zinnowitzer Straße 2, Mitte</th>\n",
       "      <td>16</td>\n",
       "      <td>10115</td>\n",
       "      <td>0.0</td>\n",
       "      <td>52.531570</td>\n",
       "      <td>13.383444</td>\n",
       "      <td>748.154426</td>\n",
       "    </tr>\n",
       "    <tr>\n",
       "      <th>Zehdenicker Straße 21, Mitte</th>\n",
       "      <td>12</td>\n",
       "      <td>10119</td>\n",
       "      <td>3000.0</td>\n",
       "      <td>52.530505</td>\n",
       "      <td>13.405483</td>\n",
       "      <td>1310.302883</td>\n",
       "    </tr>\n",
       "    <tr>\n",
       "      <th>Barstraße, Wilmersdorf</th>\n",
       "      <td>3</td>\n",
       "      <td>10713</td>\n",
       "      <td>3269.0</td>\n",
       "      <td>52.485240</td>\n",
       "      <td>13.311870</td>\n",
       "      <td>1353.984241</td>\n",
       "    </tr>\n",
       "    <tr>\n",
       "      <th>Ebertstraße, Mitte</th>\n",
       "      <td>20</td>\n",
       "      <td>16727</td>\n",
       "      <td>0.0</td>\n",
       "      <td>52.516040</td>\n",
       "      <td>13.376910</td>\n",
       "      <td>1382.880829</td>\n",
       "    </tr>\n",
       "    <tr>\n",
       "      <th>Fasanenplatz, Wilmersdorf</th>\n",
       "      <td>4</td>\n",
       "      <td>10719</td>\n",
       "      <td>5900.0</td>\n",
       "      <td>52.498245</td>\n",
       "      <td>13.327140</td>\n",
       "      <td>1390.663694</td>\n",
       "    </tr>\n",
       "  </tbody>\n",
       "</table>\n",
       "</div>"
      ],
      "text/plain": [
       "                              index  Postcode   Price   Latitude  Longitude  \\\n",
       "Address                                                                       \n",
       "Zinnowitzer Straße 2, Mitte      16     10115     0.0  52.531570  13.383444   \n",
       "Zehdenicker Straße 21, Mitte     12     10119  3000.0  52.530505  13.405483   \n",
       "Barstraße, Wilmersdorf            3     10713  3269.0  52.485240  13.311870   \n",
       "Ebertstraße, Mitte               20     16727     0.0  52.516040  13.376910   \n",
       "Fasanenplatz, Wilmersdorf         4     10719  5900.0  52.498245  13.327140   \n",
       "\n",
       "                                    Score  \n",
       "Address                                    \n",
       "Zinnowitzer Straße 2, Mitte    748.154426  \n",
       "Zehdenicker Straße 21, Mitte  1310.302883  \n",
       "Barstraße, Wilmersdorf        1353.984241  \n",
       "Ebertstraße, Mitte            1382.880829  \n",
       "Fasanenplatz, Wilmersdorf     1390.663694  "
      ]
     },
     "execution_count": 66,
     "metadata": {},
     "output_type": "execute_result"
    }
   ],
   "source": [
    "df_r.head()"
   ]
  },
  {
   "cell_type": "markdown",
   "metadata": {},
   "source": [
    "## 5. Results and discussions  <a name=\"Results and discussions\"></a>"
   ]
  },
  {
   "cell_type": "markdown",
   "metadata": {},
   "source": [
    "In this section, I will show some of the results obtained. I segmented the category features into five Clusters and I can see the **1st Most Common Venue** in each of these clusters, see the figure below, where shows the result of applying the **K-mean Clustering**. "
   ]
  },
  {
   "cell_type": "code",
   "execution_count": 67,
   "metadata": {},
   "outputs": [
    {
     "data": {
      "text/plain": [
       "Text(0, 0.5, 'Number of restaurants')"
      ]
     },
     "execution_count": 67,
     "metadata": {},
     "output_type": "execute_result"
    },
    {
     "data": {
      "image/png": "[encoded data removed]",
      "text/plain": [
       "<Figure size 1008x576 with 1 Axes>"
      ]
     },
     "metadata": {
      "needs_background": "light"
     },
     "output_type": "display_data"
    }
   ],
   "source": [
    "ax = berlin_merged['Cluster Labels'].value_counts().plot(kind='bar', figsize=(14,8), title=\"1st Most Common Venue in each clusters\")\n",
    "ax.set_xlabel(\"Clusters\")\n",
    "ax.set_ylabel(\"Number of restaurants\")"
   ]
  },
  {
   "cell_type": "markdown",
   "metadata": {},
   "source": [
    "I calculated the score of the available places to rent to the Japanese restaurants that already exist and to public transportation. The lower score more optimal is the place. The results are shown in the figure below. "
   ]
  },
  {
   "cell_type": "code",
   "execution_count": 68,
   "metadata": {},
   "outputs": [
    {
     "data": {
      "text/plain": [
       "Text(0, 0.5, 'Score [m]')"
      ]
     },
     "execution_count": 68,
     "metadata": {},
     "output_type": "execute_result"
    },
    {
     "data": {
      "image/png": "[encoded data removed]",
      "text/plain": [
       "<Figure size 1008x576 with 1 Axes>"
      ]
     },
     "metadata": {
      "needs_background": "light"
     },
     "output_type": "display_data"
    }
   ],
   "source": [
    "ax = df_r['Score'].plot(kind='bar', figsize=(14,8), title=\"Optimal places to rent a restaurant\")\n",
    "ax.set_xlabel(\"The lower is the score more optimal is the place\")\n",
    "ax.set_ylabel(\"Score [m]\")"
   ]
  },
  {
   "cell_type": "markdown",
   "metadata": {},
   "source": [
    "I will explore the results now using the `Folium map`. In the Berlin map below is showing the locations of each cluster and each type of the restaurant. It is also showing in the figure the optimal places (yellow points) with the score label in each point and including the public transportation, the city train - s-Bahn (green points) and the metro - U-Bahn (blue points)."
   ]
  },
  {
   "cell_type": "code",
   "execution_count": 69,
   "metadata": {},
   "outputs": [
    {
     "data": {
      "text/html": [
       "<div style=\"width:100%;\"><div style=\"position:relative;width:100%;height:0;padding-bottom:60%;\"><iframe src=\"data:text/html;charset=utf-8;base64,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\" style=\"position:absolute;width:100%;height:100%;left:0;top:0;border:none !important;\" allowfullscreen webkitallowfullscreen mozallowfullscreen></iframe></div></div>"
      ],
      "text/plain": [
       "<folium.folium.Map at 0x7f28a10d57b8>"
      ]
     },
     "execution_count": 69,
     "metadata": {},
     "output_type": "execute_result"
    }
   ],
   "source": [
    "#berlin_map = folium.Map(location=[berlin_latitude, berlin_longitude], zoom_start=10)\n",
    "# create map\n",
    "map_clusters = folium.Map(location=[berlin_latitude, berlin_longitude], zoom_start=11)\n",
    "# set color scheme for the clusters\n",
    "x = np.arange(kclusters)\n",
    "ys = [i + x + (i*x)**2 for i in range(kclusters)]\n",
    "colors_array = cm.rainbow(np.linspace(0, 1, len(ys)))\n",
    "rainbow = [colors.rgb2hex(i) for i in colors_array]\n",
    "\n",
    "places_rent = folium.map.FeatureGroup()\n",
    "\n",
    "# add markers to the map\n",
    "markers_colors = []\n",
    "for lat, lon, name, cluster in zip(berlin_merged['lat'], berlin_merged['lng'],berlin_merged['categories'], berlin_merged['Cluster Labels'] ):\n",
    "    label = folium.Popup('Cluster ' + str(cluster) +': ' + str(name), parse_html=True)\n",
    "    folium.CircleMarker(\n",
    "        [lat, lon],\n",
    "        radius=5,\n",
    "        popup=label,\n",
    "        color=rainbow[cluster-1],\n",
    "        fill=True,\n",
    "        fill_color=rainbow[cluster-1],\n",
    "        fill_opacity=0.7).add_to(map_clusters)\n",
    "    \n",
    "# add markers to map\n",
    "for lat, lng, label in zip(df_r['Latitude'], df_r['Longitude'], df_r['Score'] ):\n",
    "    #label = folium.Popup(label, parse_html=True)\n",
    "    label = folium.Popup(str(label),  parse_html=True)\n",
    "    folium.CircleMarker(\n",
    "        [lat, lng],\n",
    "        radius=5,\n",
    "        popup=label,\n",
    "        color='green',\n",
    "        fill=True,\n",
    "        fill_color='yellow',\n",
    "        fill_opacity=0.7,\n",
    "        parse_html=False).add_to(map_clusters)\n",
    "    \n",
    "# add markers to map\n",
    "for lat, lng, name in zip(df_s['lat'], df_s['lng'], df_s['name']):\n",
    "    #label = folium.Popup(label, parse_html=True)\n",
    "    label = folium.Popup(str(name),  parse_html=True)\n",
    "    folium.CircleMarker(\n",
    "        [lat, lng],\n",
    "        radius=3,\n",
    "        popup=label,\n",
    "        color='green',\n",
    "        fill=True,\n",
    "        fill_color='green',\n",
    "        fill_opacity=0.1,\n",
    "        parse_html=False).add_to(map_clusters) \n",
    "    \n",
    "    # add markers to map\n",
    "for lat, lng, name in zip(df_u['lat'], df_u['lng'], df_u['name']):\n",
    "    #label = folium.Popup(label, parse_html=True)\n",
    "    label = folium.Popup(str(name),  parse_html=True)\n",
    "    folium.CircleMarker(\n",
    "        [lat, lng],\n",
    "        radius=3,\n",
    "        popup=label,\n",
    "        color='blue',\n",
    "        fill=True,\n",
    "        fill_color='blue',\n",
    "        fill_opacity=0.1,\n",
    "        parse_html=False).add_to(map_clusters) \n",
    "\n",
    "map_clusters"
   ]
  },
  {
   "cell_type": "code",
   "execution_count": 70,
   "metadata": {},
   "outputs": [],
   "source": [
    "map_clusters.save('map_clusters.html')"
   ]
  },
  {
   "cell_type": "code",
   "execution_count": 71,
   "metadata": {},
   "outputs": [],
   "source": [
    "map_clusters.save('map_clusters.png')"
   ]
  },
  {
   "cell_type": "markdown",
   "metadata": {},
   "source": [
    "It could be interesting to increase the dataset with available places. Here it was used only one agency website to collect the data of available places in Berlin. "
   ]
  },
  {
   "cell_type": "markdown",
   "metadata": {},
   "source": [
    "## 6. Conclusions <a name=\"Results and discussions\"></a>"
   ]
  },
  {
   "cell_type": "markdown",
   "metadata": {},
   "source": [
    "In this data science project, I showed how to explore venues using Foursquare API and how to get latitudes and longitudes using Geocoder. I chose the Japanese restaurant category to explore Foursquare venues in the city of Berlin. \n",
    "\n",
    "I applied the Machine Learning algorithm K-means Clustering and I made segmentations of the types of Japanese restaurants. Therefore, It was possible to observe in the `Folium map` the locations of the restaurants in each of the clusters created. \n",
    "\n",
    "I collected prices of available places for opening a restaurant in Berlin and created a dataset. \n",
    "\n",
    "I calculated the score for locations that have a distance of approximately 300 m from Japanese restaurants that already exist and from public transportations, such as the city train and the metro of Berlin. In the end, I obtained the results of the optimal places to open a restaurant in Berlin."
   ]
  }
 ],
 "metadata": {
  "kernelspec": {
   "display_name": "Python 3",
   "language": "python",
   "name": "python3"
  },
  "language_info": {
   "codemirror_mode": {
    "name": "ipython",
    "version": 3
   },
   "file_extension": ".py",
   "mimetype": "text/x-python",
   "name": "python",
   "nbconvert_exporter": "python",
   "pygments_lexer": "ipython3",
   "version": "3.6.7"
  }
 },
 "nbformat": 4,
 "nbformat_minor": 4
}
